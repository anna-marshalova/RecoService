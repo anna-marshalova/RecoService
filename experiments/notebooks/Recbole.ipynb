{
 "cells": [
  {
   "cell_type": "markdown",
   "id": "XBWjIBzejqZG",
   "metadata": {
    "id": "XBWjIBzejqZG"
   },
   "source": [
    "# Подготовка"
   ]
  },
  {
   "cell_type": "code",
   "execution_count": 1,
   "id": "HFFesPwlIMNk",
   "metadata": {
    "colab": {
     "base_uri": "https://localhost:8080/"
    },
    "id": "HFFesPwlIMNk",
    "outputId": "636ad947-bcf0-4f1d-a362-31b3038b1d33"
   },
   "outputs": [
    {
     "name": "stdout",
     "output_type": "stream",
     "text": [
      "\u001b[2K     \u001b[90m━━━━━━━━━━━━━━━━━━━━━━━━━━━━━━━━━━━━━━━━\u001b[0m \u001b[32m2.1/2.1 MB\u001b[0m \u001b[31m23.0 MB/s\u001b[0m eta \u001b[36m0:00:00\u001b[0m\n",
      "\u001b[2K     \u001b[90m━━━━━━━━━━━━━━━━━━━━━━━━━━━━━━━━━━━━━━━━\u001b[0m \u001b[32m62.6/62.6 MB\u001b[0m \u001b[31m8.4 MB/s\u001b[0m eta \u001b[36m0:00:00\u001b[0m\n",
      "\u001b[?25h"
     ]
    }
   ],
   "source": [
    "!pip -q install recbole\n",
    "!pip -q install ray\n",
    "!pip -q install kmeans_pytorch"
   ]
  },
  {
   "cell_type": "code",
   "execution_count": 6,
   "id": "6de2c8bc",
   "metadata": {
    "id": "6de2c8bc"
   },
   "outputs": [],
   "source": [
    "import ast\n",
    "import json\n",
    "import logging\n",
    "import os\n",
    "import pickle\n",
    "import time\n",
    "import warnings\n",
    "from collections import Counter\n",
    "from logging import getLogger\n",
    "from pathlib import Path\n",
    "from random import randint, random\n",
    "\n",
    "import matplotlib.pyplot as plt\n",
    "import numpy as np\n",
    "import pandas as pd\n",
    "import torch\n",
    "from google.colab import drive\n",
    "from recbole.config import Config\n",
    "from recbole.data import create_dataset, data_preparation\n",
    "from recbole.data.interaction import Interaction\n",
    "from recbole.model.general_recommender.multivae import MultiVAE\n",
    "from recbole.model.sequential_recommender import Caser, GRU4Rec\n",
    "from recbole.quick_start import run_recbole\n",
    "from recbole.trainer import Trainer\n",
    "from recbole.utils import init_logger, init_seed\n",
    "from scipy.sparse import coo_matrix, hstack\n",
    "from sklearn.metrics.pairwise import (\n",
    "    cosine_distances,\n",
    "    cosine_similarity,\n",
    "    euclidean_distances,\n",
    ")"
   ]
  },
  {
   "cell_type": "code",
   "execution_count": 4,
   "id": "c54b3e92",
   "metadata": {
    "id": "c54b3e92"
   },
   "outputs": [],
   "source": [
    "warnings.filterwarnings(\"ignore\")"
   ]
  },
  {
   "cell_type": "code",
   "execution_count": 5,
   "id": "y6-NYSo2H1rf",
   "metadata": {
    "colab": {
     "base_uri": "https://localhost:8080/"
    },
    "id": "y6-NYSo2H1rf",
    "outputId": "ff162b2d-16a4-4e19-8a72-8afdde5f6dd5"
   },
   "outputs": [
    {
     "name": "stdout",
     "output_type": "stream",
     "text": [
      "Mounted at /content/drive\n"
     ]
    }
   ],
   "source": [
    "drive.mount(\"/content/drive\")"
   ]
  },
  {
   "cell_type": "markdown",
   "id": "5sMKNxVljuGs",
   "metadata": {
    "id": "5sMKNxVljuGs"
   },
   "source": [
    "# Загрузка данных"
   ]
  },
  {
   "cell_type": "code",
   "execution_count": 7,
   "id": "9052ce21",
   "metadata": {
    "id": "9052ce21"
   },
   "outputs": [],
   "source": [
    "DATA_PATH = Path(\"/content/drive/MyDrive/kion_train/\")\n",
    "users_df = pd.read_csv(DATA_PATH / \"users_processed_kion.csv\")\n",
    "items_df = pd.read_csv(DATA_PATH / \"items_processed_kion.csv\")\n",
    "interactions_df = pd.read_csv(DATA_PATH / \"interactions_processed_kion.csv\")"
   ]
  },
  {
   "cell_type": "code",
   "execution_count": 8,
   "id": "0b371b15",
   "metadata": {
    "id": "0b371b15"
   },
   "outputs": [],
   "source": [
    "interactions_df[\"t_dat\"] = pd.to_datetime(interactions_df[\"last_watch_dt\"], format=\"%Y-%m-%d\")\n",
    "interactions_df[\"timestamp\"] = interactions_df.t_dat.values.astype(np.int64) // 10**9"
   ]
  },
  {
   "cell_type": "code",
   "execution_count": 9,
   "id": "7f075c88",
   "metadata": {
    "id": "7f075c88"
   },
   "outputs": [],
   "source": [
    "df = interactions_df[[\"user_id\", \"item_id\", \"timestamp\"]].rename(\n",
    "    columns={\"user_id\": \"user_id:token\", \"item_id\": \"item_id:token\", \"timestamp\": \"timestamp:float\"}\n",
    ")"
   ]
  },
  {
   "cell_type": "code",
   "execution_count": 10,
   "id": "aab347ea",
   "metadata": {
    "id": "aab347ea"
   },
   "outputs": [],
   "source": [
    "!mkdir recbox_data"
   ]
  },
  {
   "cell_type": "code",
   "execution_count": 11,
   "id": "dff1fa1b",
   "metadata": {
    "id": "dff1fa1b"
   },
   "outputs": [],
   "source": [
    "df.to_csv(\"recbox_data/recbox_data.inter\", index=False, sep=\"\\t\")"
   ]
  },
  {
   "cell_type": "markdown",
   "id": "QII-AFy9j6Ea",
   "metadata": {
    "id": "QII-AFy9j6Ea"
   },
   "source": [
    "# Пайплайн обучения"
   ]
  },
  {
   "cell_type": "markdown",
   "id": "gbQnA3TEj-Uq",
   "metadata": {
    "id": "gbQnA3TEj-Uq"
   },
   "source": [
    "## Создание и разделение датасета"
   ]
  },
  {
   "cell_type": "code",
   "execution_count": 12,
   "id": "a4b97bdc",
   "metadata": {
    "colab": {
     "base_uri": "https://localhost:8080/"
    },
    "id": "a4b97bdc",
    "outputId": "0f0a1a26-1cc9-4604-dd64-06fb5baf376d"
   },
   "outputs": [
    {
     "name": "stderr",
     "output_type": "stream",
     "text": [
      "WARNING:root:command line args [-f /root/.local/share/jupyter/runtime/kernel-e637dc08-eb08-400c-bdd1-985da351bdb4.json] will not be used in RecBole\n"
     ]
    }
   ],
   "source": [
    "parameter_dict = {\n",
    "    \"data_path\": \"\",\n",
    "    \"USER_ID_FIELD\": \"user_id\",\n",
    "    \"ITEM_ID_FIELD\": \"item_id\",\n",
    "    \"TIME_FIELD\": \"timestamp\",\n",
    "    \"device\": \"GPU\",\n",
    "    \"user_inter_num_interval\": \"[40,inf)\",\n",
    "    \"item_inter_num_interval\": \"[40,inf)\",\n",
    "    \"load_col\": {\"inter\": [\"user_id\", \"item_id\", \"timestamp\"]},\n",
    "    \"neg_sampling\": None,\n",
    "    \"epochs\": 10,\n",
    "    \"eval_args\": {\"split\": {\"RS\": [9, 0, 1]}, \"group_by\": \"user\", \"order\": \"TO\", \"mode\": \"full\"},\n",
    "}\n",
    "config = Config(model=\"MultiVAE\", dataset=\"recbox_data\", config_dict=parameter_dict)\n",
    "\n",
    "# init random seed\n",
    "init_seed(config[\"seed\"], config[\"reproducibility\"])\n",
    "\n",
    "# logger initialization\n",
    "init_logger(config)\n",
    "logger = getLogger()\n",
    "# Create handlers\n",
    "c_handler = logging.StreamHandler()\n",
    "c_handler.setLevel(logging.INFO)\n",
    "logger.addHandler(c_handler)\n",
    "\n",
    "# write config info into log\n",
    "# logger.info(config)"
   ]
  },
  {
   "cell_type": "code",
   "execution_count": 13,
   "id": "d6d18eea",
   "metadata": {
    "id": "d6d18eea"
   },
   "outputs": [],
   "source": [
    "dataset = create_dataset(config)\n",
    "logger.info(dataset)"
   ]
  },
  {
   "cell_type": "code",
   "execution_count": 14,
   "id": "66706c2e",
   "metadata": {
    "id": "66706c2e"
   },
   "outputs": [],
   "source": [
    "# dataset splitting\n",
    "train_data, valid_data, test_data = data_preparation(config, dataset)"
   ]
  },
  {
   "cell_type": "markdown",
   "id": "x9Q47VvIkKZ6",
   "metadata": {
    "id": "x9Q47VvIkKZ6"
   },
   "source": [
    "## Эксперименты"
   ]
  },
  {
   "cell_type": "code",
   "execution_count": null,
   "id": "5f5ae775",
   "metadata": {
    "colab": {
     "base_uri": "https://localhost:8080/"
    },
    "id": "5f5ae775",
    "outputId": "40747e88-807e-4adb-f0e3-77d0a179fe31",
    "scrolled": true
   },
   "outputs": [
    {
     "name": "stdout",
     "output_type": "stream",
     "text": [
      "running MultiVAE...\n"
     ]
    },
    {
     "name": "stderr",
     "output_type": "stream",
     "text": [
      "WARNING:root:command line args [-f /root/.local/share/jupyter/runtime/kernel-c328e929-21bd-4408-99c5-fe4453ec6084.json] will not be used in RecBole\n",
      "command line args [-f /root/.local/share/jupyter/runtime/kernel-c328e929-21bd-4408-99c5-fe4453ec6084.json] will not be used in RecBole\n",
      "WARNING:root:Max value of user's history interaction records has reached 20.9471766848816% of the total.\n",
      "Max value of user's history interaction records has reached 20.9471766848816% of the total.\n",
      "Train     0: 100%|████████████████████████████████████████████████████| 7/7 [00:06<00:00,  1.03it/s]\n",
      "Train     1: 100%|████████████████████████████████████████████████████| 7/7 [00:09<00:00,  1.29s/it]\n",
      "Train     2: 100%|████████████████████████████████████████████████████| 7/7 [00:06<00:00,  1.09it/s]\n",
      "Train     3: 100%|████████████████████████████████████████████████████| 7/7 [00:08<00:00,  1.18s/it]\n",
      "Train     4: 100%|████████████████████████████████████████████████████| 7/7 [00:06<00:00,  1.01it/s]\n",
      "Train     5: 100%|████████████████████████████████████████████████████| 7/7 [00:07<00:00,  1.04s/it]\n",
      "Train     6: 100%|████████████████████████████████████████████████████| 7/7 [00:08<00:00,  1.14s/it]\n",
      "Train     7: 100%|████████████████████████████████████████████████████| 7/7 [00:06<00:00,  1.14it/s]\n",
      "Train     8: 100%|████████████████████████████████████████████████████| 7/7 [00:09<00:00,  1.29s/it]\n",
      "Train     9: 100%|████████████████████████████████████████████████████| 7/7 [00:06<00:00,  1.13it/s]\n",
      "Evaluate   : 100%|███████████████████████████████████████████| 13354/13354 [00:46<00:00, 284.47it/s]\n"
     ]
    },
    {
     "name": "stdout",
     "output_type": "stream",
     "text": [
      "It took 3.09 mins\n",
      "{'best_valid_score': -inf, 'valid_score_bigger': True, 'best_valid_result': None, 'test_result': OrderedDict([('recall@10', 0.084), ('mrr@10', 0.1695), ('ndcg@10', 0.0825), ('hit@10', 0.3503), ('precision@10', 0.0467)])}\n",
      "running MultiDAE...\n"
     ]
    },
    {
     "name": "stderr",
     "output_type": "stream",
     "text": [
      "WARNING:root:command line args [-f /root/.local/share/jupyter/runtime/kernel-c328e929-21bd-4408-99c5-fe4453ec6084.json] will not be used in RecBole\n",
      "command line args [-f /root/.local/share/jupyter/runtime/kernel-c328e929-21bd-4408-99c5-fe4453ec6084.json] will not be used in RecBole\n",
      "WARNING:root:Max value of user's history interaction records has reached 20.9471766848816% of the total.\n",
      "Max value of user's history interaction records has reached 20.9471766848816% of the total.\n",
      "Train     0: 100%|████████████████████████████████████████████████████| 7/7 [00:06<00:00,  1.09it/s]\n",
      "Train     1: 100%|████████████████████████████████████████████████████| 7/7 [00:08<00:00,  1.22s/it]\n",
      "Train     2: 100%|████████████████████████████████████████████████████| 7/7 [00:06<00:00,  1.05it/s]\n",
      "Train     3: 100%|████████████████████████████████████████████████████| 7/7 [00:07<00:00,  1.01s/it]\n",
      "Train     4: 100%|████████████████████████████████████████████████████| 7/7 [00:07<00:00,  1.12s/it]\n",
      "Train     5: 100%|████████████████████████████████████████████████████| 7/7 [00:07<00:00,  1.09s/it]\n",
      "Train     6: 100%|████████████████████████████████████████████████████| 7/7 [00:11<00:00,  1.58s/it]\n",
      "Train     7: 100%|████████████████████████████████████████████████████| 7/7 [00:06<00:00,  1.08it/s]\n",
      "Train     8: 100%|████████████████████████████████████████████████████| 7/7 [00:08<00:00,  1.28s/it]\n",
      "Train     9: 100%|████████████████████████████████████████████████████| 7/7 [00:06<00:00,  1.12it/s]\n",
      "Evaluate   : 100%|███████████████████████████████████████████| 13354/13354 [00:51<00:00, 260.49it/s]\n"
     ]
    },
    {
     "name": "stdout",
     "output_type": "stream",
     "text": [
      "It took 3.22 mins\n",
      "{'best_valid_score': -inf, 'valid_score_bigger': True, 'best_valid_result': None, 'test_result': OrderedDict([('recall@10', 0.0829), ('mrr@10', 0.1655), ('ndcg@10', 0.081), ('hit@10', 0.3438), ('precision@10', 0.0459)])}\n",
      "running MacridVAE...\n"
     ]
    },
    {
     "name": "stderr",
     "output_type": "stream",
     "text": [
      "WARNING:root:command line args [-f /root/.local/share/jupyter/runtime/kernel-c328e929-21bd-4408-99c5-fe4453ec6084.json] will not be used in RecBole\n",
      "command line args [-f /root/.local/share/jupyter/runtime/kernel-c328e929-21bd-4408-99c5-fe4453ec6084.json] will not be used in RecBole\n",
      "WARNING:root:Max value of user's history interaction records has reached 20.9471766848816% of the total.\n",
      "Max value of user's history interaction records has reached 20.9471766848816% of the total.\n",
      "Train     0: 100%|████████████████████████████████████████████████████| 7/7 [00:56<00:00,  8.13s/it]\n",
      "Train     1: 100%|████████████████████████████████████████████████████| 7/7 [00:55<00:00,  7.90s/it]\n",
      "Train     2: 100%|████████████████████████████████████████████████████| 7/7 [00:55<00:00,  7.88s/it]\n",
      "Train     3: 100%|████████████████████████████████████████████████████| 7/7 [00:54<00:00,  7.78s/it]\n",
      "Train     4: 100%|████████████████████████████████████████████████████| 7/7 [00:54<00:00,  7.76s/it]\n",
      "Train     5: 100%|████████████████████████████████████████████████████| 7/7 [00:55<00:00,  7.88s/it]\n",
      "Train     6: 100%|████████████████████████████████████████████████████| 7/7 [00:53<00:00,  7.67s/it]\n",
      "Train     7: 100%|████████████████████████████████████████████████████| 7/7 [00:54<00:00,  7.72s/it]\n",
      "Train     8: 100%|████████████████████████████████████████████████████| 7/7 [00:59<00:00,  8.45s/it]\n",
      "Train     9: 100%|████████████████████████████████████████████████████| 7/7 [00:56<00:00,  8.04s/it]\n",
      "Evaluate   : 100%|████████████████████████████████████████████| 13354/13354 [03:51<00:00, 57.57it/s]\n"
     ]
    },
    {
     "name": "stdout",
     "output_type": "stream",
     "text": [
      "It took 14.20 mins\n",
      "{'best_valid_score': -inf, 'valid_score_bigger': True, 'best_valid_result': None, 'test_result': OrderedDict([('recall@10', 0.0835), ('mrr@10', 0.1574), ('ndcg@10', 0.0788), ('hit@10', 0.3499), ('precision@10', 0.0461)])}\n",
      "running NeuMF...\n"
     ]
    },
    {
     "name": "stderr",
     "output_type": "stream",
     "text": [
      "WARNING:root:command line args [-f /root/.local/share/jupyter/runtime/kernel-c328e929-21bd-4408-99c5-fe4453ec6084.json] will not be used in RecBole\n",
      "command line args [-f /root/.local/share/jupyter/runtime/kernel-c328e929-21bd-4408-99c5-fe4453ec6084.json] will not be used in RecBole\n",
      "Train     0: 100%|████████████████████████████████████████████████| 755/755 [00:50<00:00, 14.96it/s]\n",
      "Train     1: 100%|████████████████████████████████████████████████| 755/755 [00:49<00:00, 15.25it/s]\n",
      "Train     2: 100%|████████████████████████████████████████████████| 755/755 [00:49<00:00, 15.17it/s]\n",
      "Train     3: 100%|████████████████████████████████████████████████| 755/755 [00:50<00:00, 15.05it/s]\n",
      "Train     4: 100%|████████████████████████████████████████████████| 755/755 [00:54<00:00, 13.87it/s]\n",
      "Train     5: 100%|████████████████████████████████████████████████| 755/755 [00:51<00:00, 14.80it/s]\n",
      "Train     6: 100%|████████████████████████████████████████████████| 755/755 [00:50<00:00, 14.90it/s]\n",
      "Train     7: 100%|████████████████████████████████████████████████| 755/755 [00:50<00:00, 14.94it/s]\n",
      "Train     8: 100%|████████████████████████████████████████████████| 755/755 [00:50<00:00, 14.83it/s]\n",
      "Train     9: 100%|████████████████████████████████████████████████| 755/755 [00:50<00:00, 14.95it/s]\n",
      "Evaluate   : 100%|███████████████████████████████████████████| 13354/13354 [01:58<00:00, 112.28it/s]\n"
     ]
    },
    {
     "name": "stdout",
     "output_type": "stream",
     "text": [
      "It took 11.54 mins\n",
      "{'best_valid_score': -inf, 'valid_score_bigger': True, 'best_valid_result': None, 'test_result': OrderedDict([('recall@10', 0.069), ('mrr@10', 0.1173), ('ndcg@10', 0.0605), ('hit@10', 0.3009), ('precision@10', 0.0381)])}\n",
      "running RecVAE...\n"
     ]
    },
    {
     "name": "stderr",
     "output_type": "stream",
     "text": [
      "WARNING:root:command line args [-f /root/.local/share/jupyter/runtime/kernel-c328e929-21bd-4408-99c5-fe4453ec6084.json] will not be used in RecBole\n",
      "command line args [-f /root/.local/share/jupyter/runtime/kernel-c328e929-21bd-4408-99c5-fe4453ec6084.json] will not be used in RecBole\n",
      "WARNING:root:Max value of user's history interaction records has reached 20.9471766848816% of the total.\n",
      "Max value of user's history interaction records has reached 20.9471766848816% of the total.\n",
      "Train     0: 100%|████████████████████████████████████████████████████| 7/7 [00:12<00:00,  1.84s/it]\n",
      "Train     0: 100%|████████████████████████████████████████████████████| 7/7 [00:12<00:00,  1.79s/it]\n",
      "Train     0: 100%|████████████████████████████████████████████████████| 7/7 [00:10<00:00,  1.50s/it]\n",
      "Train     0: 100%|████████████████████████████████████████████████████| 7/7 [00:12<00:00,  1.81s/it]\n",
      "Train     1: 100%|████████████████████████████████████████████████████| 7/7 [00:12<00:00,  1.85s/it]\n",
      "Train     1: 100%|████████████████████████████████████████████████████| 7/7 [00:10<00:00,  1.50s/it]\n",
      "Train     1: 100%|████████████████████████████████████████████████████| 7/7 [00:12<00:00,  1.79s/it]\n",
      "Train     1: 100%|████████████████████████████████████████████████████| 7/7 [00:12<00:00,  1.81s/it]\n",
      "Train     2: 100%|████████████████████████████████████████████████████| 7/7 [00:11<00:00,  1.61s/it]\n",
      "Train     2: 100%|████████████████████████████████████████████████████| 7/7 [00:11<00:00,  1.69s/it]\n",
      "Train     2: 100%|████████████████████████████████████████████████████| 7/7 [00:12<00:00,  1.85s/it]\n",
      "Train     2: 100%|████████████████████████████████████████████████████| 7/7 [00:15<00:00,  2.26s/it]\n",
      "Train     3: 100%|████████████████████████████████████████████████████| 7/7 [00:10<00:00,  1.48s/it]\n",
      "Train     3: 100%|████████████████████████████████████████████████████| 7/7 [00:12<00:00,  1.84s/it]\n",
      "Train     3: 100%|████████████████████████████████████████████████████| 7/7 [00:12<00:00,  1.84s/it]\n",
      "Train     3: 100%|████████████████████████████████████████████████████| 7/7 [00:10<00:00,  1.45s/it]\n",
      "Train     4: 100%|████████████████████████████████████████████████████| 7/7 [00:12<00:00,  1.81s/it]\n",
      "Train     4: 100%|████████████████████████████████████████████████████| 7/7 [00:12<00:00,  1.84s/it]\n",
      "Train     4: 100%|████████████████████████████████████████████████████| 7/7 [00:11<00:00,  1.60s/it]\n",
      "Train     4: 100%|████████████████████████████████████████████████████| 7/7 [00:11<00:00,  1.69s/it]\n",
      "Train     5: 100%|████████████████████████████████████████████████████| 7/7 [00:13<00:00,  1.86s/it]\n",
      "Train     5: 100%|████████████████████████████████████████████████████| 7/7 [00:11<00:00,  1.69s/it]\n",
      "Train     5: 100%|████████████████████████████████████████████████████| 7/7 [00:11<00:00,  1.63s/it]\n",
      "Train     5: 100%|████████████████████████████████████████████████████| 7/7 [00:12<00:00,  1.82s/it]\n",
      "Train     6: 100%|████████████████████████████████████████████████████| 7/7 [00:12<00:00,  1.80s/it]\n",
      "Train     6: 100%|████████████████████████████████████████████████████| 7/7 [00:10<00:00,  1.52s/it]\n",
      "Train     6: 100%|████████████████████████████████████████████████████| 7/7 [00:12<00:00,  1.85s/it]\n",
      "Train     6: 100%|████████████████████████████████████████████████████| 7/7 [00:12<00:00,  1.83s/it]\n",
      "Train     7: 100%|████████████████████████████████████████████████████| 7/7 [00:10<00:00,  1.49s/it]\n",
      "Train     7: 100%|████████████████████████████████████████████████████| 7/7 [00:12<00:00,  1.79s/it]\n",
      "Train     7: 100%|████████████████████████████████████████████████████| 7/7 [00:12<00:00,  1.84s/it]\n",
      "Train     7: 100%|████████████████████████████████████████████████████| 7/7 [00:10<00:00,  1.52s/it]\n",
      "Train     8: 100%|████████████████████████████████████████████████████| 7/7 [00:12<00:00,  1.73s/it]\n",
      "Train     8: 100%|████████████████████████████████████████████████████| 7/7 [00:12<00:00,  1.85s/it]\n",
      "Train     8: 100%|████████████████████████████████████████████████████| 7/7 [00:12<00:00,  1.72s/it]\n",
      "Train     8: 100%|████████████████████████████████████████████████████| 7/7 [00:10<00:00,  1.57s/it]\n",
      "Train     9: 100%|████████████████████████████████████████████████████| 7/7 [00:12<00:00,  1.84s/it]\n",
      "Train     9: 100%|████████████████████████████████████████████████████| 7/7 [00:12<00:00,  1.75s/it]\n",
      "Train     9: 100%|████████████████████████████████████████████████████| 7/7 [00:10<00:00,  1.53s/it]\n",
      "Train     9: 100%|████████████████████████████████████████████████████| 7/7 [00:12<00:00,  1.82s/it]\n",
      "Evaluate   : 100%|███████████████████████████████████████████| 13354/13354 [00:56<00:00, 234.30it/s]\n"
     ]
    },
    {
     "name": "stdout",
     "output_type": "stream",
     "text": [
      "It took 10.08 mins\n",
      "{'best_valid_score': -inf, 'valid_score_bigger': True, 'best_valid_result': None, 'test_result': OrderedDict([('recall@10', 0.0849), ('mrr@10', 0.1697), ('ndcg@10', 0.0828), ('hit@10', 0.3532), ('precision@10', 0.047)])}\n",
      "CPU times: user 40min 15s, sys: 56.3 s, total: 41min 11s\n",
      "Wall time: 42min 8s\n"
     ]
    }
   ],
   "source": [
    "%%time\n",
    "model_list = [\"MultiVAE\", \"MultiDAE\", \"MacridVAE\", \"NeuMF\", \"RecVAE\"]\n",
    "\n",
    "for model_name in model_list:\n",
    "    print(f\"running {model_name}...\")\n",
    "    start = time.time()\n",
    "    result = run_recbole(model=model_name, dataset=\"recbox_data\", config_dict=parameter_dict)\n",
    "    t = time.time() - start\n",
    "    print(f\"It took {t/60:.2f} mins\")\n",
    "    print(result)"
   ]
  },
  {
   "cell_type": "markdown",
   "id": "d3H19uvGkOqS",
   "metadata": {
    "id": "d3H19uvGkOqS"
   },
   "source": [
    "# Получение предсказаний для сервиса"
   ]
  },
  {
   "cell_type": "markdown",
   "id": "du1VJoOrjIb8",
   "metadata": {
    "id": "du1VJoOrjIb8"
   },
   "source": [
    "Лучшей моделью по всем метрикам оказалась `MultiVAE`."
   ]
  },
  {
   "cell_type": "code",
   "execution_count": 15,
   "id": "02f721d5",
   "metadata": {
    "colab": {
     "base_uri": "https://localhost:8080/"
    },
    "id": "02f721d5",
    "outputId": "c152f3c3-5150-40e7-b35e-06b7b440257b"
   },
   "outputs": [
    {
     "name": "stderr",
     "output_type": "stream",
     "text": [
      "WARNING:root:command line args [-f /root/.local/share/jupyter/runtime/kernel-e637dc08-eb08-400c-bdd1-985da351bdb4.json] will not be used in RecBole\n",
      "command line args [-f /root/.local/share/jupyter/runtime/kernel-e637dc08-eb08-400c-bdd1-985da351bdb4.json] will not be used in RecBole\n",
      "WARNING:root:Max value of user's history interaction records has reached 20.9471766848816% of the total.\n",
      "Max value of user's history interaction records has reached 20.9471766848816% of the total.\n",
      "Train     0: 100%|████████████████████████████████████████████████████| 7/7 [00:06<00:00,  1.07it/s]\n",
      "Train     1: 100%|████████████████████████████████████████████████████| 7/7 [00:08<00:00,  1.16s/it]\n",
      "Train     2: 100%|████████████████████████████████████████████████████| 7/7 [00:05<00:00,  1.26it/s]\n",
      "Train     3: 100%|████████████████████████████████████████████████████| 7/7 [00:07<00:00,  1.02s/it]\n",
      "Train     4: 100%|████████████████████████████████████████████████████| 7/7 [00:07<00:00,  1.02s/it]\n",
      "Train     5: 100%|████████████████████████████████████████████████████| 7/7 [00:05<00:00,  1.27it/s]\n",
      "Train     6: 100%|████████████████████████████████████████████████████| 7/7 [00:09<00:00,  1.29s/it]\n",
      "Train     7: 100%|████████████████████████████████████████████████████| 7/7 [00:07<00:00,  1.06s/it]\n",
      "Train     8: 100%|████████████████████████████████████████████████████| 7/7 [00:05<00:00,  1.27it/s]\n",
      "Train     9: 100%|████████████████████████████████████████████████████| 7/7 [00:08<00:00,  1.16s/it]\n",
      "Evaluate   : 100%|███████████████████████████████████████████| 13354/13354 [00:39<00:00, 340.26it/s]\n"
     ]
    }
   ],
   "source": [
    "result = run_recbole(model=\"MultiVAE\", dataset=\"recbox_data\", config_dict=parameter_dict)"
   ]
  },
  {
   "cell_type": "code",
   "execution_count": 16,
   "id": "D8UDPOWjkVIq",
   "metadata": {
    "colab": {
     "base_uri": "https://localhost:8080/"
    },
    "id": "D8UDPOWjkVIq",
    "outputId": "6e94c511-445c-4454-d54f-929ce7cc3f90",
    "scrolled": true
   },
   "outputs": [
    {
     "data": {
      "text/plain": [
       "{'best_valid_score': -inf,\n",
       " 'valid_score_bigger': True,\n",
       " 'best_valid_result': None,\n",
       " 'test_result': OrderedDict([('recall@10', 0.084),\n",
       "              ('mrr@10', 0.1695),\n",
       "              ('ndcg@10', 0.0825),\n",
       "              ('hit@10', 0.3503),\n",
       "              ('precision@10', 0.0467)])}"
      ]
     },
     "execution_count": 16,
     "metadata": {},
     "output_type": "execute_result"
    }
   ],
   "source": [
    "result"
   ]
  },
  {
   "cell_type": "code",
   "execution_count": 22,
   "id": "GRtv4mOKo3BD",
   "metadata": {
    "colab": {
     "base_uri": "https://localhost:8080/"
    },
    "id": "GRtv4mOKo3BD",
    "outputId": "2c041aa1-c2e1-4415-9f50-d93b078a0b18"
   },
   "outputs": [
    {
     "name": "stderr",
     "output_type": "stream",
     "text": [
      "WARNING:root:Max value of user's history interaction records has reached 23.254401942926535% of the total.\n",
      "Max value of user's history interaction records has reached 23.254401942926535% of the total.\n"
     ]
    },
    {
     "data": {
      "text/plain": [
       "<All keys matched successfully>"
      ]
     },
     "execution_count": 22,
     "metadata": {},
     "output_type": "execute_result"
    }
   ],
   "source": [
    "model = MultiVAE(config, dataset)\n",
    "checkpoint = torch.load(\"/content/saved/MultiVAE-Dec-09-2023_17-14-56.pth\")\n",
    "model.load_state_dict(checkpoint[\"state_dict\"])"
   ]
  },
  {
   "cell_type": "code",
   "execution_count": 113,
   "id": "w3LfAKjBqavv",
   "metadata": {
    "id": "w3LfAKjBqavv"
   },
   "outputs": [],
   "source": [
    "def recommend_to_user(external_user_id, dataset, model):\n",
    "    if (\n",
    "        external_user_id in dataset.field2token_id[dataset.uid_field]\n",
    "        and external_user_id != \"[PAD]\"\n",
    "    ):\n",
    "        model.eval()\n",
    "        with torch.no_grad():\n",
    "            uid_series = dataset.token2id(dataset.uid_field, [external_user_id])\n",
    "            index = np.isin(dataset[dataset.uid_field].numpy(), uid_series)\n",
    "            new_inter = dataset[index]\n",
    "            new_inter = new_inter.to(config[\"device\"])\n",
    "            new_scores = model.full_sort_predict(new_inter)\n",
    "            new_scores = new_scores.view(-1, test_data.dataset.item_num)\n",
    "            new_scores[:, 0] = -np.inf\n",
    "            recommended_item_indices = torch.topk(new_scores, 10).indices[0].tolist()\n",
    "            recos = dataset.id2token(dataset.iid_field, [recommended_item_indices]).tolist()\n",
    "        return recos\n",
    "    return []"
   ]
  },
  {
   "cell_type": "code",
   "execution_count": 114,
   "id": "nZLGysaspRau",
   "metadata": {
    "id": "nZLGysaspRau"
   },
   "outputs": [],
   "source": [
    "recos = {}\n",
    "users = dataset.field2token_id[dataset.uid_field]\n",
    "for user_id in users:\n",
    "    recos_for_user = recommend_to_user(user_id, dataset, model)\n",
    "    if recos_for_user:\n",
    "        recos.update({user_id: recos_for_user[0]})"
   ]
  },
  {
   "cell_type": "code",
   "execution_count": 122,
   "id": "F5KRkUQYxqyU",
   "metadata": {
    "id": "F5KRkUQYxqyU"
   },
   "outputs": [],
   "source": [
    "with open(\"/content/drive/MyDrive/recsys/MultiVAE_recos.json\", \"w\") as jf:\n",
    "    json.dump(recos, jf)"
   ]
  }
 ],
 "metadata": {
  "colab": {
   "collapsed_sections": [
    "x9Q47VvIkKZ6"
   ],
   "provenance": []
  },
  "kernelspec": {
   "display_name": "Python 3 (ipykernel)",
   "language": "python",
   "name": "python3"
  },
  "language_info": {
   "codemirror_mode": {
    "name": "ipython",
    "version": 3
   },
   "file_extension": ".py",
   "mimetype": "text/x-python",
   "name": "python",
   "nbconvert_exporter": "python",
   "pygments_lexer": "ipython3",
   "version": "3.10.12"
  },
  "papermill": {
   "default_parameters": {},
   "duration": 27491.154881,
   "end_time": "2022-11-28T00:11:27.624787",
   "environment_variables": {},
   "exception": null,
   "input_path": "__notebook__.ipynb",
   "output_path": "__notebook__.ipynb",
   "parameters": {},
   "start_time": "2022-11-27T16:33:16.469906",
   "version": "2.3.4"
  }
 },
 "nbformat": 4,
 "nbformat_minor": 5
}
