{
 "cells": [
  {
   "cell_type": "markdown",
   "metadata": {
    "id": "e-7t2Od17OdB"
   },
   "source": [
    "# Preparations"
   ]
  },
  {
   "cell_type": "code",
   "execution_count": 1,
   "metadata": {
    "colab": {
     "base_uri": "https://localhost:8080/"
    },
    "id": "dKId_m4r6_F8",
    "outputId": "d6d25feb-1c26-48c1-b906-8cf688958777"
   },
   "outputs": [
    {
     "name": "stdout",
     "output_type": "stream",
     "text": [
      "\u001b[2K     \u001b[90m━━━━━━━━━━━━━━━━━━━━━━━━━━━━━━━━━━━━━━━━\u001b[0m \u001b[32m8.9/8.9 MB\u001b[0m \u001b[31m21.2 MB/s\u001b[0m eta \u001b[36m0:00:00\u001b[0m\n",
      "\u001b[2K     \u001b[90m━━━━━━━━━━━━━━━━━━━━━━━━━━━━━━━━━━━━━━━━\u001b[0m \u001b[32m102.5/102.5 kB\u001b[0m \u001b[31m1.8 MB/s\u001b[0m eta \u001b[36m0:00:00\u001b[0m\n",
      "\u001b[2K     \u001b[90m━━━━━━━━━━━━━━━━━━━━━━━━━━━━━━━━━━━━━━━━\u001b[0m \u001b[32m316.4/316.4 kB\u001b[0m \u001b[31m8.2 MB/s\u001b[0m eta \u001b[36m0:00:00\u001b[0m\n",
      "\u001b[?25h  Preparing metadata (setup.py) ... \u001b[?25l\u001b[?25hdone\n",
      "  Building wheel for lightfm (setup.py) ... \u001b[?25l\u001b[?25hdone\n",
      "\u001b[2K     \u001b[90m━━━━━━━━━━━━━━━━━━━━━━━━━━━━━━━━━━━━━━━━\u001b[0m \u001b[32m188.7/188.7 kB\u001b[0m \u001b[31m4.1 MB/s\u001b[0m eta \u001b[36m0:00:00\u001b[0m\n",
      "\u001b[?25h  Preparing metadata (setup.py) ... \u001b[?25l\u001b[?25hdone\n",
      "  Building wheel for nmslib (setup.py) ... \u001b[?25l\u001b[?25hdone\n",
      "\u001b[2K     \u001b[90m━━━━━━━━━━━━━━━━━━━━━━━━━━━━━━━━━━━━━━━━\u001b[0m \u001b[32m409.6/409.6 kB\u001b[0m \u001b[31m5.2 MB/s\u001b[0m eta \u001b[36m0:00:00\u001b[0m\n",
      "\u001b[2K     \u001b[90m━━━━━━━━━━━━━━━━━━━━━━━━━━━━━━━━━━━━━━━━\u001b[0m \u001b[32m230.6/230.6 kB\u001b[0m \u001b[31m7.9 MB/s\u001b[0m eta \u001b[36m0:00:00\u001b[0m\n",
      "\u001b[2K     \u001b[90m━━━━━━━━━━━━━━━━━━━━━━━━━━━━━━━━━━━━━━━━\u001b[0m \u001b[32m78.6/78.6 kB\u001b[0m \u001b[31m5.3 MB/s\u001b[0m eta \u001b[36m0:00:00\u001b[0m\n",
      "\u001b[?25h"
     ]
    }
   ],
   "source": [
    "!pip -q install implicit\n",
    "!pip -q install rectools==0.4.2\n",
    "!pip -q install lightfm\n",
    "!pip -q install nmslib\n",
    "!pip -q install optuna"
   ]
  },
  {
   "cell_type": "code",
   "execution_count": 2,
   "metadata": {
    "colab": {
     "base_uri": "https://localhost:8080/"
    },
    "id": "7CN2P-GgC3l9",
    "outputId": "41517c76-cd06-4dee-c694-2ef927a2f79f"
   },
   "outputs": [
    {
     "data": {
      "text/plain": [
       "True"
      ]
     },
     "execution_count": 2,
     "metadata": {},
     "output_type": "execute_result"
    }
   ],
   "source": [
    "import implicit\n",
    "\n",
    "implicit.gpu.HAS_CUDA"
   ]
  },
  {
   "cell_type": "code",
   "execution_count": 3,
   "metadata": {
    "colab": {
     "base_uri": "https://localhost:8080/"
    },
    "id": "E9IA8FD07RUV",
    "outputId": "64f62de5-88d5-48bb-a428-d18c9b5da920"
   },
   "outputs": [
    {
     "name": "stdout",
     "output_type": "stream",
     "text": [
      "Mounted at /content/drive\n"
     ]
    }
   ],
   "source": [
    "from google.colab import drive\n",
    "\n",
    "drive.mount(\"/content/drive\")"
   ]
  },
  {
   "cell_type": "code",
   "execution_count": 4,
   "metadata": {
    "id": "jwo9DCoG7XDz"
   },
   "outputs": [],
   "source": [
    "import os\n",
    "\n",
    "os.environ[\"OPENBLAS_NUM_THREADS\"] = \"1\"  # For implicit ALS\n",
    "import warnings\n",
    "\n",
    "warnings.filterwarnings(\"ignore\")"
   ]
  },
  {
   "cell_type": "code",
   "execution_count": 5,
   "metadata": {
    "id": "P96m2yLc7Y6h"
   },
   "outputs": [],
   "source": [
    "import typing as tp\n",
    "from pathlib import Path\n",
    "\n",
    "import matplotlib.pyplot as plt\n",
    "import numpy as np\n",
    "import pandas as pd\n",
    "import seaborn as sns\n",
    "from implicit.als import AlternatingLeastSquares\n",
    "from implicit.bpr import BayesianPersonalizedRanking\n",
    "from implicit.lmf import LogisticMatrixFactorization\n",
    "from lightfm import LightFM\n",
    "from rectools import Columns\n",
    "from rectools.dataset import Dataset\n",
    "from rectools.metrics import (\n",
    "    MAP,\n",
    "    NDCG,\n",
    "    MeanInvUserFreq,\n",
    "    Precision,\n",
    "    Recall,\n",
    "    Serendipity,\n",
    "    calc_metrics,\n",
    ")\n",
    "from rectools.model_selection import TimeRangeSplitter, cross_validate\n",
    "from rectools.models import ImplicitALSWrapperModel, LightFMWrapperModel, PopularModel\n",
    "from rectools.tools import UserToItemAnnRecommender\n",
    "from tqdm import tqdm"
   ]
  },
  {
   "cell_type": "markdown",
   "metadata": {
    "id": "twsVRfXL7aUH"
   },
   "source": [
    "# Loading data"
   ]
  },
  {
   "cell_type": "code",
   "execution_count": 6,
   "metadata": {
    "id": "aUwH0CYw7c7X"
   },
   "outputs": [],
   "source": [
    "DATA_PATH = Path(\"/content/drive/MyDrive/kion_train/\")\n",
    "users = pd.read_csv(DATA_PATH / \"users.csv\")\n",
    "items = pd.read_csv(DATA_PATH / \"items.csv\")\n",
    "interactions = pd.read_csv(DATA_PATH / \"interactions.csv\")"
   ]
  },
  {
   "cell_type": "code",
   "execution_count": 7,
   "metadata": {
    "id": "dkYp54Mf7gxv"
   },
   "outputs": [],
   "source": [
    "Columns.Datetime = \"last_watch_dt\"\n",
    "interactions.drop(interactions[interactions[Columns.Datetime].str.len() != 10].index, inplace=True)\n",
    "interactions[Columns.Datetime] = pd.to_datetime(interactions[Columns.Datetime], format=\"%Y-%m-%d\")\n",
    "max_date = interactions[Columns.Datetime].max()\n",
    "interactions[Columns.Weight] = np.where(interactions[\"watched_pct\"] > 10, 3, 1)"
   ]
  },
  {
   "cell_type": "code",
   "execution_count": 8,
   "metadata": {
    "colab": {
     "base_uri": "https://localhost:8080/"
    },
    "id": "9g24olmy7kjH",
    "outputId": "86747066-ad14-4426-a12d-f163315cd11a"
   },
   "outputs": [
    {
     "name": "stdout",
     "output_type": "stream",
     "text": [
      "train: (3832711, 6)\n",
      "test: (333026, 6)\n"
     ]
    }
   ],
   "source": [
    "# разделим датасет на три части: на валидации будем подбирать гиперпараметры, на тесте финально сравнивать модели\n",
    "train = interactions[interactions[Columns.Datetime] < max_date - pd.Timedelta(days=7)].copy()\n",
    "test = interactions[interactions[Columns.Datetime] >= max_date - pd.Timedelta(days=7)].copy()\n",
    "\n",
    "train.drop(train.query(\"total_dur < 300\").index, inplace=True)\n",
    "\n",
    "# отфильтруем холодных пользователей\n",
    "cold_users = set(test[Columns.User]) - set(train[Columns.User])\n",
    "test.drop(test[test[Columns.User].isin(cold_users)].index, inplace=True)\n",
    "\n",
    "TEST_USERS = test[Columns.User].unique()\n",
    "\n",
    "print(f\"train: {train.shape}\")\n",
    "print(f\"test: {test.shape}\")"
   ]
  },
  {
   "cell_type": "markdown",
   "metadata": {
    "id": "7rI1mo-4uOfj"
   },
   "source": [
    "## Preparing features"
   ]
  },
  {
   "cell_type": "code",
   "execution_count": 9,
   "metadata": {
    "execution": {
     "iopub.execute_input": "2023-11-29T06:54:13.548063Z",
     "iopub.status.busy": "2023-11-29T06:54:13.547063Z",
     "iopub.status.idle": "2023-11-29T06:54:13.862063Z",
     "shell.execute_reply": "2023-11-29T06:54:13.862063Z",
     "shell.execute_reply.started": "2023-11-29T06:54:13.548063Z"
    },
    "id": "K3F_39HFuOfj"
   },
   "outputs": [],
   "source": [
    "def get_user_features(users: pd.DataFrame, interactions: pd.DataFrame, features: tp.List[str]):\n",
    "    users.fillna(\"Unknown\", inplace=True)\n",
    "    users = users.loc[users[Columns.User].isin(interactions[Columns.User])].copy()\n",
    "    user_features_frames = []\n",
    "    for feature in features:\n",
    "        feature_frame = users.reindex(columns=[Columns.User, feature])\n",
    "        feature_frame.columns = [\"id\", \"value\"]\n",
    "        feature_frame[\"feature\"] = feature\n",
    "        user_features_frames.append(feature_frame)\n",
    "    user_features = pd.concat(user_features_frames)\n",
    "    return user_features"
   ]
  },
  {
   "cell_type": "code",
   "execution_count": 10,
   "metadata": {
    "id": "eDlXPQeH7945"
   },
   "outputs": [],
   "source": [
    "user_features = get_user_features(users, train, [\"sex\", \"age\", \"income\"])"
   ]
  },
  {
   "cell_type": "code",
   "execution_count": 11,
   "metadata": {
    "id": "ifExU8668WDg"
   },
   "outputs": [],
   "source": [
    "def get_item_features(items: pd.DataFrame, interactions: pd.DataFrame):\n",
    "    items = items.loc[items[Columns.Item].isin(interactions[Columns.Item])].copy()\n",
    "    items[\"genre\"] = items[\"genres\"].str.lower().str.replace(\", \", \",\", regex=False).str.split(\",\")\n",
    "    genre_feature = items[[\"item_id\", \"genre\"]].explode(\"genre\")\n",
    "    genre_feature.columns = [\"id\", \"value\"]\n",
    "    genre_feature[\"feature\"] = \"genre\"\n",
    "    content_feature = items.reindex(columns=[Columns.Item, \"content_type\"])\n",
    "    content_feature.columns = [\"id\", \"value\"]\n",
    "    content_feature[\"feature\"] = \"content_type\"\n",
    "    item_features = pd.concat((genre_feature, content_feature))\n",
    "    return item_features"
   ]
  },
  {
   "cell_type": "code",
   "execution_count": 12,
   "metadata": {
    "id": "K_hhMKZ282oN"
   },
   "outputs": [],
   "source": [
    "item_features = get_item_features(items, train)"
   ]
  },
  {
   "cell_type": "markdown",
   "metadata": {
    "id": "i-t9zyJJEsAi"
   },
   "source": [
    "## Constructing the dataset"
   ]
  },
  {
   "cell_type": "code",
   "execution_count": 13,
   "metadata": {
    "id": "TbdF17Uz9llM"
   },
   "outputs": [],
   "source": [
    "dataset = Dataset.construct(\n",
    "    interactions_df=train,\n",
    "    user_features_df=user_features,\n",
    "    cat_user_features=[\"sex\", \"age\", \"income\"],\n",
    "    item_features_df=item_features,\n",
    "    cat_item_features=[\"genre\", \"content_type\"],\n",
    ")"
   ]
  },
  {
   "cell_type": "markdown",
   "metadata": {
    "id": "EHJxXLR1896O"
   },
   "source": [
    "# Hyperparam tuning"
   ]
  },
  {
   "cell_type": "code",
   "execution_count": 14,
   "metadata": {
    "id": "78xTqvka9glS"
   },
   "outputs": [],
   "source": [
    "import optuna\n",
    "from optuna.samplers import TPESampler\n",
    "\n",
    "optuna.logging.set_verbosity(optuna.logging.INFO)"
   ]
  },
  {
   "cell_type": "code",
   "execution_count": 15,
   "metadata": {
    "id": "b3HnNVMr9YRz"
   },
   "outputs": [],
   "source": [
    "K_RECOS = 10\n",
    "RANDOM_STATE = 42\n",
    "N_EPOCHS = 1  # Lightfm"
   ]
  },
  {
   "cell_type": "code",
   "execution_count": 16,
   "metadata": {
    "id": "xHsdC8r49ohx"
   },
   "outputs": [],
   "source": [
    "def ALS_objective(trial, dataset, train, test):\n",
    "    test_users = test[Columns.User].unique()\n",
    "    metrics = {\"MAP@10\": MAP(k=10)}\n",
    "    factors = trial.suggest_categorical(\"n_factors\", [8, 16, 32])\n",
    "    num_threads = trial.suggest_int(\"num_threads\", 1, 3)\n",
    "    fit_features_together = trial.suggest_categorical(\"fit_features_together\", [True, False])\n",
    "\n",
    "    model = ImplicitALSWrapperModel(\n",
    "        model=AlternatingLeastSquares(\n",
    "            factors=factors,\n",
    "            random_state=RANDOM_STATE,\n",
    "            num_threads=num_threads,\n",
    "        ),\n",
    "        fit_features_together=fit_features_together,\n",
    "    )\n",
    "\n",
    "    model.fit(dataset)\n",
    "    recos = model.recommend(\n",
    "        users=test_users,\n",
    "        dataset=dataset,\n",
    "        k=K_RECOS,\n",
    "        filter_viewed=True,\n",
    "    )\n",
    "    metric_values = calc_metrics(metrics, recos, test, train)\n",
    "    return metric_values[\"MAP@10\"]"
   ]
  },
  {
   "cell_type": "code",
   "execution_count": 17,
   "metadata": {
    "colab": {
     "base_uri": "https://localhost:8080/",
     "height": 785,
     "referenced_widgets": [
      "b827168367984755926ade0933d30efc",
      "d8838c6ca4ca43119ed03677d931356d",
      "6fb6ee033ba44678b5e289545a11c9fa",
      "1e15f4ab297141e1ad4391cc616711e2",
      "7a931288af0b441da601ad03bd3cd0c3",
      "b8932210e88c4e14827bf492487c8f86",
      "84c73fe7ef8840a0972b5130debc7f7a",
      "15fd11e95d434e09845e830ba33373a5",
      "b662f6c0cc004e4699c0882f092f2442",
      "a500a7de73894013a31860f8b691205c",
      "ee95016b8e894e8c9a64df35fbcd9811",
      "9eff1c6d76b649fd9f5e2af36033b8b4",
      "7273e14956f340c58cde5f662e6a3eaa",
      "b16f237bbdbf4f6887ab33755a178917",
      "67f4b2308b5a409cb910a083af9367df",
      "fcb7c826b7214abcaff934ec1b207124",
      "dc7a2a818e22467a89f285eee72ee6ae",
      "0f805253d2d44d428cabcdc9a074d638",
      "a777f14e907a4aad971f5b0ed3b4b6cc",
      "b34a88fbb14e461889b8cb4c3603fae6",
      "6a85a51dbdf34e41a9f79f5ce8ebafe9",
      "b788237f5b19493982d6f55c0f582db1",
      "0116b2ec75d24633beaeb9c0b27503aa",
      "753c12fb4703448e92fb448e694a06d6",
      "37a0a675876b43bf81db77d3263fbc63",
      "f94616abd2c2458982636ee87c7c4eaf",
      "3aebefebb6434dd2a1f317828c3a441d",
      "67f8d49b795848fa91e6b576810e3a55",
      "c9e1dfcc3dd34560ac6c264100871017",
      "140bf17e7a584768b304246b2b9939e9",
      "8af50305ed194e53bc608e53320c66eb",
      "5a6eb57e0ac2462397c1afa1cdb6ea71",
      "5716cd54b2154d4aaf9e11b6c45fff6d",
      "531b947e40c84ad095bb40f1fb39003f",
      "a3ea3e9ff0b649aeb55067555f2e6d7a",
      "5dfcc164442241ef9475c5ad72ebec0c",
      "d7f199923d9441f9b65969cd9db5a47e",
      "b64885f45edf4526b6c6a666c575c78a",
      "90e1c95de5754ac19fd52268132d929c",
      "a8833faf746440d3b9d031bc8f0de5f5",
      "1cca4b0201884a00a98cfb1557e2602c",
      "bb19a0e6212a437996a964750be49f1e",
      "602b138e5f3343d1a6e938b88a94de02",
      "4fa7dd16ea6047c391e831e93514588f",
      "28df28c5dc794380b6bc56d6506b362e",
      "1acd5346f007422e8549dc81323c31f0",
      "785065852c814b1c94d34e77251ea3e7",
      "9ae490272b5d4522ad39fd258274cd79",
      "50094d5d7acd4914813f2dc9a5e640d1",
      "3a9ae342ed084c949ceca5f02287efca",
      "3eb3b7bc8ca64ea9981b94c51f4d8fa7",
      "5f61fe73b7554c3392100841e5fbf382",
      "7bfb9f7cbbcf426286ea8b466143863e",
      "44fb89bb455f437a8d3e15b94f5446ed",
      "59018a447c534faea588e54fdb57e011",
      "62d89e7d965e42669cead78986145be5",
      "630ef32cb0a64bd9980aa37f26aa917b",
      "8abe616e13fd478d99e630e45dca1a84",
      "f50accf64c584ff68faecce15e9dc3b2",
      "b87381b9000145ed806e1ddbfb515b8e",
      "f6d5dafc1c20402183e1fc1174826f70",
      "b05716f75bad443788dbc3c730826db3",
      "d1e93fc7a20a4d0fabdc9b277913f5c5",
      "0f91995839404a9691068e505293d160",
      "1dec3742380847dba5314d6f035fcd9b",
      "70c331d2e4924b89a81b1893b07125e8",
      "b14068916386432f926ed5852c77b269",
      "034c0d2e1c284087ab41ddc7474a7e7e",
      "4630aadcb1fb4476b0f3c8abf6344940",
      "87bb2df68d1f42139e00cd6dc2ed4dca",
      "49ce96169ec04106ad5eca8c91b54565",
      "2155a3413eee4a088d2cb500b056d463",
      "05f949b1d1704152b1537037b6ee8d69",
      "249e223ad1f54d9e8422ff5b88f43c1f",
      "b14dce167ee84c278d9b1b3fce444662",
      "9f991b19c5814c729d53fc7a3959d5ef",
      "18073f4390b5428b83525d82674de23d",
      "f792f0e168974a98b46a2b508b571521",
      "7b03fa75a6124578bbc22fb8ab5b406a",
      "7b086003b46e4536aabc82032882a947",
      "ffced1375fcf4beea980bb4314fbb8f8",
      "bb18583e8a184d07b70ab80355e59c62",
      "322da07ef65445eb848b48d313ec469c",
      "e6ef729fa45e4b7aa84e60a2fa166db5",
      "b1ffafa1cb00497da2df561688c2725c",
      "33d2d6d3c9e44c5d8e671cef11b23bb2",
      "b4dc67b4d76b43388574d70bdc4ff262",
      "c43924a4be674468bdcaa2b04985bb0f",
      "af1bcaacfe644cdab9ab436e6014ec68",
      "ffbd947bb87442c3815c90fab84260fb",
      "17aecd346ec6456faf4b58acaa06691e",
      "6dbbe013d0fc4eefa49617704d192a3e",
      "492a8acb87ff4431aa0aa0666b3b5968",
      "ac6996b8e39542be9af6ab798bc242fa",
      "52e2fd39a5fb4401a09735f4029e8b4c",
      "00ccb1d8da644d6bb14cc441e3e594fa",
      "4ff79465973b45859e4cd6c565dad1bd",
      "221977e202c94b1781165088500165dd",
      "77191aa403384836bedf76105e469de8",
      "4738449f97df429192ab6a9c71a03f98",
      "0a35e9870df54e91b6569dadd1eb2dba",
      "c153373240f34f62abbaae1f8e5ff3ad",
      "988de274468b466ebe5a4791f97b0f19",
      "29bc025d613d48fdae715f87c598683a",
      "65d6845c504146e2b55dd6a1aeb2c042",
      "5a0d319f983c4e51a728e61a38c3b3c4",
      "b227ab874e644c5a854f712c91e3a8fc",
      "0ed3957e6be0445e81bc490efb181c97",
      "310e117ee6ae44569e510513860afb2a",
      "88060151dc68490aa97ca78ddf3a226e",
      "3b54cb3b7c6f4bdd94a5d79db70c0210",
      "0b7d514cff9440fda29afbd5577dcce0",
      "484fe4fb240540238b7e24721af8e45b",
      "c689e98e10b44e9ea1d706990ba366c4",
      "eec310268a7f4d1d91f54a3e6cfb4f4b",
      "594ea27eaa5140adbb15cbed0c6b2662",
      "f38fc1f9394c47a792ada9ca13fc27c0",
      "9074a60384e447289016af89d81786e9",
      "52a6ec223bc04d65a8d39e036c806b88",
      "73eb97b7cdc64f73850dcfc82835418e",
      "952dfb6fa6f04641a8e0a3bed65ee3c5",
      "bc88c29677e74d7aacf11d764fdae491",
      "e608eee4ccec441fb6f5e68d9eb4e254",
      "648831708b154acaa8ffcd5b203544f2",
      "ea980ec6d7c04c2ab410c75aca1c2aa5",
      "beb2f0290cfb479b9ee96465892f6d8c",
      "97f6252ba4614c3da7032a2845bb4f2c",
      "368c96e8f9f84e2eaa90d6a4c483d0f9",
      "e276011d3a054a2c83d8fe09642a8eda",
      "f81f0c1a16074de8b1a48f6020eda158",
      "f50250a1efc641fb817be7f715ea3b22",
      "dcfa1cb9db7941a3b74be43d1376472d"
     ]
    },
    "id": "5pXpPYCF9ufL",
    "outputId": "da8f19ca-b220-4d6f-ce31-0d4146c3098d"
   },
   "outputs": [
    {
     "name": "stderr",
     "output_type": "stream",
     "text": [
      "[I 2023-12-03 07:02:22,844] A new study created in memory with name: ALS\n",
      "[I 2023-12-03 07:03:15,914] Trial 0 finished with value: 0.0747821510746944 and parameters: {'n_factors': 16, 'num_threads': 1, 'fit_features_together': True}. Best is trial 0 with value: 0.0747821510746944.\n"
     ]
    },
    {
     "data": {
      "application/vnd.jupyter.widget-view+json": {
       "model_id": "b827168367984755926ade0933d30efc",
       "version_major": 2,
       "version_minor": 0
      },
      "text/plain": [
       "  0%|          | 0/1 [00:00<?, ?it/s]"
      ]
     },
     "metadata": {},
     "output_type": "display_data"
    },
    {
     "data": {
      "application/vnd.jupyter.widget-view+json": {
       "model_id": "9eff1c6d76b649fd9f5e2af36033b8b4",
       "version_major": 2,
       "version_minor": 0
      },
      "text/plain": [
       "  0%|          | 0/1 [00:00<?, ?it/s]"
      ]
     },
     "metadata": {},
     "output_type": "display_data"
    },
    {
     "name": "stderr",
     "output_type": "stream",
     "text": [
      "[I 2023-12-03 07:03:56,642] Trial 1 finished with value: 0.06377260428766873 and parameters: {'n_factors': 32, 'num_threads': 2, 'fit_features_together': False}. Best is trial 0 with value: 0.0747821510746944.\n"
     ]
    },
    {
     "data": {
      "application/vnd.jupyter.widget-view+json": {
       "model_id": "0116b2ec75d24633beaeb9c0b27503aa",
       "version_major": 2,
       "version_minor": 0
      },
      "text/plain": [
       "  0%|          | 0/1 [00:00<?, ?it/s]"
      ]
     },
     "metadata": {},
     "output_type": "display_data"
    },
    {
     "data": {
      "application/vnd.jupyter.widget-view+json": {
       "model_id": "531b947e40c84ad095bb40f1fb39003f",
       "version_major": 2,
       "version_minor": 0
      },
      "text/plain": [
       "  0%|          | 0/1 [00:00<?, ?it/s]"
      ]
     },
     "metadata": {},
     "output_type": "display_data"
    },
    {
     "name": "stderr",
     "output_type": "stream",
     "text": [
      "[I 2023-12-03 07:04:35,295] Trial 2 finished with value: 0.06271005183571061 and parameters: {'n_factors': 16, 'num_threads': 3, 'fit_features_together': False}. Best is trial 0 with value: 0.0747821510746944.\n"
     ]
    },
    {
     "data": {
      "application/vnd.jupyter.widget-view+json": {
       "model_id": "28df28c5dc794380b6bc56d6506b362e",
       "version_major": 2,
       "version_minor": 0
      },
      "text/plain": [
       "  0%|          | 0/1 [00:00<?, ?it/s]"
      ]
     },
     "metadata": {},
     "output_type": "display_data"
    },
    {
     "data": {
      "application/vnd.jupyter.widget-view+json": {
       "model_id": "62d89e7d965e42669cead78986145be5",
       "version_major": 2,
       "version_minor": 0
      },
      "text/plain": [
       "  0%|          | 0/1 [00:00<?, ?it/s]"
      ]
     },
     "metadata": {},
     "output_type": "display_data"
    },
    {
     "name": "stderr",
     "output_type": "stream",
     "text": [
      "[I 2023-12-03 07:05:15,590] Trial 3 finished with value: 0.0637717592370744 and parameters: {'n_factors': 32, 'num_threads': 3, 'fit_features_together': False}. Best is trial 0 with value: 0.0747821510746944.\n"
     ]
    },
    {
     "data": {
      "application/vnd.jupyter.widget-view+json": {
       "model_id": "b14068916386432f926ed5852c77b269",
       "version_major": 2,
       "version_minor": 0
      },
      "text/plain": [
       "  0%|          | 0/1 [00:00<?, ?it/s]"
      ]
     },
     "metadata": {},
     "output_type": "display_data"
    },
    {
     "data": {
      "application/vnd.jupyter.widget-view+json": {
       "model_id": "f792f0e168974a98b46a2b508b571521",
       "version_major": 2,
       "version_minor": 0
      },
      "text/plain": [
       "  0%|          | 0/1 [00:00<?, ?it/s]"
      ]
     },
     "metadata": {},
     "output_type": "display_data"
    },
    {
     "name": "stderr",
     "output_type": "stream",
     "text": [
      "[I 2023-12-03 07:05:53,042] Trial 4 finished with value: 0.06271355127206106 and parameters: {'n_factors': 16, 'num_threads': 1, 'fit_features_together': False}. Best is trial 0 with value: 0.0747821510746944.\n",
      "[I 2023-12-03 07:06:45,207] Trial 5 finished with value: 0.07556742809915605 and parameters: {'n_factors': 32, 'num_threads': 2, 'fit_features_together': True}. Best is trial 5 with value: 0.07556742809915605.\n",
      "[I 2023-12-03 07:07:35,299] Trial 6 finished with value: 0.07496779804610657 and parameters: {'n_factors': 16, 'num_threads': 3, 'fit_features_together': True}. Best is trial 5 with value: 0.07556742809915605.\n",
      "[I 2023-12-03 07:08:25,563] Trial 7 finished with value: 0.07501180947984408 and parameters: {'n_factors': 16, 'num_threads': 2, 'fit_features_together': True}. Best is trial 5 with value: 0.07556742809915605.\n"
     ]
    },
    {
     "data": {
      "application/vnd.jupyter.widget-view+json": {
       "model_id": "af1bcaacfe644cdab9ab436e6014ec68",
       "version_major": 2,
       "version_minor": 0
      },
      "text/plain": [
       "  0%|          | 0/1 [00:00<?, ?it/s]"
      ]
     },
     "metadata": {},
     "output_type": "display_data"
    },
    {
     "data": {
      "application/vnd.jupyter.widget-view+json": {
       "model_id": "4738449f97df429192ab6a9c71a03f98",
       "version_major": 2,
       "version_minor": 0
      },
      "text/plain": [
       "  0%|          | 0/1 [00:00<?, ?it/s]"
      ]
     },
     "metadata": {},
     "output_type": "display_data"
    },
    {
     "name": "stderr",
     "output_type": "stream",
     "text": [
      "[I 2023-12-03 07:09:04,136] Trial 8 finished with value: 0.0693735515675699 and parameters: {'n_factors': 8, 'num_threads': 3, 'fit_features_together': False}. Best is trial 5 with value: 0.07556742809915605.\n"
     ]
    },
    {
     "data": {
      "application/vnd.jupyter.widget-view+json": {
       "model_id": "3b54cb3b7c6f4bdd94a5d79db70c0210",
       "version_major": 2,
       "version_minor": 0
      },
      "text/plain": [
       "  0%|          | 0/1 [00:00<?, ?it/s]"
      ]
     },
     "metadata": {},
     "output_type": "display_data"
    },
    {
     "data": {
      "application/vnd.jupyter.widget-view+json": {
       "model_id": "bc88c29677e74d7aacf11d764fdae491",
       "version_major": 2,
       "version_minor": 0
      },
      "text/plain": [
       "  0%|          | 0/1 [00:00<?, ?it/s]"
      ]
     },
     "metadata": {},
     "output_type": "display_data"
    },
    {
     "name": "stderr",
     "output_type": "stream",
     "text": [
      "[I 2023-12-03 07:09:44,667] Trial 9 finished with value: 0.06376552759889925 and parameters: {'n_factors': 32, 'num_threads': 1, 'fit_features_together': False}. Best is trial 5 with value: 0.07556742809915605.\n",
      "[I 2023-12-03 07:10:31,891] Trial 10 finished with value: 0.0748282843304979 and parameters: {'n_factors': 8, 'num_threads': 2, 'fit_features_together': True}. Best is trial 5 with value: 0.07556742809915605.\n",
      "[I 2023-12-03 07:11:25,208] Trial 11 finished with value: 0.07484846953149593 and parameters: {'n_factors': 32, 'num_threads': 2, 'fit_features_together': True}. Best is trial 5 with value: 0.07556742809915605.\n",
      "[I 2023-12-03 07:12:15,463] Trial 12 finished with value: 0.07504440537346238 and parameters: {'n_factors': 16, 'num_threads': 2, 'fit_features_together': True}. Best is trial 5 with value: 0.07556742809915605.\n",
      "[I 2023-12-03 07:13:07,911] Trial 13 finished with value: 0.07516940053884456 and parameters: {'n_factors': 32, 'num_threads': 2, 'fit_features_together': True}. Best is trial 5 with value: 0.07556742809915605.\n",
      "[I 2023-12-03 07:13:59,844] Trial 14 finished with value: 0.0750611553787833 and parameters: {'n_factors': 32, 'num_threads': 2, 'fit_features_together': True}. Best is trial 5 with value: 0.07556742809915605.\n",
      "[I 2023-12-03 07:14:52,158] Trial 15 finished with value: 0.0743071383459146 and parameters: {'n_factors': 32, 'num_threads': 1, 'fit_features_together': True}. Best is trial 5 with value: 0.07556742809915605.\n",
      "[I 2023-12-03 07:15:45,138] Trial 16 finished with value: 0.07624975066200858 and parameters: {'n_factors': 32, 'num_threads': 2, 'fit_features_together': True}. Best is trial 16 with value: 0.07624975066200858.\n",
      "[I 2023-12-03 07:16:33,476] Trial 17 finished with value: 0.06349999898395592 and parameters: {'n_factors': 8, 'num_threads': 3, 'fit_features_together': True}. Best is trial 16 with value: 0.07624975066200858.\n",
      "[I 2023-12-03 07:17:26,628] Trial 18 finished with value: 0.07491409900345318 and parameters: {'n_factors': 32, 'num_threads': 1, 'fit_features_together': True}. Best is trial 16 with value: 0.07624975066200858.\n",
      "[I 2023-12-03 07:18:18,625] Trial 19 finished with value: 0.0744635231318116 and parameters: {'n_factors': 32, 'num_threads': 2, 'fit_features_together': True}. Best is trial 16 with value: 0.07624975066200858.\n"
     ]
    }
   ],
   "source": [
    "sampler = TPESampler(seed=1)\n",
    "study = optuna.create_study(study_name=\"ALS\", direction=\"maximize\", sampler=sampler)\n",
    "study.optimize(lambda trial: ALS_objective(trial, dataset, train, test), n_trials=20)"
   ]
  },
  {
   "cell_type": "code",
   "execution_count": 18,
   "metadata": {
    "id": "V8jYjdLX9UKK"
   },
   "outputs": [],
   "source": [
    "def lightfm_objective(trial, dataset, train, test):\n",
    "    test_users = test[Columns.User].unique()\n",
    "    metrics = {\"MAP@10\": MAP(k=10)}\n",
    "    no_components = trial.suggest_categorical(\"n_factors\", [8, 16, 32, 64])\n",
    "    loss = trial.suggest_categorical(\"loss\", [\"logistic\", \"bpr\", \"warp\"])\n",
    "    learning_rate = trial.suggest_float(\"lr\", 1e-3, 1e-1, log=True)\n",
    "    num_threads = trial.suggest_int(\"num_threads\", 1, 3)\n",
    "    user_alpha = trial.suggest_float(\"user_alpha\", 0, 1)\n",
    "    item_alpha = trial.suggest_float(\"item_alpha\", 0, 1)\n",
    "\n",
    "    model = LightFMWrapperModel(\n",
    "        LightFM(\n",
    "            no_components=no_components,\n",
    "            loss=loss,\n",
    "            random_state=RANDOM_STATE,\n",
    "            learning_rate=learning_rate,\n",
    "            user_alpha=user_alpha,\n",
    "            item_alpha=item_alpha,\n",
    "        ),\n",
    "        epochs=N_EPOCHS,\n",
    "        num_threads=num_threads,\n",
    "    )\n",
    "\n",
    "    model.fit(dataset)\n",
    "    recos = model.recommend(\n",
    "        users=test_users,\n",
    "        dataset=dataset,\n",
    "        k=K_RECOS,\n",
    "        filter_viewed=True,\n",
    "    )\n",
    "    metric_values = calc_metrics(metrics, recos, test, train)\n",
    "    return metric_values[\"MAP@10\"]"
   ]
  },
  {
   "cell_type": "code",
   "execution_count": 19,
   "metadata": {
    "colab": {
     "base_uri": "https://localhost:8080/"
    },
    "id": "orTNh3N39ZKT",
    "outputId": "917b496d-ae9c-4a83-b8cb-72e80c754dee"
   },
   "outputs": [
    {
     "name": "stderr",
     "output_type": "stream",
     "text": [
      "[I 2023-12-03 07:18:18,648] A new study created in memory with name: lightFM\n",
      "[I 2023-12-03 07:19:30,634] Trial 0 finished with value: 0.07652084279251593 and parameters: {'n_factors': 16, 'loss': 'warp', 'lr': 0.0049104518184659674, 'num_threads': 2, 'user_alpha': 0.538816734003357, 'item_alpha': 0.4191945144032948}. Best is trial 0 with value: 0.07652084279251593.\n",
      "[I 2023-12-03 07:20:14,577] Trial 1 finished with value: 0.00019192744523331218 and parameters: {'n_factors': 32, 'loss': 'logistic', 'lr': 0.0019088591198098556, 'num_threads': 1, 'user_alpha': 0.8007445686755367, 'item_alpha': 0.9682615757193975}. Best is trial 0 with value: 0.07652084279251593.\n",
      "[I 2023-12-03 07:22:29,709] Trial 2 finished with value: 0.06494712932354058 and parameters: {'n_factors': 64, 'loss': 'warp', 'lr': 0.05705385668376793, 'num_threads': 1, 'user_alpha': 0.42110762500505217, 'item_alpha': 0.9578895301505019}. Best is trial 0 with value: 0.07652084279251593.\n",
      "[I 2023-12-03 07:24:40,795] Trial 3 finished with value: 0.0002054146275820358 and parameters: {'n_factors': 16, 'loss': 'logistic', 'lr': 0.09499968774647323, 'num_threads': 3, 'user_alpha': 0.2804439920644052, 'item_alpha': 0.7892793284514885}. Best is trial 0 with value: 0.07652084279251593.\n",
      "[I 2023-12-03 07:25:34,272] Trial 4 finished with value: 0.00019194014211668675 and parameters: {'n_factors': 32, 'loss': 'logistic', 'lr': 0.02278615597544787, 'num_threads': 1, 'user_alpha': 0.2655466593722262, 'item_alpha': 0.4915731592803383}. Best is trial 0 with value: 0.07652084279251593.\n",
      "[I 2023-12-03 07:27:27,422] Trial 5 finished with value: 0.0001808211880992186 and parameters: {'n_factors': 64, 'loss': 'logistic', 'lr': 0.02447937444286876, 'num_threads': 2, 'user_alpha': 0.04995345894608716, 'item_alpha': 0.5358964059155116}. Best is trial 0 with value: 0.07652084279251593.\n",
      "[I 2023-12-03 07:30:11,221] Trial 6 finished with value: 0.00015656596392048805 and parameters: {'n_factors': 32, 'loss': 'logistic', 'lr': 0.04118912607048067, 'num_threads': 2, 'user_alpha': 0.16535419711693278, 'item_alpha': 0.9275085803960339}. Best is trial 0 with value: 0.07652084279251593.\n",
      "[I 2023-12-03 07:31:18,487] Trial 7 finished with value: 3.901786446091362e-07 and parameters: {'n_factors': 64, 'loss': 'bpr', 'lr': 0.0034662172842139733, 'num_threads': 3, 'user_alpha': 0.4280911898712949, 'item_alpha': 0.9648400471483856}. Best is trial 0 with value: 0.07652084279251593.\n",
      "[I 2023-12-03 07:32:19,511] Trial 8 finished with value: 0.05752131453607747 and parameters: {'n_factors': 64, 'loss': 'bpr', 'lr': 0.002978886528949497, 'num_threads': 3, 'user_alpha': 0.5736794866722859, 'item_alpha': 0.00287032703115897}. Best is trial 0 with value: 0.07652084279251593.\n",
      "[I 2023-12-03 07:33:28,354] Trial 9 finished with value: 0.00308697440125897 and parameters: {'n_factors': 64, 'loss': 'bpr', 'lr': 0.001075579424452462, 'num_threads': 3, 'user_alpha': 0.690896917516924, 'item_alpha': 0.9973228504514805}. Best is trial 0 with value: 0.07652084279251593.\n",
      "[I 2023-12-03 07:34:09,293] Trial 10 finished with value: 0.0006566716163497726 and parameters: {'n_factors': 16, 'loss': 'warp', 'lr': 0.008284501044916659, 'num_threads': 2, 'user_alpha': 0.9441666761301671, 'item_alpha': 0.27761480128207866}. Best is trial 0 with value: 0.07652084279251593.\n",
      "[I 2023-12-03 07:34:49,246] Trial 11 finished with value: 0.07434781603152728 and parameters: {'n_factors': 8, 'loss': 'warp', 'lr': 0.008326689269192356, 'num_threads': 1, 'user_alpha': 0.4745335191928845, 'item_alpha': 0.6861900420162209}. Best is trial 0 with value: 0.07652084279251593.\n",
      "[I 2023-12-03 07:35:29,156] Trial 12 finished with value: 0.0725361360040261 and parameters: {'n_factors': 8, 'loss': 'warp', 'lr': 0.007803422769483943, 'num_threads': 1, 'user_alpha': 0.5910918522481707, 'item_alpha': 0.6375842084707521}. Best is trial 0 with value: 0.07652084279251593.\n",
      "[I 2023-12-03 07:36:05,760] Trial 13 finished with value: 0.07569504471802126 and parameters: {'n_factors': 8, 'loss': 'warp', 'lr': 0.00544123247461284, 'num_threads': 2, 'user_alpha': 0.4987544356803413, 'item_alpha': 0.40038180714717136}. Best is trial 0 with value: 0.07652084279251593.\n",
      "[I 2023-12-03 07:36:40,001] Trial 14 finished with value: 0.0006259703515541045 and parameters: {'n_factors': 8, 'loss': 'warp', 'lr': 0.0045626821894603166, 'num_threads': 2, 'user_alpha': 0.674480921507068, 'item_alpha': 0.3450823219692395}. Best is trial 0 with value: 0.07652084279251593.\n",
      "[I 2023-12-03 07:37:19,996] Trial 15 finished with value: 0.07525248628871811 and parameters: {'n_factors': 16, 'loss': 'warp', 'lr': 0.014325372360199424, 'num_threads': 2, 'user_alpha': 0.37082632184264613, 'item_alpha': 0.3658253163064641}. Best is trial 0 with value: 0.07652084279251593.\n",
      "[I 2023-12-03 07:38:01,002] Trial 16 finished with value: 0.010531694989566206 and parameters: {'n_factors': 16, 'loss': 'warp', 'lr': 0.005461895746270137, 'num_threads': 2, 'user_alpha': 0.5416052508219102, 'item_alpha': 0.22444167131724763}. Best is trial 0 with value: 0.07652084279251593.\n",
      "[I 2023-12-03 07:39:07,039] Trial 17 finished with value: 0.07162451833931824 and parameters: {'n_factors': 8, 'loss': 'warp', 'lr': 0.002491137489050104, 'num_threads': 2, 'user_alpha': 0.694071484222849, 'item_alpha': 0.46707905681018874}. Best is trial 0 with value: 0.07652084279251593.\n",
      "[I 2023-12-03 07:39:49,695] Trial 18 finished with value: 0.07689822516120261 and parameters: {'n_factors': 8, 'loss': 'warp', 'lr': 0.005337265121924709, 'num_threads': 2, 'user_alpha': 0.3345837535421767, 'item_alpha': 0.16931342513167186}. Best is trial 18 with value: 0.07689822516120261.\n",
      "[I 2023-12-03 07:40:29,976] Trial 19 finished with value: 0.07664206560191479 and parameters: {'n_factors': 16, 'loss': 'warp', 'lr': 0.012225232669590129, 'num_threads': 3, 'user_alpha': 0.3144501012445708, 'item_alpha': 0.1892954986893979}. Best is trial 18 with value: 0.07689822516120261.\n"
     ]
    }
   ],
   "source": [
    "sampler = TPESampler(seed=1)\n",
    "study = optuna.create_study(study_name=\"lightFM\", direction=\"maximize\", sampler=sampler)\n",
    "study.optimize(lambda trial: lightfm_objective(trial, dataset, train, test), n_trials=20)"
   ]
  },
  {
   "cell_type": "markdown",
   "metadata": {
    "id": "FRhcQIl2MZ4L"
   },
   "source": [
    "# Cross-validation"
   ]
  },
  {
   "cell_type": "markdown",
   "metadata": {
    "id": "5BGEbpT5Nxqs"
   },
   "source": [
    "## Models"
   ]
  },
  {
   "cell_type": "markdown",
   "metadata": {
    "id": "N1yYKgKMptsF"
   },
   "source": [
    "Сравним лучшие модели на кросс-валидации"
   ]
  },
  {
   "cell_type": "code",
   "execution_count": 25,
   "metadata": {
    "id": "79CdGHykNyw3"
   },
   "outputs": [],
   "source": [
    "models = {\n",
    "    \"popular\": PopularModel(),\n",
    "    \"ALS\": ImplicitALSWrapperModel(\n",
    "        model=AlternatingLeastSquares(\n",
    "            factors=32,\n",
    "            random_state=RANDOM_STATE,\n",
    "            num_threads=2,\n",
    "        ),\n",
    "        fit_features_together=True,\n",
    "    ),\n",
    "    \"LightFM\": LightFMWrapperModel(\n",
    "        LightFM(\n",
    "            no_components=8,\n",
    "            loss=\"warp\",\n",
    "            random_state=RANDOM_STATE,\n",
    "            learning_rate=0.05,\n",
    "            user_alpha=0.3,\n",
    "            item_alpha=0.2,\n",
    "        ),\n",
    "        epochs=N_EPOCHS,\n",
    "        num_threads=2,\n",
    "    ),\n",
    "}"
   ]
  },
  {
   "cell_type": "markdown",
   "metadata": {
    "id": "cMxL3cULM4Yo"
   },
   "source": [
    "## Metrics"
   ]
  },
  {
   "cell_type": "code",
   "execution_count": 20,
   "metadata": {
    "id": "L_7gdYm1MyfK"
   },
   "outputs": [],
   "source": [
    "metrics_name = {\n",
    "    \"precision\": Precision,\n",
    "    \"recall\": Recall,\n",
    "    \"MAP\": MAP,\n",
    "    \"NDCG\": NDCG,\n",
    "    \"novelty\": MeanInvUserFreq,\n",
    "    \"serendipity\": Serendipity,\n",
    "}\n",
    "\n",
    "metrics = {}\n",
    "for metric_name, metric in metrics_name.items():\n",
    "    for k in [1, 5, 10]:\n",
    "        metrics[f\"{metric_name}@{k}\"] = metric(k=k)"
   ]
  },
  {
   "cell_type": "code",
   "execution_count": 21,
   "metadata": {
    "colab": {
     "base_uri": "https://localhost:8080/"
    },
    "id": "-HWWA1kVNYiw",
    "outputId": "cec446d1-1108-453d-9dd6-d34460546aa4"
   },
   "outputs": [
    {
     "data": {
      "text/plain": [
       "{'precision@1': Precision(k=1),\n",
       " 'precision@5': Precision(k=5),\n",
       " 'precision@10': Precision(k=10),\n",
       " 'recall@1': Recall(k=1),\n",
       " 'recall@5': Recall(k=5),\n",
       " 'recall@10': Recall(k=10),\n",
       " 'MAP@1': MAP(k=1, divide_by_k=False),\n",
       " 'MAP@5': MAP(k=5, divide_by_k=False),\n",
       " 'MAP@10': MAP(k=10, divide_by_k=False),\n",
       " 'NDCG@1': NDCG(k=1, log_base=2),\n",
       " 'NDCG@5': NDCG(k=5, log_base=2),\n",
       " 'NDCG@10': NDCG(k=10, log_base=2),\n",
       " 'novelty@1': MeanInvUserFreq(k=1),\n",
       " 'novelty@5': MeanInvUserFreq(k=5),\n",
       " 'novelty@10': MeanInvUserFreq(k=10),\n",
       " 'serendipity@1': Serendipity(k=1),\n",
       " 'serendipity@5': Serendipity(k=5),\n",
       " 'serendipity@10': Serendipity(k=10)}"
      ]
     },
     "execution_count": 21,
     "metadata": {},
     "output_type": "execute_result"
    }
   ],
   "source": [
    "metrics"
   ]
  },
  {
   "cell_type": "markdown",
   "metadata": {
    "id": "rgoSDLqKNifr"
   },
   "source": [
    "## Splitter"
   ]
  },
  {
   "cell_type": "code",
   "execution_count": 22,
   "metadata": {
    "id": "-N0uSuOHNqMR"
   },
   "outputs": [],
   "source": [
    "TEST_SIZE = \"7D\"\n",
    "N_SPLITS = 5"
   ]
  },
  {
   "cell_type": "code",
   "execution_count": 23,
   "metadata": {
    "id": "SQzpISh9Nead"
   },
   "outputs": [],
   "source": [
    "splitter = TimeRangeSplitter(\n",
    "    test_size=TEST_SIZE,\n",
    "    n_splits=N_SPLITS,\n",
    "    filter_already_seen=True,\n",
    "    filter_cold_items=True,\n",
    "    filter_cold_users=True,\n",
    ")"
   ]
  },
  {
   "cell_type": "code",
   "execution_count": 24,
   "metadata": {
    "colab": {
     "base_uri": "https://localhost:8080/"
    },
    "id": "UvsIH96RO956",
    "outputId": "29c397fe-d673-4f6a-c856-bdf3f55e64b9"
   },
   "outputs": [
    {
     "data": {
      "text/plain": [
       "[(Timestamp('2021-07-11 00:00:00', freq='7D'),\n",
       "  Timestamp('2021-07-18 00:00:00', freq='7D')),\n",
       " (Timestamp('2021-07-18 00:00:00', freq='7D'),\n",
       "  Timestamp('2021-07-25 00:00:00', freq='7D')),\n",
       " (Timestamp('2021-07-25 00:00:00', freq='7D'),\n",
       "  Timestamp('2021-08-01 00:00:00', freq='7D')),\n",
       " (Timestamp('2021-08-01 00:00:00', freq='7D'),\n",
       "  Timestamp('2021-08-08 00:00:00', freq='7D')),\n",
       " (Timestamp('2021-08-08 00:00:00', freq='7D'),\n",
       "  Timestamp('2021-08-15 00:00:00', freq='7D'))]"
      ]
     },
     "execution_count": 24,
     "metadata": {},
     "output_type": "execute_result"
    }
   ],
   "source": [
    "splitter.get_test_fold_borders(dataset.interactions)"
   ]
  },
  {
   "cell_type": "markdown",
   "metadata": {
    "id": "0H3H0X_INk6c"
   },
   "source": [
    "## Cross-val"
   ]
  },
  {
   "cell_type": "code",
   "execution_count": 26,
   "metadata": {
    "id": "BwlA4_0bMb7j"
   },
   "outputs": [],
   "source": [
    "results = cross_validate(dataset, splitter, metrics, models, k=10, filter_viewed=True)"
   ]
  },
  {
   "cell_type": "code",
   "execution_count": 27,
   "metadata": {
    "colab": {
     "base_uri": "https://localhost:8080/",
     "height": 613
    },
    "id": "8ZirnwP7UW6W",
    "outputId": "5fd33dc1-d013-498d-8756-2fde4dfff256"
   },
   "outputs": [
    {
     "data": {
      "text/html": [
       "<style type=\"text/css\">\n",
       "#T_a4196_row0_col0, #T_a4196_row1_col0, #T_a4196_row2_col2, #T_a4196_row3_col2, #T_a4196_row4_col2, #T_a4196_row5_col2, #T_a4196_row6_col0, #T_a4196_row7_col0, #T_a4196_row8_col2, #T_a4196_row9_col0, #T_a4196_row10_col0, #T_a4196_row11_col0, #T_a4196_row12_col1, #T_a4196_row13_col1, #T_a4196_row14_col1, #T_a4196_row15_col0, #T_a4196_row16_col0, #T_a4196_row17_col0 {\n",
       "  background-color: lightgreen;\n",
       "}\n",
       "</style>\n",
       "<table id=\"T_a4196\" class=\"dataframe\">\n",
       "  <thead>\n",
       "    <tr>\n",
       "      <th class=\"index_name level0\" >model</th>\n",
       "      <th id=\"T_a4196_level0_col0\" class=\"col_heading level0 col0\" >ALS</th>\n",
       "      <th id=\"T_a4196_level0_col1\" class=\"col_heading level0 col1\" >LightFM</th>\n",
       "      <th id=\"T_a4196_level0_col2\" class=\"col_heading level0 col2\" >popular</th>\n",
       "    </tr>\n",
       "  </thead>\n",
       "  <tbody>\n",
       "    <tr>\n",
       "      <th id=\"T_a4196_level0_row0\" class=\"row_heading level0 row0\" >precision@1</th>\n",
       "      <td id=\"T_a4196_row0_col0\" class=\"data row0 col0\" >0.093796</td>\n",
       "      <td id=\"T_a4196_row0_col1\" class=\"data row0 col1\" >0.070746</td>\n",
       "      <td id=\"T_a4196_row0_col2\" class=\"data row0 col2\" >0.081874</td>\n",
       "    </tr>\n",
       "    <tr>\n",
       "      <th id=\"T_a4196_level0_row1\" class=\"row_heading level0 row1\" >recall@1</th>\n",
       "      <td id=\"T_a4196_row1_col0\" class=\"data row1 col0\" >0.057927</td>\n",
       "      <td id=\"T_a4196_row1_col1\" class=\"data row1 col1\" >0.044801</td>\n",
       "      <td id=\"T_a4196_row1_col2\" class=\"data row1 col2\" >0.050963</td>\n",
       "    </tr>\n",
       "    <tr>\n",
       "      <th id=\"T_a4196_level0_row2\" class=\"row_heading level0 row2\" >precision@5</th>\n",
       "      <td id=\"T_a4196_row2_col0\" class=\"data row2 col0\" >0.053698</td>\n",
       "      <td id=\"T_a4196_row2_col1\" class=\"data row2 col1\" >0.047117</td>\n",
       "      <td id=\"T_a4196_row2_col2\" class=\"data row2 col2\" >0.056047</td>\n",
       "    </tr>\n",
       "    <tr>\n",
       "      <th id=\"T_a4196_level0_row3\" class=\"row_heading level0 row3\" >recall@5</th>\n",
       "      <td id=\"T_a4196_row3_col0\" class=\"data row3 col0\" >0.154570</td>\n",
       "      <td id=\"T_a4196_row3_col1\" class=\"data row3 col1\" >0.137203</td>\n",
       "      <td id=\"T_a4196_row3_col2\" class=\"data row3 col2\" >0.161825</td>\n",
       "    </tr>\n",
       "    <tr>\n",
       "      <th id=\"T_a4196_level0_row4\" class=\"row_heading level0 row4\" >precision@10</th>\n",
       "      <td id=\"T_a4196_row4_col0\" class=\"data row4 col0\" >0.034668</td>\n",
       "      <td id=\"T_a4196_row4_col1\" class=\"data row4 col1\" >0.031573</td>\n",
       "      <td id=\"T_a4196_row4_col2\" class=\"data row4 col2\" >0.036284</td>\n",
       "    </tr>\n",
       "    <tr>\n",
       "      <th id=\"T_a4196_level0_row5\" class=\"row_heading level0 row5\" >recall@10</th>\n",
       "      <td id=\"T_a4196_row5_col0\" class=\"data row5 col0\" >0.193196</td>\n",
       "      <td id=\"T_a4196_row5_col1\" class=\"data row5 col1\" >0.178163</td>\n",
       "      <td id=\"T_a4196_row5_col2\" class=\"data row5 col2\" >0.203790</td>\n",
       "    </tr>\n",
       "    <tr>\n",
       "      <th id=\"T_a4196_level0_row6\" class=\"row_heading level0 row6\" >NDCG@1</th>\n",
       "      <td id=\"T_a4196_row6_col0\" class=\"data row6 col0\" >0.093796</td>\n",
       "      <td id=\"T_a4196_row6_col1\" class=\"data row6 col1\" >0.070746</td>\n",
       "      <td id=\"T_a4196_row6_col2\" class=\"data row6 col2\" >0.081874</td>\n",
       "    </tr>\n",
       "    <tr>\n",
       "      <th id=\"T_a4196_level0_row7\" class=\"row_heading level0 row7\" >NDCG@5</th>\n",
       "      <td id=\"T_a4196_row7_col0\" class=\"data row7 col0\" >0.062141</td>\n",
       "      <td id=\"T_a4196_row7_col1\" class=\"data row7 col1\" >0.051808</td>\n",
       "      <td id=\"T_a4196_row7_col2\" class=\"data row7 col2\" >0.061691</td>\n",
       "    </tr>\n",
       "    <tr>\n",
       "      <th id=\"T_a4196_level0_row8\" class=\"row_heading level0 row8\" >NDCG@10</th>\n",
       "      <td id=\"T_a4196_row8_col0\" class=\"data row8 col0\" >0.045910</td>\n",
       "      <td id=\"T_a4196_row8_col1\" class=\"data row8 col1\" >0.039293</td>\n",
       "      <td id=\"T_a4196_row8_col2\" class=\"data row8 col2\" >0.045989</td>\n",
       "    </tr>\n",
       "    <tr>\n",
       "      <th id=\"T_a4196_level0_row9\" class=\"row_heading level0 row9\" >MAP@1</th>\n",
       "      <td id=\"T_a4196_row9_col0\" class=\"data row9 col0\" >0.057927</td>\n",
       "      <td id=\"T_a4196_row9_col1\" class=\"data row9 col1\" >0.044801</td>\n",
       "      <td id=\"T_a4196_row9_col2\" class=\"data row9 col2\" >0.050963</td>\n",
       "    </tr>\n",
       "    <tr>\n",
       "      <th id=\"T_a4196_level0_row10\" class=\"row_heading level0 row10\" >MAP@5</th>\n",
       "      <td id=\"T_a4196_row10_col0\" class=\"data row10 col0\" >0.094921</td>\n",
       "      <td id=\"T_a4196_row10_col1\" class=\"data row10 col1\" >0.078137</td>\n",
       "      <td id=\"T_a4196_row10_col2\" class=\"data row10 col2\" >0.092119</td>\n",
       "    </tr>\n",
       "    <tr>\n",
       "      <th id=\"T_a4196_level0_row11\" class=\"row_heading level0 row11\" >MAP@10</th>\n",
       "      <td id=\"T_a4196_row11_col0\" class=\"data row11 col0\" >0.101152</td>\n",
       "      <td id=\"T_a4196_row11_col1\" class=\"data row11 col1\" >0.084482</td>\n",
       "      <td id=\"T_a4196_row11_col2\" class=\"data row11 col2\" >0.099115</td>\n",
       "    </tr>\n",
       "    <tr>\n",
       "      <th id=\"T_a4196_level0_row12\" class=\"row_heading level0 row12\" >novelty@1</th>\n",
       "      <td id=\"T_a4196_row12_col0\" class=\"data row12 col0\" >2.943354</td>\n",
       "      <td id=\"T_a4196_row12_col1\" class=\"data row12 col1\" >3.711858</td>\n",
       "      <td id=\"T_a4196_row12_col2\" class=\"data row12 col2\" >2.394384</td>\n",
       "    </tr>\n",
       "    <tr>\n",
       "      <th id=\"T_a4196_level0_row13\" class=\"row_heading level0 row13\" >novelty@5</th>\n",
       "      <td id=\"T_a4196_row13_col0\" class=\"data row13 col0\" >3.665225</td>\n",
       "      <td id=\"T_a4196_row13_col1\" class=\"data row13 col1\" >5.112672</td>\n",
       "      <td id=\"T_a4196_row13_col2\" class=\"data row13 col2\" >3.113557</td>\n",
       "    </tr>\n",
       "    <tr>\n",
       "      <th id=\"T_a4196_level0_row14\" class=\"row_heading level0 row14\" >novelty@10</th>\n",
       "      <td id=\"T_a4196_row14_col0\" class=\"data row14 col0\" >4.472963</td>\n",
       "      <td id=\"T_a4196_row14_col1\" class=\"data row14 col1\" >5.616561</td>\n",
       "      <td id=\"T_a4196_row14_col2\" class=\"data row14 col2\" >3.763999</td>\n",
       "    </tr>\n",
       "    <tr>\n",
       "      <th id=\"T_a4196_level0_row15\" class=\"row_heading level0 row15\" >serendipity@1</th>\n",
       "      <td id=\"T_a4196_row15_col0\" class=\"data row15 col0\" >0.000017</td>\n",
       "      <td id=\"T_a4196_row15_col1\" class=\"data row15 col1\" >0.000014</td>\n",
       "      <td id=\"T_a4196_row15_col2\" class=\"data row15 col2\" >0.000003</td>\n",
       "    </tr>\n",
       "    <tr>\n",
       "      <th id=\"T_a4196_level0_row16\" class=\"row_heading level0 row16\" >serendipity@5</th>\n",
       "      <td id=\"T_a4196_row16_col0\" class=\"data row16 col0\" >0.000016</td>\n",
       "      <td id=\"T_a4196_row16_col1\" class=\"data row16 col1\" >0.000006</td>\n",
       "      <td id=\"T_a4196_row16_col2\" class=\"data row16 col2\" >0.000003</td>\n",
       "    </tr>\n",
       "    <tr>\n",
       "      <th id=\"T_a4196_level0_row17\" class=\"row_heading level0 row17\" >serendipity@10</th>\n",
       "      <td id=\"T_a4196_row17_col0\" class=\"data row17 col0\" >0.000020</td>\n",
       "      <td id=\"T_a4196_row17_col1\" class=\"data row17 col1\" >0.000006</td>\n",
       "      <td id=\"T_a4196_row17_col2\" class=\"data row17 col2\" >0.000003</td>\n",
       "    </tr>\n",
       "  </tbody>\n",
       "</table>\n"
      ],
      "text/plain": [
       "<pandas.io.formats.style.Styler at 0x7f4545bf93c0>"
      ]
     },
     "execution_count": 27,
     "metadata": {},
     "output_type": "execute_result"
    }
   ],
   "source": [
    "df_quality = (\n",
    "    pd.DataFrame.from_dict(results[\"metrics\"]).groupby(\"model\").mean().drop(\"i_split\", axis=1).T\n",
    ")\n",
    "df_quality.style.highlight_max(color=\"lightgreen\", axis=1)"
   ]
  },
  {
   "cell_type": "markdown",
   "metadata": {
    "id": "_S0la4cUuw1F"
   },
   "source": [
    "По большиству метрик **лучшей оказалась ALS**."
   ]
  },
  {
   "cell_type": "markdown",
   "metadata": {
    "id": "905lfZmT97Tj"
   },
   "source": [
    "# Preparing model for the service"
   ]
  },
  {
   "cell_type": "markdown",
   "metadata": {
    "id": "YHZH_ryT-Ci2"
   },
   "source": [
    "## Training on the whole dataset"
   ]
  },
  {
   "cell_type": "markdown",
   "metadata": {
    "id": "GZZH-b5tD4l8"
   },
   "source": [
    "Лучшей моделью оказалась ALS. Но, насколько я понимаю, для ее использования нужен GPU.   \n",
    "Т.к. у меня нет возможности использовать GPU в сервисе, для него я решила взять LightFM, которая не намного уступает ALS.  \n",
    "Обучим ее на всем датасете."
   ]
  },
  {
   "cell_type": "code",
   "execution_count": 28,
   "metadata": {
    "id": "Z6uSwqQf-Mns"
   },
   "outputs": [],
   "source": [
    "user_features = get_user_features(users, interactions, [\"sex\", \"age\", \"income\"])\n",
    "item_features = get_item_features(items, interactions)"
   ]
  },
  {
   "cell_type": "code",
   "execution_count": 29,
   "metadata": {
    "id": "BFJN2mJL-I39"
   },
   "outputs": [],
   "source": [
    "dataset = Dataset.construct(\n",
    "    interactions_df=interactions,\n",
    "    user_features_df=user_features,\n",
    "    cat_user_features=[\"sex\", \"age\", \"income\"],\n",
    "    item_features_df=item_features,\n",
    "    cat_item_features=[\"genre\", \"content_type\"],\n",
    ")"
   ]
  },
  {
   "cell_type": "code",
   "execution_count": 30,
   "metadata": {
    "id": "ElFRmEI2-bSb"
   },
   "outputs": [],
   "source": [
    "model = LightFMWrapperModel(\n",
    "    LightFM(\n",
    "        no_components=8,\n",
    "        loss=\"warp\",\n",
    "        random_state=RANDOM_STATE,\n",
    "        learning_rate=0.05,\n",
    "        user_alpha=0.3,\n",
    "        item_alpha=0.2,\n",
    "    ),\n",
    "    epochs=N_EPOCHS,\n",
    "    num_threads=2,\n",
    ")"
   ]
  },
  {
   "cell_type": "code",
   "execution_count": 31,
   "metadata": {
    "colab": {
     "base_uri": "https://localhost:8080/"
    },
    "id": "SdsZERtS-xLr",
    "outputId": "211ee85d-5187-4259-a8e8-48e0422f22dd"
   },
   "outputs": [
    {
     "data": {
      "text/plain": [
       "<rectools.models.lightfm.LightFMWrapperModel at 0x7f44bc7d91b0>"
      ]
     },
     "execution_count": 31,
     "metadata": {},
     "output_type": "execute_result"
    }
   ],
   "source": [
    "model.fit(dataset)"
   ]
  },
  {
   "cell_type": "markdown",
   "metadata": {
    "id": "s6gaHAYPvYlp"
   },
   "source": [
    "# Offline recommendations"
   ]
  },
  {
   "cell_type": "markdown",
   "metadata": {
    "id": "pMKBMha9veuA"
   },
   "source": [
    "В чистом виде LightFM не прошла валидацию по времени через бота :(  \n",
    "Поэтому посчитаем оффлайн рекомендации и сохраним их на диск, чтобы потом использовать в сервисе."
   ]
  },
  {
   "cell_type": "code",
   "execution_count": 36,
   "metadata": {
    "id": "2GOXif2KwAi7"
   },
   "outputs": [],
   "source": [
    "ALL_USERS = interactions[Columns.User].unique()"
   ]
  },
  {
   "cell_type": "code",
   "execution_count": 37,
   "metadata": {
    "id": "MdbCNu1TvbQ8"
   },
   "outputs": [],
   "source": [
    "all_recos = model.recommend(\n",
    "    users=ALL_USERS,\n",
    "    dataset=dataset,\n",
    "    k=10,\n",
    "    filter_viewed=True,\n",
    ")[[Columns.User, Columns.Item]]"
   ]
  },
  {
   "cell_type": "code",
   "execution_count": 38,
   "metadata": {
    "id": "2xAGumwNvshD"
   },
   "outputs": [],
   "source": [
    "RECOS_PATH = \"/content/drive/MyDrive/recsys/LightFM_warp_8.csv\"\n",
    "all_recos.to_csv(RECOS_PATH)"
   ]
  },
  {
   "cell_type": "markdown",
   "metadata": {
    "id": "PXJRy2OG9ygQ"
   },
   "source": [
    "# Adding ANN"
   ]
  },
  {
   "cell_type": "markdown",
   "metadata": {
    "id": "PPZ-8OjoEGaE"
   },
   "source": [
    "Чтобы рекомендации выдавались быстрее, можно использовать приближенный поиск соседей из `rectools`."
   ]
  },
  {
   "cell_type": "code",
   "execution_count": 32,
   "metadata": {
    "colab": {
     "base_uri": "https://localhost:8080/"
    },
    "id": "cUuwATsO9vCl",
    "outputId": "da577faf-fcb1-4257-cf5b-b72b2375d3ae"
   },
   "outputs": [
    {
     "data": {
      "text/plain": [
       "<rectools.tools.ann.UserToItemAnnRecommender at 0x7f44460d6350>"
      ]
     },
     "execution_count": 32,
     "metadata": {},
     "output_type": "execute_result"
    }
   ],
   "source": [
    "user_vectors, item_vectors = model.get_vectors(dataset)\n",
    "ann_lightfm = UserToItemAnnRecommender(\n",
    "    user_vectors=user_vectors,\n",
    "    item_vectors=item_vectors,\n",
    "    user_id_map=dataset.user_id_map,\n",
    "    item_id_map=dataset.item_id_map,\n",
    ")\n",
    "ann_lightfm.fit()"
   ]
  },
  {
   "cell_type": "code",
   "execution_count": 33,
   "metadata": {
    "colab": {
     "base_uri": "https://localhost:8080/"
    },
    "id": "Vy56_NxmCLUa",
    "outputId": "f4165b22-8d78-4a2c-d7cd-73d4e5357fdc"
   },
   "outputs": [
    {
     "data": {
      "text/plain": [
       "[12138, 10440, 4240, 1679, 6964, 12089, 2150, 12365, 14701, 10843]"
      ]
     },
     "execution_count": 33,
     "metadata": {},
     "output_type": "execute_result"
    }
   ],
   "source": [
    "# Поробуем получить рекомендации\n",
    "ann_lightfm.get_item_list_for_user(962205, top_n=10).tolist()"
   ]
  },
  {
   "cell_type": "code",
   "execution_count": 34,
   "metadata": {
    "id": "3fWtFJ8SCVWF"
   },
   "outputs": [],
   "source": [
    "import pickle\n",
    "\n",
    "MODEL_PATH = \"/content/drive/MyDrive/recsys/ANN_LightFM_warp_8.pkl\"\n",
    "pickle.dump(ann_lightfm, open(MODEL_PATH, \"wb\"))"
   ]
  },
  {
   "cell_type": "code",
   "execution_count": 35,
   "metadata": {
    "colab": {
     "base_uri": "https://localhost:8080/"
    },
    "id": "uMPsMtT0CYCA",
    "outputId": "dce86ca1-1ab6-4a05-8aa7-2fd49ec81a9b"
   },
   "outputs": [
    {
     "data": {
      "text/plain": [
       "[12138, 10440, 4240, 1679, 6964, 12089, 2150, 12365, 14701, 10843]"
      ]
     },
     "execution_count": 35,
     "metadata": {},
     "output_type": "execute_result"
    }
   ],
   "source": [
    "# Проверим, что все работает\n",
    "loaded_ann_lightfm = pickle.load(open(MODEL_PATH, \"rb\"))\n",
    "ann_lightfm.get_item_list_for_user(962205, top_n=10).tolist()"
   ]
  }
 ],
 "metadata": {
  "accelerator": "GPU",
  "colab": {
   "gpuType": "T4",
   "provenance": []
  },
  "kernelspec": {
   "display_name": "Python 3 (ipykernel)",
   "language": "python",
   "name": "python3"
  },
  "language_info": {
   "codemirror_mode": {
    "name": "ipython",
    "version": 3
   },
   "file_extension": ".py",
   "mimetype": "text/x-python",
   "name": "python",
   "nbconvert_exporter": "python",
   "pygments_lexer": "ipython3",
   "version": "3.10.12"
  },
  "widgets": {
   "application/vnd.jupyter.widget-state+json": {
    "00ccb1d8da644d6bb14cc441e3e594fa": {
     "model_module": "@jupyter-widgets/base",
     "model_module_version": "1.2.0",
     "model_name": "LayoutModel",
     "state": {
      "_model_module": "@jupyter-widgets/base",
      "_model_module_version": "1.2.0",
      "_model_name": "LayoutModel",
      "_view_count": null,
      "_view_module": "@jupyter-widgets/base",
      "_view_module_version": "1.2.0",
      "_view_name": "LayoutView",
      "align_content": null,
      "align_items": null,
      "align_self": null,
      "border": null,
      "bottom": null,
      "display": null,
      "flex": null,
      "flex_flow": null,
      "grid_area": null,
      "grid_auto_columns": null,
      "grid_auto_flow": null,
      "grid_auto_rows": null,
      "grid_column": null,
      "grid_gap": null,
      "grid_row": null,
      "grid_template_areas": null,
      "grid_template_columns": null,
      "grid_template_rows": null,
      "height": null,
      "justify_content": null,
      "justify_items": null,
      "left": null,
      "margin": null,
      "max_height": null,
      "max_width": null,
      "min_height": null,
      "min_width": null,
      "object_fit": null,
      "object_position": null,
      "order": null,
      "overflow": null,
      "overflow_x": null,
      "overflow_y": null,
      "padding": null,
      "right": null,
      "top": null,
      "visibility": null,
      "width": null
     }
    },
    "0116b2ec75d24633beaeb9c0b27503aa": {
     "model_module": "@jupyter-widgets/controls",
     "model_module_version": "1.5.0",
     "model_name": "HBoxModel",
     "state": {
      "_dom_classes": [],
      "_model_module": "@jupyter-widgets/controls",
      "_model_module_version": "1.5.0",
      "_model_name": "HBoxModel",
      "_view_count": null,
      "_view_module": "@jupyter-widgets/controls",
      "_view_module_version": "1.5.0",
      "_view_name": "HBoxView",
      "box_style": "",
      "children": [
       "IPY_MODEL_753c12fb4703448e92fb448e694a06d6",
       "IPY_MODEL_37a0a675876b43bf81db77d3263fbc63",
       "IPY_MODEL_f94616abd2c2458982636ee87c7c4eaf"
      ],
      "layout": "IPY_MODEL_3aebefebb6434dd2a1f317828c3a441d"
     }
    },
    "034c0d2e1c284087ab41ddc7474a7e7e": {
     "model_module": "@jupyter-widgets/controls",
     "model_module_version": "1.5.0",
     "model_name": "HTMLModel",
     "state": {
      "_dom_classes": [],
      "_model_module": "@jupyter-widgets/controls",
      "_model_module_version": "1.5.0",
      "_model_name": "HTMLModel",
      "_view_count": null,
      "_view_module": "@jupyter-widgets/controls",
      "_view_module_version": "1.5.0",
      "_view_name": "HTMLView",
      "description": "",
      "description_tooltip": null,
      "layout": "IPY_MODEL_2155a3413eee4a088d2cb500b056d463",
      "placeholder": "​",
      "style": "IPY_MODEL_05f949b1d1704152b1537037b6ee8d69",
      "value": "100%"
     }
    },
    "05f949b1d1704152b1537037b6ee8d69": {
     "model_module": "@jupyter-widgets/controls",
     "model_module_version": "1.5.0",
     "model_name": "DescriptionStyleModel",
     "state": {
      "_model_module": "@jupyter-widgets/controls",
      "_model_module_version": "1.5.0",
      "_model_name": "DescriptionStyleModel",
      "_view_count": null,
      "_view_module": "@jupyter-widgets/base",
      "_view_module_version": "1.2.0",
      "_view_name": "StyleView",
      "description_width": ""
     }
    },
    "0a35e9870df54e91b6569dadd1eb2dba": {
     "model_module": "@jupyter-widgets/controls",
     "model_module_version": "1.5.0",
     "model_name": "HTMLModel",
     "state": {
      "_dom_classes": [],
      "_model_module": "@jupyter-widgets/controls",
      "_model_module_version": "1.5.0",
      "_model_name": "HTMLModel",
      "_view_count": null,
      "_view_module": "@jupyter-widgets/controls",
      "_view_module_version": "1.5.0",
      "_view_name": "HTMLView",
      "description": "",
      "description_tooltip": null,
      "layout": "IPY_MODEL_65d6845c504146e2b55dd6a1aeb2c042",
      "placeholder": "​",
      "style": "IPY_MODEL_5a0d319f983c4e51a728e61a38c3b3c4",
      "value": "100%"
     }
    },
    "0b7d514cff9440fda29afbd5577dcce0": {
     "model_module": "@jupyter-widgets/controls",
     "model_module_version": "1.5.0",
     "model_name": "HTMLModel",
     "state": {
      "_dom_classes": [],
      "_model_module": "@jupyter-widgets/controls",
      "_model_module_version": "1.5.0",
      "_model_name": "HTMLModel",
      "_view_count": null,
      "_view_module": "@jupyter-widgets/controls",
      "_view_module_version": "1.5.0",
      "_view_name": "HTMLView",
      "description": "",
      "description_tooltip": null,
      "layout": "IPY_MODEL_594ea27eaa5140adbb15cbed0c6b2662",
      "placeholder": "​",
      "style": "IPY_MODEL_f38fc1f9394c47a792ada9ca13fc27c0",
      "value": "100%"
     }
    },
    "0ed3957e6be0445e81bc490efb181c97": {
     "model_module": "@jupyter-widgets/controls",
     "model_module_version": "1.5.0",
     "model_name": "ProgressStyleModel",
     "state": {
      "_model_module": "@jupyter-widgets/controls",
      "_model_module_version": "1.5.0",
      "_model_name": "ProgressStyleModel",
      "_view_count": null,
      "_view_module": "@jupyter-widgets/base",
      "_view_module_version": "1.2.0",
      "_view_name": "StyleView",
      "bar_color": null,
      "description_width": ""
     }
    },
    "0f805253d2d44d428cabcdc9a074d638": {
     "model_module": "@jupyter-widgets/controls",
     "model_module_version": "1.5.0",
     "model_name": "DescriptionStyleModel",
     "state": {
      "_model_module": "@jupyter-widgets/controls",
      "_model_module_version": "1.5.0",
      "_model_name": "DescriptionStyleModel",
      "_view_count": null,
      "_view_module": "@jupyter-widgets/base",
      "_view_module_version": "1.2.0",
      "_view_name": "StyleView",
      "description_width": ""
     }
    },
    "0f91995839404a9691068e505293d160": {
     "model_module": "@jupyter-widgets/controls",
     "model_module_version": "1.5.0",
     "model_name": "ProgressStyleModel",
     "state": {
      "_model_module": "@jupyter-widgets/controls",
      "_model_module_version": "1.5.0",
      "_model_name": "ProgressStyleModel",
      "_view_count": null,
      "_view_module": "@jupyter-widgets/base",
      "_view_module_version": "1.2.0",
      "_view_name": "StyleView",
      "bar_color": null,
      "description_width": ""
     }
    },
    "140bf17e7a584768b304246b2b9939e9": {
     "model_module": "@jupyter-widgets/base",
     "model_module_version": "1.2.0",
     "model_name": "LayoutModel",
     "state": {
      "_model_module": "@jupyter-widgets/base",
      "_model_module_version": "1.2.0",
      "_model_name": "LayoutModel",
      "_view_count": null,
      "_view_module": "@jupyter-widgets/base",
      "_view_module_version": "1.2.0",
      "_view_name": "LayoutView",
      "align_content": null,
      "align_items": null,
      "align_self": null,
      "border": null,
      "bottom": null,
      "display": null,
      "flex": null,
      "flex_flow": null,
      "grid_area": null,
      "grid_auto_columns": null,
      "grid_auto_flow": null,
      "grid_auto_rows": null,
      "grid_column": null,
      "grid_gap": null,
      "grid_row": null,
      "grid_template_areas": null,
      "grid_template_columns": null,
      "grid_template_rows": null,
      "height": null,
      "justify_content": null,
      "justify_items": null,
      "left": null,
      "margin": null,
      "max_height": null,
      "max_width": null,
      "min_height": null,
      "min_width": null,
      "object_fit": null,
      "object_position": null,
      "order": null,
      "overflow": null,
      "overflow_x": null,
      "overflow_y": null,
      "padding": null,
      "right": null,
      "top": null,
      "visibility": null,
      "width": null
     }
    },
    "15fd11e95d434e09845e830ba33373a5": {
     "model_module": "@jupyter-widgets/base",
     "model_module_version": "1.2.0",
     "model_name": "LayoutModel",
     "state": {
      "_model_module": "@jupyter-widgets/base",
      "_model_module_version": "1.2.0",
      "_model_name": "LayoutModel",
      "_view_count": null,
      "_view_module": "@jupyter-widgets/base",
      "_view_module_version": "1.2.0",
      "_view_name": "LayoutView",
      "align_content": null,
      "align_items": null,
      "align_self": null,
      "border": null,
      "bottom": null,
      "display": null,
      "flex": null,
      "flex_flow": null,
      "grid_area": null,
      "grid_auto_columns": null,
      "grid_auto_flow": null,
      "grid_auto_rows": null,
      "grid_column": null,
      "grid_gap": null,
      "grid_row": null,
      "grid_template_areas": null,
      "grid_template_columns": null,
      "grid_template_rows": null,
      "height": null,
      "justify_content": null,
      "justify_items": null,
      "left": null,
      "margin": null,
      "max_height": null,
      "max_width": null,
      "min_height": null,
      "min_width": null,
      "object_fit": null,
      "object_position": null,
      "order": null,
      "overflow": null,
      "overflow_x": null,
      "overflow_y": null,
      "padding": null,
      "right": null,
      "top": null,
      "visibility": null,
      "width": null
     }
    },
    "17aecd346ec6456faf4b58acaa06691e": {
     "model_module": "@jupyter-widgets/controls",
     "model_module_version": "1.5.0",
     "model_name": "FloatProgressModel",
     "state": {
      "_dom_classes": [],
      "_model_module": "@jupyter-widgets/controls",
      "_model_module_version": "1.5.0",
      "_model_name": "FloatProgressModel",
      "_view_count": null,
      "_view_module": "@jupyter-widgets/controls",
      "_view_module_version": "1.5.0",
      "_view_name": "ProgressView",
      "bar_style": "success",
      "description": "",
      "description_tooltip": null,
      "layout": "IPY_MODEL_00ccb1d8da644d6bb14cc441e3e594fa",
      "max": 1,
      "min": 0,
      "orientation": "horizontal",
      "style": "IPY_MODEL_4ff79465973b45859e4cd6c565dad1bd",
      "value": 1
     }
    },
    "18073f4390b5428b83525d82674de23d": {
     "model_module": "@jupyter-widgets/controls",
     "model_module_version": "1.5.0",
     "model_name": "DescriptionStyleModel",
     "state": {
      "_model_module": "@jupyter-widgets/controls",
      "_model_module_version": "1.5.0",
      "_model_name": "DescriptionStyleModel",
      "_view_count": null,
      "_view_module": "@jupyter-widgets/base",
      "_view_module_version": "1.2.0",
      "_view_name": "StyleView",
      "description_width": ""
     }
    },
    "1acd5346f007422e8549dc81323c31f0": {
     "model_module": "@jupyter-widgets/controls",
     "model_module_version": "1.5.0",
     "model_name": "HTMLModel",
     "state": {
      "_dom_classes": [],
      "_model_module": "@jupyter-widgets/controls",
      "_model_module_version": "1.5.0",
      "_model_name": "HTMLModel",
      "_view_count": null,
      "_view_module": "@jupyter-widgets/controls",
      "_view_module_version": "1.5.0",
      "_view_name": "HTMLView",
      "description": "",
      "description_tooltip": null,
      "layout": "IPY_MODEL_3a9ae342ed084c949ceca5f02287efca",
      "placeholder": "​",
      "style": "IPY_MODEL_3eb3b7bc8ca64ea9981b94c51f4d8fa7",
      "value": "100%"
     }
    },
    "1cca4b0201884a00a98cfb1557e2602c": {
     "model_module": "@jupyter-widgets/base",
     "model_module_version": "1.2.0",
     "model_name": "LayoutModel",
     "state": {
      "_model_module": "@jupyter-widgets/base",
      "_model_module_version": "1.2.0",
      "_model_name": "LayoutModel",
      "_view_count": null,
      "_view_module": "@jupyter-widgets/base",
      "_view_module_version": "1.2.0",
      "_view_name": "LayoutView",
      "align_content": null,
      "align_items": null,
      "align_self": null,
      "border": null,
      "bottom": null,
      "display": null,
      "flex": null,
      "flex_flow": null,
      "grid_area": null,
      "grid_auto_columns": null,
      "grid_auto_flow": null,
      "grid_auto_rows": null,
      "grid_column": null,
      "grid_gap": null,
      "grid_row": null,
      "grid_template_areas": null,
      "grid_template_columns": null,
      "grid_template_rows": null,
      "height": null,
      "justify_content": null,
      "justify_items": null,
      "left": null,
      "margin": null,
      "max_height": null,
      "max_width": null,
      "min_height": null,
      "min_width": null,
      "object_fit": null,
      "object_position": null,
      "order": null,
      "overflow": null,
      "overflow_x": null,
      "overflow_y": null,
      "padding": null,
      "right": null,
      "top": null,
      "visibility": null,
      "width": null
     }
    },
    "1dec3742380847dba5314d6f035fcd9b": {
     "model_module": "@jupyter-widgets/base",
     "model_module_version": "1.2.0",
     "model_name": "LayoutModel",
     "state": {
      "_model_module": "@jupyter-widgets/base",
      "_model_module_version": "1.2.0",
      "_model_name": "LayoutModel",
      "_view_count": null,
      "_view_module": "@jupyter-widgets/base",
      "_view_module_version": "1.2.0",
      "_view_name": "LayoutView",
      "align_content": null,
      "align_items": null,
      "align_self": null,
      "border": null,
      "bottom": null,
      "display": null,
      "flex": null,
      "flex_flow": null,
      "grid_area": null,
      "grid_auto_columns": null,
      "grid_auto_flow": null,
      "grid_auto_rows": null,
      "grid_column": null,
      "grid_gap": null,
      "grid_row": null,
      "grid_template_areas": null,
      "grid_template_columns": null,
      "grid_template_rows": null,
      "height": null,
      "justify_content": null,
      "justify_items": null,
      "left": null,
      "margin": null,
      "max_height": null,
      "max_width": null,
      "min_height": null,
      "min_width": null,
      "object_fit": null,
      "object_position": null,
      "order": null,
      "overflow": null,
      "overflow_x": null,
      "overflow_y": null,
      "padding": null,
      "right": null,
      "top": null,
      "visibility": null,
      "width": null
     }
    },
    "1e15f4ab297141e1ad4391cc616711e2": {
     "model_module": "@jupyter-widgets/controls",
     "model_module_version": "1.5.0",
     "model_name": "HTMLModel",
     "state": {
      "_dom_classes": [],
      "_model_module": "@jupyter-widgets/controls",
      "_model_module_version": "1.5.0",
      "_model_name": "HTMLModel",
      "_view_count": null,
      "_view_module": "@jupyter-widgets/controls",
      "_view_module_version": "1.5.0",
      "_view_name": "HTMLView",
      "description": "",
      "description_tooltip": null,
      "layout": "IPY_MODEL_a500a7de73894013a31860f8b691205c",
      "placeholder": "​",
      "style": "IPY_MODEL_ee95016b8e894e8c9a64df35fbcd9811",
      "value": " 1/1 [00:00&lt;00:00,  2.83it/s]"
     }
    },
    "2155a3413eee4a088d2cb500b056d463": {
     "model_module": "@jupyter-widgets/base",
     "model_module_version": "1.2.0",
     "model_name": "LayoutModel",
     "state": {
      "_model_module": "@jupyter-widgets/base",
      "_model_module_version": "1.2.0",
      "_model_name": "LayoutModel",
      "_view_count": null,
      "_view_module": "@jupyter-widgets/base",
      "_view_module_version": "1.2.0",
      "_view_name": "LayoutView",
      "align_content": null,
      "align_items": null,
      "align_self": null,
      "border": null,
      "bottom": null,
      "display": null,
      "flex": null,
      "flex_flow": null,
      "grid_area": null,
      "grid_auto_columns": null,
      "grid_auto_flow": null,
      "grid_auto_rows": null,
      "grid_column": null,
      "grid_gap": null,
      "grid_row": null,
      "grid_template_areas": null,
      "grid_template_columns": null,
      "grid_template_rows": null,
      "height": null,
      "justify_content": null,
      "justify_items": null,
      "left": null,
      "margin": null,
      "max_height": null,
      "max_width": null,
      "min_height": null,
      "min_width": null,
      "object_fit": null,
      "object_position": null,
      "order": null,
      "overflow": null,
      "overflow_x": null,
      "overflow_y": null,
      "padding": null,
      "right": null,
      "top": null,
      "visibility": null,
      "width": null
     }
    },
    "221977e202c94b1781165088500165dd": {
     "model_module": "@jupyter-widgets/base",
     "model_module_version": "1.2.0",
     "model_name": "LayoutModel",
     "state": {
      "_model_module": "@jupyter-widgets/base",
      "_model_module_version": "1.2.0",
      "_model_name": "LayoutModel",
      "_view_count": null,
      "_view_module": "@jupyter-widgets/base",
      "_view_module_version": "1.2.0",
      "_view_name": "LayoutView",
      "align_content": null,
      "align_items": null,
      "align_self": null,
      "border": null,
      "bottom": null,
      "display": null,
      "flex": null,
      "flex_flow": null,
      "grid_area": null,
      "grid_auto_columns": null,
      "grid_auto_flow": null,
      "grid_auto_rows": null,
      "grid_column": null,
      "grid_gap": null,
      "grid_row": null,
      "grid_template_areas": null,
      "grid_template_columns": null,
      "grid_template_rows": null,
      "height": null,
      "justify_content": null,
      "justify_items": null,
      "left": null,
      "margin": null,
      "max_height": null,
      "max_width": null,
      "min_height": null,
      "min_width": null,
      "object_fit": null,
      "object_position": null,
      "order": null,
      "overflow": null,
      "overflow_x": null,
      "overflow_y": null,
      "padding": null,
      "right": null,
      "top": null,
      "visibility": null,
      "width": null
     }
    },
    "249e223ad1f54d9e8422ff5b88f43c1f": {
     "model_module": "@jupyter-widgets/base",
     "model_module_version": "1.2.0",
     "model_name": "LayoutModel",
     "state": {
      "_model_module": "@jupyter-widgets/base",
      "_model_module_version": "1.2.0",
      "_model_name": "LayoutModel",
      "_view_count": null,
      "_view_module": "@jupyter-widgets/base",
      "_view_module_version": "1.2.0",
      "_view_name": "LayoutView",
      "align_content": null,
      "align_items": null,
      "align_self": null,
      "border": null,
      "bottom": null,
      "display": null,
      "flex": null,
      "flex_flow": null,
      "grid_area": null,
      "grid_auto_columns": null,
      "grid_auto_flow": null,
      "grid_auto_rows": null,
      "grid_column": null,
      "grid_gap": null,
      "grid_row": null,
      "grid_template_areas": null,
      "grid_template_columns": null,
      "grid_template_rows": null,
      "height": null,
      "justify_content": null,
      "justify_items": null,
      "left": null,
      "margin": null,
      "max_height": null,
      "max_width": null,
      "min_height": null,
      "min_width": null,
      "object_fit": null,
      "object_position": null,
      "order": null,
      "overflow": null,
      "overflow_x": null,
      "overflow_y": null,
      "padding": null,
      "right": null,
      "top": null,
      "visibility": null,
      "width": null
     }
    },
    "28df28c5dc794380b6bc56d6506b362e": {
     "model_module": "@jupyter-widgets/controls",
     "model_module_version": "1.5.0",
     "model_name": "HBoxModel",
     "state": {
      "_dom_classes": [],
      "_model_module": "@jupyter-widgets/controls",
      "_model_module_version": "1.5.0",
      "_model_name": "HBoxModel",
      "_view_count": null,
      "_view_module": "@jupyter-widgets/controls",
      "_view_module_version": "1.5.0",
      "_view_name": "HBoxView",
      "box_style": "",
      "children": [
       "IPY_MODEL_1acd5346f007422e8549dc81323c31f0",
       "IPY_MODEL_785065852c814b1c94d34e77251ea3e7",
       "IPY_MODEL_9ae490272b5d4522ad39fd258274cd79"
      ],
      "layout": "IPY_MODEL_50094d5d7acd4914813f2dc9a5e640d1"
     }
    },
    "29bc025d613d48fdae715f87c598683a": {
     "model_module": "@jupyter-widgets/base",
     "model_module_version": "1.2.0",
     "model_name": "LayoutModel",
     "state": {
      "_model_module": "@jupyter-widgets/base",
      "_model_module_version": "1.2.0",
      "_model_name": "LayoutModel",
      "_view_count": null,
      "_view_module": "@jupyter-widgets/base",
      "_view_module_version": "1.2.0",
      "_view_name": "LayoutView",
      "align_content": null,
      "align_items": null,
      "align_self": null,
      "border": null,
      "bottom": null,
      "display": null,
      "flex": null,
      "flex_flow": null,
      "grid_area": null,
      "grid_auto_columns": null,
      "grid_auto_flow": null,
      "grid_auto_rows": null,
      "grid_column": null,
      "grid_gap": null,
      "grid_row": null,
      "grid_template_areas": null,
      "grid_template_columns": null,
      "grid_template_rows": null,
      "height": null,
      "justify_content": null,
      "justify_items": null,
      "left": null,
      "margin": null,
      "max_height": null,
      "max_width": null,
      "min_height": null,
      "min_width": null,
      "object_fit": null,
      "object_position": null,
      "order": null,
      "overflow": null,
      "overflow_x": null,
      "overflow_y": null,
      "padding": null,
      "right": null,
      "top": null,
      "visibility": null,
      "width": null
     }
    },
    "310e117ee6ae44569e510513860afb2a": {
     "model_module": "@jupyter-widgets/base",
     "model_module_version": "1.2.0",
     "model_name": "LayoutModel",
     "state": {
      "_model_module": "@jupyter-widgets/base",
      "_model_module_version": "1.2.0",
      "_model_name": "LayoutModel",
      "_view_count": null,
      "_view_module": "@jupyter-widgets/base",
      "_view_module_version": "1.2.0",
      "_view_name": "LayoutView",
      "align_content": null,
      "align_items": null,
      "align_self": null,
      "border": null,
      "bottom": null,
      "display": null,
      "flex": null,
      "flex_flow": null,
      "grid_area": null,
      "grid_auto_columns": null,
      "grid_auto_flow": null,
      "grid_auto_rows": null,
      "grid_column": null,
      "grid_gap": null,
      "grid_row": null,
      "grid_template_areas": null,
      "grid_template_columns": null,
      "grid_template_rows": null,
      "height": null,
      "justify_content": null,
      "justify_items": null,
      "left": null,
      "margin": null,
      "max_height": null,
      "max_width": null,
      "min_height": null,
      "min_width": null,
      "object_fit": null,
      "object_position": null,
      "order": null,
      "overflow": null,
      "overflow_x": null,
      "overflow_y": null,
      "padding": null,
      "right": null,
      "top": null,
      "visibility": null,
      "width": null
     }
    },
    "322da07ef65445eb848b48d313ec469c": {
     "model_module": "@jupyter-widgets/base",
     "model_module_version": "1.2.0",
     "model_name": "LayoutModel",
     "state": {
      "_model_module": "@jupyter-widgets/base",
      "_model_module_version": "1.2.0",
      "_model_name": "LayoutModel",
      "_view_count": null,
      "_view_module": "@jupyter-widgets/base",
      "_view_module_version": "1.2.0",
      "_view_name": "LayoutView",
      "align_content": null,
      "align_items": null,
      "align_self": null,
      "border": null,
      "bottom": null,
      "display": null,
      "flex": null,
      "flex_flow": null,
      "grid_area": null,
      "grid_auto_columns": null,
      "grid_auto_flow": null,
      "grid_auto_rows": null,
      "grid_column": null,
      "grid_gap": null,
      "grid_row": null,
      "grid_template_areas": null,
      "grid_template_columns": null,
      "grid_template_rows": null,
      "height": null,
      "justify_content": null,
      "justify_items": null,
      "left": null,
      "margin": null,
      "max_height": null,
      "max_width": null,
      "min_height": null,
      "min_width": null,
      "object_fit": null,
      "object_position": null,
      "order": null,
      "overflow": null,
      "overflow_x": null,
      "overflow_y": null,
      "padding": null,
      "right": null,
      "top": null,
      "visibility": null,
      "width": null
     }
    },
    "33d2d6d3c9e44c5d8e671cef11b23bb2": {
     "model_module": "@jupyter-widgets/controls",
     "model_module_version": "1.5.0",
     "model_name": "ProgressStyleModel",
     "state": {
      "_model_module": "@jupyter-widgets/controls",
      "_model_module_version": "1.5.0",
      "_model_name": "ProgressStyleModel",
      "_view_count": null,
      "_view_module": "@jupyter-widgets/base",
      "_view_module_version": "1.2.0",
      "_view_name": "StyleView",
      "bar_color": null,
      "description_width": ""
     }
    },
    "368c96e8f9f84e2eaa90d6a4c483d0f9": {
     "model_module": "@jupyter-widgets/controls",
     "model_module_version": "1.5.0",
     "model_name": "DescriptionStyleModel",
     "state": {
      "_model_module": "@jupyter-widgets/controls",
      "_model_module_version": "1.5.0",
      "_model_name": "DescriptionStyleModel",
      "_view_count": null,
      "_view_module": "@jupyter-widgets/base",
      "_view_module_version": "1.2.0",
      "_view_name": "StyleView",
      "description_width": ""
     }
    },
    "37a0a675876b43bf81db77d3263fbc63": {
     "model_module": "@jupyter-widgets/controls",
     "model_module_version": "1.5.0",
     "model_name": "FloatProgressModel",
     "state": {
      "_dom_classes": [],
      "_model_module": "@jupyter-widgets/controls",
      "_model_module_version": "1.5.0",
      "_model_name": "FloatProgressModel",
      "_view_count": null,
      "_view_module": "@jupyter-widgets/controls",
      "_view_module_version": "1.5.0",
      "_view_name": "ProgressView",
      "bar_style": "success",
      "description": "",
      "description_tooltip": null,
      "layout": "IPY_MODEL_140bf17e7a584768b304246b2b9939e9",
      "max": 1,
      "min": 0,
      "orientation": "horizontal",
      "style": "IPY_MODEL_8af50305ed194e53bc608e53320c66eb",
      "value": 1
     }
    },
    "3a9ae342ed084c949ceca5f02287efca": {
     "model_module": "@jupyter-widgets/base",
     "model_module_version": "1.2.0",
     "model_name": "LayoutModel",
     "state": {
      "_model_module": "@jupyter-widgets/base",
      "_model_module_version": "1.2.0",
      "_model_name": "LayoutModel",
      "_view_count": null,
      "_view_module": "@jupyter-widgets/base",
      "_view_module_version": "1.2.0",
      "_view_name": "LayoutView",
      "align_content": null,
      "align_items": null,
      "align_self": null,
      "border": null,
      "bottom": null,
      "display": null,
      "flex": null,
      "flex_flow": null,
      "grid_area": null,
      "grid_auto_columns": null,
      "grid_auto_flow": null,
      "grid_auto_rows": null,
      "grid_column": null,
      "grid_gap": null,
      "grid_row": null,
      "grid_template_areas": null,
      "grid_template_columns": null,
      "grid_template_rows": null,
      "height": null,
      "justify_content": null,
      "justify_items": null,
      "left": null,
      "margin": null,
      "max_height": null,
      "max_width": null,
      "min_height": null,
      "min_width": null,
      "object_fit": null,
      "object_position": null,
      "order": null,
      "overflow": null,
      "overflow_x": null,
      "overflow_y": null,
      "padding": null,
      "right": null,
      "top": null,
      "visibility": null,
      "width": null
     }
    },
    "3aebefebb6434dd2a1f317828c3a441d": {
     "model_module": "@jupyter-widgets/base",
     "model_module_version": "1.2.0",
     "model_name": "LayoutModel",
     "state": {
      "_model_module": "@jupyter-widgets/base",
      "_model_module_version": "1.2.0",
      "_model_name": "LayoutModel",
      "_view_count": null,
      "_view_module": "@jupyter-widgets/base",
      "_view_module_version": "1.2.0",
      "_view_name": "LayoutView",
      "align_content": null,
      "align_items": null,
      "align_self": null,
      "border": null,
      "bottom": null,
      "display": null,
      "flex": null,
      "flex_flow": null,
      "grid_area": null,
      "grid_auto_columns": null,
      "grid_auto_flow": null,
      "grid_auto_rows": null,
      "grid_column": null,
      "grid_gap": null,
      "grid_row": null,
      "grid_template_areas": null,
      "grid_template_columns": null,
      "grid_template_rows": null,
      "height": null,
      "justify_content": null,
      "justify_items": null,
      "left": null,
      "margin": null,
      "max_height": null,
      "max_width": null,
      "min_height": null,
      "min_width": null,
      "object_fit": null,
      "object_position": null,
      "order": null,
      "overflow": null,
      "overflow_x": null,
      "overflow_y": null,
      "padding": null,
      "right": null,
      "top": null,
      "visibility": null,
      "width": null
     }
    },
    "3b54cb3b7c6f4bdd94a5d79db70c0210": {
     "model_module": "@jupyter-widgets/controls",
     "model_module_version": "1.5.0",
     "model_name": "HBoxModel",
     "state": {
      "_dom_classes": [],
      "_model_module": "@jupyter-widgets/controls",
      "_model_module_version": "1.5.0",
      "_model_name": "HBoxModel",
      "_view_count": null,
      "_view_module": "@jupyter-widgets/controls",
      "_view_module_version": "1.5.0",
      "_view_name": "HBoxView",
      "box_style": "",
      "children": [
       "IPY_MODEL_0b7d514cff9440fda29afbd5577dcce0",
       "IPY_MODEL_484fe4fb240540238b7e24721af8e45b",
       "IPY_MODEL_c689e98e10b44e9ea1d706990ba366c4"
      ],
      "layout": "IPY_MODEL_eec310268a7f4d1d91f54a3e6cfb4f4b"
     }
    },
    "3eb3b7bc8ca64ea9981b94c51f4d8fa7": {
     "model_module": "@jupyter-widgets/controls",
     "model_module_version": "1.5.0",
     "model_name": "DescriptionStyleModel",
     "state": {
      "_model_module": "@jupyter-widgets/controls",
      "_model_module_version": "1.5.0",
      "_model_name": "DescriptionStyleModel",
      "_view_count": null,
      "_view_module": "@jupyter-widgets/base",
      "_view_module_version": "1.2.0",
      "_view_name": "StyleView",
      "description_width": ""
     }
    },
    "44fb89bb455f437a8d3e15b94f5446ed": {
     "model_module": "@jupyter-widgets/base",
     "model_module_version": "1.2.0",
     "model_name": "LayoutModel",
     "state": {
      "_model_module": "@jupyter-widgets/base",
      "_model_module_version": "1.2.0",
      "_model_name": "LayoutModel",
      "_view_count": null,
      "_view_module": "@jupyter-widgets/base",
      "_view_module_version": "1.2.0",
      "_view_name": "LayoutView",
      "align_content": null,
      "align_items": null,
      "align_self": null,
      "border": null,
      "bottom": null,
      "display": null,
      "flex": null,
      "flex_flow": null,
      "grid_area": null,
      "grid_auto_columns": null,
      "grid_auto_flow": null,
      "grid_auto_rows": null,
      "grid_column": null,
      "grid_gap": null,
      "grid_row": null,
      "grid_template_areas": null,
      "grid_template_columns": null,
      "grid_template_rows": null,
      "height": null,
      "justify_content": null,
      "justify_items": null,
      "left": null,
      "margin": null,
      "max_height": null,
      "max_width": null,
      "min_height": null,
      "min_width": null,
      "object_fit": null,
      "object_position": null,
      "order": null,
      "overflow": null,
      "overflow_x": null,
      "overflow_y": null,
      "padding": null,
      "right": null,
      "top": null,
      "visibility": null,
      "width": null
     }
    },
    "4630aadcb1fb4476b0f3c8abf6344940": {
     "model_module": "@jupyter-widgets/controls",
     "model_module_version": "1.5.0",
     "model_name": "FloatProgressModel",
     "state": {
      "_dom_classes": [],
      "_model_module": "@jupyter-widgets/controls",
      "_model_module_version": "1.5.0",
      "_model_name": "FloatProgressModel",
      "_view_count": null,
      "_view_module": "@jupyter-widgets/controls",
      "_view_module_version": "1.5.0",
      "_view_name": "ProgressView",
      "bar_style": "success",
      "description": "",
      "description_tooltip": null,
      "layout": "IPY_MODEL_249e223ad1f54d9e8422ff5b88f43c1f",
      "max": 1,
      "min": 0,
      "orientation": "horizontal",
      "style": "IPY_MODEL_b14dce167ee84c278d9b1b3fce444662",
      "value": 1
     }
    },
    "4738449f97df429192ab6a9c71a03f98": {
     "model_module": "@jupyter-widgets/controls",
     "model_module_version": "1.5.0",
     "model_name": "HBoxModel",
     "state": {
      "_dom_classes": [],
      "_model_module": "@jupyter-widgets/controls",
      "_model_module_version": "1.5.0",
      "_model_name": "HBoxModel",
      "_view_count": null,
      "_view_module": "@jupyter-widgets/controls",
      "_view_module_version": "1.5.0",
      "_view_name": "HBoxView",
      "box_style": "",
      "children": [
       "IPY_MODEL_0a35e9870df54e91b6569dadd1eb2dba",
       "IPY_MODEL_c153373240f34f62abbaae1f8e5ff3ad",
       "IPY_MODEL_988de274468b466ebe5a4791f97b0f19"
      ],
      "layout": "IPY_MODEL_29bc025d613d48fdae715f87c598683a"
     }
    },
    "484fe4fb240540238b7e24721af8e45b": {
     "model_module": "@jupyter-widgets/controls",
     "model_module_version": "1.5.0",
     "model_name": "FloatProgressModel",
     "state": {
      "_dom_classes": [],
      "_model_module": "@jupyter-widgets/controls",
      "_model_module_version": "1.5.0",
      "_model_name": "FloatProgressModel",
      "_view_count": null,
      "_view_module": "@jupyter-widgets/controls",
      "_view_module_version": "1.5.0",
      "_view_name": "ProgressView",
      "bar_style": "success",
      "description": "",
      "description_tooltip": null,
      "layout": "IPY_MODEL_9074a60384e447289016af89d81786e9",
      "max": 1,
      "min": 0,
      "orientation": "horizontal",
      "style": "IPY_MODEL_52a6ec223bc04d65a8d39e036c806b88",
      "value": 1
     }
    },
    "492a8acb87ff4431aa0aa0666b3b5968": {
     "model_module": "@jupyter-widgets/base",
     "model_module_version": "1.2.0",
     "model_name": "LayoutModel",
     "state": {
      "_model_module": "@jupyter-widgets/base",
      "_model_module_version": "1.2.0",
      "_model_name": "LayoutModel",
      "_view_count": null,
      "_view_module": "@jupyter-widgets/base",
      "_view_module_version": "1.2.0",
      "_view_name": "LayoutView",
      "align_content": null,
      "align_items": null,
      "align_self": null,
      "border": null,
      "bottom": null,
      "display": null,
      "flex": null,
      "flex_flow": null,
      "grid_area": null,
      "grid_auto_columns": null,
      "grid_auto_flow": null,
      "grid_auto_rows": null,
      "grid_column": null,
      "grid_gap": null,
      "grid_row": null,
      "grid_template_areas": null,
      "grid_template_columns": null,
      "grid_template_rows": null,
      "height": null,
      "justify_content": null,
      "justify_items": null,
      "left": null,
      "margin": null,
      "max_height": null,
      "max_width": null,
      "min_height": null,
      "min_width": null,
      "object_fit": null,
      "object_position": null,
      "order": null,
      "overflow": null,
      "overflow_x": null,
      "overflow_y": null,
      "padding": null,
      "right": null,
      "top": null,
      "visibility": null,
      "width": null
     }
    },
    "49ce96169ec04106ad5eca8c91b54565": {
     "model_module": "@jupyter-widgets/base",
     "model_module_version": "1.2.0",
     "model_name": "LayoutModel",
     "state": {
      "_model_module": "@jupyter-widgets/base",
      "_model_module_version": "1.2.0",
      "_model_name": "LayoutModel",
      "_view_count": null,
      "_view_module": "@jupyter-widgets/base",
      "_view_module_version": "1.2.0",
      "_view_name": "LayoutView",
      "align_content": null,
      "align_items": null,
      "align_self": null,
      "border": null,
      "bottom": null,
      "display": null,
      "flex": null,
      "flex_flow": null,
      "grid_area": null,
      "grid_auto_columns": null,
      "grid_auto_flow": null,
      "grid_auto_rows": null,
      "grid_column": null,
      "grid_gap": null,
      "grid_row": null,
      "grid_template_areas": null,
      "grid_template_columns": null,
      "grid_template_rows": null,
      "height": null,
      "justify_content": null,
      "justify_items": null,
      "left": null,
      "margin": null,
      "max_height": null,
      "max_width": null,
      "min_height": null,
      "min_width": null,
      "object_fit": null,
      "object_position": null,
      "order": null,
      "overflow": null,
      "overflow_x": null,
      "overflow_y": null,
      "padding": null,
      "right": null,
      "top": null,
      "visibility": null,
      "width": null
     }
    },
    "4fa7dd16ea6047c391e831e93514588f": {
     "model_module": "@jupyter-widgets/controls",
     "model_module_version": "1.5.0",
     "model_name": "DescriptionStyleModel",
     "state": {
      "_model_module": "@jupyter-widgets/controls",
      "_model_module_version": "1.5.0",
      "_model_name": "DescriptionStyleModel",
      "_view_count": null,
      "_view_module": "@jupyter-widgets/base",
      "_view_module_version": "1.2.0",
      "_view_name": "StyleView",
      "description_width": ""
     }
    },
    "4ff79465973b45859e4cd6c565dad1bd": {
     "model_module": "@jupyter-widgets/controls",
     "model_module_version": "1.5.0",
     "model_name": "ProgressStyleModel",
     "state": {
      "_model_module": "@jupyter-widgets/controls",
      "_model_module_version": "1.5.0",
      "_model_name": "ProgressStyleModel",
      "_view_count": null,
      "_view_module": "@jupyter-widgets/base",
      "_view_module_version": "1.2.0",
      "_view_name": "StyleView",
      "bar_color": null,
      "description_width": ""
     }
    },
    "50094d5d7acd4914813f2dc9a5e640d1": {
     "model_module": "@jupyter-widgets/base",
     "model_module_version": "1.2.0",
     "model_name": "LayoutModel",
     "state": {
      "_model_module": "@jupyter-widgets/base",
      "_model_module_version": "1.2.0",
      "_model_name": "LayoutModel",
      "_view_count": null,
      "_view_module": "@jupyter-widgets/base",
      "_view_module_version": "1.2.0",
      "_view_name": "LayoutView",
      "align_content": null,
      "align_items": null,
      "align_self": null,
      "border": null,
      "bottom": null,
      "display": null,
      "flex": null,
      "flex_flow": null,
      "grid_area": null,
      "grid_auto_columns": null,
      "grid_auto_flow": null,
      "grid_auto_rows": null,
      "grid_column": null,
      "grid_gap": null,
      "grid_row": null,
      "grid_template_areas": null,
      "grid_template_columns": null,
      "grid_template_rows": null,
      "height": null,
      "justify_content": null,
      "justify_items": null,
      "left": null,
      "margin": null,
      "max_height": null,
      "max_width": null,
      "min_height": null,
      "min_width": null,
      "object_fit": null,
      "object_position": null,
      "order": null,
      "overflow": null,
      "overflow_x": null,
      "overflow_y": null,
      "padding": null,
      "right": null,
      "top": null,
      "visibility": null,
      "width": null
     }
    },
    "52a6ec223bc04d65a8d39e036c806b88": {
     "model_module": "@jupyter-widgets/controls",
     "model_module_version": "1.5.0",
     "model_name": "ProgressStyleModel",
     "state": {
      "_model_module": "@jupyter-widgets/controls",
      "_model_module_version": "1.5.0",
      "_model_name": "ProgressStyleModel",
      "_view_count": null,
      "_view_module": "@jupyter-widgets/base",
      "_view_module_version": "1.2.0",
      "_view_name": "StyleView",
      "bar_color": null,
      "description_width": ""
     }
    },
    "52e2fd39a5fb4401a09735f4029e8b4c": {
     "model_module": "@jupyter-widgets/controls",
     "model_module_version": "1.5.0",
     "model_name": "DescriptionStyleModel",
     "state": {
      "_model_module": "@jupyter-widgets/controls",
      "_model_module_version": "1.5.0",
      "_model_name": "DescriptionStyleModel",
      "_view_count": null,
      "_view_module": "@jupyter-widgets/base",
      "_view_module_version": "1.2.0",
      "_view_name": "StyleView",
      "description_width": ""
     }
    },
    "531b947e40c84ad095bb40f1fb39003f": {
     "model_module": "@jupyter-widgets/controls",
     "model_module_version": "1.5.0",
     "model_name": "HBoxModel",
     "state": {
      "_dom_classes": [],
      "_model_module": "@jupyter-widgets/controls",
      "_model_module_version": "1.5.0",
      "_model_name": "HBoxModel",
      "_view_count": null,
      "_view_module": "@jupyter-widgets/controls",
      "_view_module_version": "1.5.0",
      "_view_name": "HBoxView",
      "box_style": "",
      "children": [
       "IPY_MODEL_a3ea3e9ff0b649aeb55067555f2e6d7a",
       "IPY_MODEL_5dfcc164442241ef9475c5ad72ebec0c",
       "IPY_MODEL_d7f199923d9441f9b65969cd9db5a47e"
      ],
      "layout": "IPY_MODEL_b64885f45edf4526b6c6a666c575c78a"
     }
    },
    "5716cd54b2154d4aaf9e11b6c45fff6d": {
     "model_module": "@jupyter-widgets/controls",
     "model_module_version": "1.5.0",
     "model_name": "DescriptionStyleModel",
     "state": {
      "_model_module": "@jupyter-widgets/controls",
      "_model_module_version": "1.5.0",
      "_model_name": "DescriptionStyleModel",
      "_view_count": null,
      "_view_module": "@jupyter-widgets/base",
      "_view_module_version": "1.2.0",
      "_view_name": "StyleView",
      "description_width": ""
     }
    },
    "59018a447c534faea588e54fdb57e011": {
     "model_module": "@jupyter-widgets/controls",
     "model_module_version": "1.5.0",
     "model_name": "DescriptionStyleModel",
     "state": {
      "_model_module": "@jupyter-widgets/controls",
      "_model_module_version": "1.5.0",
      "_model_name": "DescriptionStyleModel",
      "_view_count": null,
      "_view_module": "@jupyter-widgets/base",
      "_view_module_version": "1.2.0",
      "_view_name": "StyleView",
      "description_width": ""
     }
    },
    "594ea27eaa5140adbb15cbed0c6b2662": {
     "model_module": "@jupyter-widgets/base",
     "model_module_version": "1.2.0",
     "model_name": "LayoutModel",
     "state": {
      "_model_module": "@jupyter-widgets/base",
      "_model_module_version": "1.2.0",
      "_model_name": "LayoutModel",
      "_view_count": null,
      "_view_module": "@jupyter-widgets/base",
      "_view_module_version": "1.2.0",
      "_view_name": "LayoutView",
      "align_content": null,
      "align_items": null,
      "align_self": null,
      "border": null,
      "bottom": null,
      "display": null,
      "flex": null,
      "flex_flow": null,
      "grid_area": null,
      "grid_auto_columns": null,
      "grid_auto_flow": null,
      "grid_auto_rows": null,
      "grid_column": null,
      "grid_gap": null,
      "grid_row": null,
      "grid_template_areas": null,
      "grid_template_columns": null,
      "grid_template_rows": null,
      "height": null,
      "justify_content": null,
      "justify_items": null,
      "left": null,
      "margin": null,
      "max_height": null,
      "max_width": null,
      "min_height": null,
      "min_width": null,
      "object_fit": null,
      "object_position": null,
      "order": null,
      "overflow": null,
      "overflow_x": null,
      "overflow_y": null,
      "padding": null,
      "right": null,
      "top": null,
      "visibility": null,
      "width": null
     }
    },
    "5a0d319f983c4e51a728e61a38c3b3c4": {
     "model_module": "@jupyter-widgets/controls",
     "model_module_version": "1.5.0",
     "model_name": "DescriptionStyleModel",
     "state": {
      "_model_module": "@jupyter-widgets/controls",
      "_model_module_version": "1.5.0",
      "_model_name": "DescriptionStyleModel",
      "_view_count": null,
      "_view_module": "@jupyter-widgets/base",
      "_view_module_version": "1.2.0",
      "_view_name": "StyleView",
      "description_width": ""
     }
    },
    "5a6eb57e0ac2462397c1afa1cdb6ea71": {
     "model_module": "@jupyter-widgets/base",
     "model_module_version": "1.2.0",
     "model_name": "LayoutModel",
     "state": {
      "_model_module": "@jupyter-widgets/base",
      "_model_module_version": "1.2.0",
      "_model_name": "LayoutModel",
      "_view_count": null,
      "_view_module": "@jupyter-widgets/base",
      "_view_module_version": "1.2.0",
      "_view_name": "LayoutView",
      "align_content": null,
      "align_items": null,
      "align_self": null,
      "border": null,
      "bottom": null,
      "display": null,
      "flex": null,
      "flex_flow": null,
      "grid_area": null,
      "grid_auto_columns": null,
      "grid_auto_flow": null,
      "grid_auto_rows": null,
      "grid_column": null,
      "grid_gap": null,
      "grid_row": null,
      "grid_template_areas": null,
      "grid_template_columns": null,
      "grid_template_rows": null,
      "height": null,
      "justify_content": null,
      "justify_items": null,
      "left": null,
      "margin": null,
      "max_height": null,
      "max_width": null,
      "min_height": null,
      "min_width": null,
      "object_fit": null,
      "object_position": null,
      "order": null,
      "overflow": null,
      "overflow_x": null,
      "overflow_y": null,
      "padding": null,
      "right": null,
      "top": null,
      "visibility": null,
      "width": null
     }
    },
    "5dfcc164442241ef9475c5ad72ebec0c": {
     "model_module": "@jupyter-widgets/controls",
     "model_module_version": "1.5.0",
     "model_name": "FloatProgressModel",
     "state": {
      "_dom_classes": [],
      "_model_module": "@jupyter-widgets/controls",
      "_model_module_version": "1.5.0",
      "_model_name": "FloatProgressModel",
      "_view_count": null,
      "_view_module": "@jupyter-widgets/controls",
      "_view_module_version": "1.5.0",
      "_view_name": "ProgressView",
      "bar_style": "success",
      "description": "",
      "description_tooltip": null,
      "layout": "IPY_MODEL_1cca4b0201884a00a98cfb1557e2602c",
      "max": 1,
      "min": 0,
      "orientation": "horizontal",
      "style": "IPY_MODEL_bb19a0e6212a437996a964750be49f1e",
      "value": 1
     }
    },
    "5f61fe73b7554c3392100841e5fbf382": {
     "model_module": "@jupyter-widgets/base",
     "model_module_version": "1.2.0",
     "model_name": "LayoutModel",
     "state": {
      "_model_module": "@jupyter-widgets/base",
      "_model_module_version": "1.2.0",
      "_model_name": "LayoutModel",
      "_view_count": null,
      "_view_module": "@jupyter-widgets/base",
      "_view_module_version": "1.2.0",
      "_view_name": "LayoutView",
      "align_content": null,
      "align_items": null,
      "align_self": null,
      "border": null,
      "bottom": null,
      "display": null,
      "flex": null,
      "flex_flow": null,
      "grid_area": null,
      "grid_auto_columns": null,
      "grid_auto_flow": null,
      "grid_auto_rows": null,
      "grid_column": null,
      "grid_gap": null,
      "grid_row": null,
      "grid_template_areas": null,
      "grid_template_columns": null,
      "grid_template_rows": null,
      "height": null,
      "justify_content": null,
      "justify_items": null,
      "left": null,
      "margin": null,
      "max_height": null,
      "max_width": null,
      "min_height": null,
      "min_width": null,
      "object_fit": null,
      "object_position": null,
      "order": null,
      "overflow": null,
      "overflow_x": null,
      "overflow_y": null,
      "padding": null,
      "right": null,
      "top": null,
      "visibility": null,
      "width": null
     }
    },
    "602b138e5f3343d1a6e938b88a94de02": {
     "model_module": "@jupyter-widgets/base",
     "model_module_version": "1.2.0",
     "model_name": "LayoutModel",
     "state": {
      "_model_module": "@jupyter-widgets/base",
      "_model_module_version": "1.2.0",
      "_model_name": "LayoutModel",
      "_view_count": null,
      "_view_module": "@jupyter-widgets/base",
      "_view_module_version": "1.2.0",
      "_view_name": "LayoutView",
      "align_content": null,
      "align_items": null,
      "align_self": null,
      "border": null,
      "bottom": null,
      "display": null,
      "flex": null,
      "flex_flow": null,
      "grid_area": null,
      "grid_auto_columns": null,
      "grid_auto_flow": null,
      "grid_auto_rows": null,
      "grid_column": null,
      "grid_gap": null,
      "grid_row": null,
      "grid_template_areas": null,
      "grid_template_columns": null,
      "grid_template_rows": null,
      "height": null,
      "justify_content": null,
      "justify_items": null,
      "left": null,
      "margin": null,
      "max_height": null,
      "max_width": null,
      "min_height": null,
      "min_width": null,
      "object_fit": null,
      "object_position": null,
      "order": null,
      "overflow": null,
      "overflow_x": null,
      "overflow_y": null,
      "padding": null,
      "right": null,
      "top": null,
      "visibility": null,
      "width": null
     }
    },
    "62d89e7d965e42669cead78986145be5": {
     "model_module": "@jupyter-widgets/controls",
     "model_module_version": "1.5.0",
     "model_name": "HBoxModel",
     "state": {
      "_dom_classes": [],
      "_model_module": "@jupyter-widgets/controls",
      "_model_module_version": "1.5.0",
      "_model_name": "HBoxModel",
      "_view_count": null,
      "_view_module": "@jupyter-widgets/controls",
      "_view_module_version": "1.5.0",
      "_view_name": "HBoxView",
      "box_style": "",
      "children": [
       "IPY_MODEL_630ef32cb0a64bd9980aa37f26aa917b",
       "IPY_MODEL_8abe616e13fd478d99e630e45dca1a84",
       "IPY_MODEL_f50accf64c584ff68faecce15e9dc3b2"
      ],
      "layout": "IPY_MODEL_b87381b9000145ed806e1ddbfb515b8e"
     }
    },
    "630ef32cb0a64bd9980aa37f26aa917b": {
     "model_module": "@jupyter-widgets/controls",
     "model_module_version": "1.5.0",
     "model_name": "HTMLModel",
     "state": {
      "_dom_classes": [],
      "_model_module": "@jupyter-widgets/controls",
      "_model_module_version": "1.5.0",
      "_model_name": "HTMLModel",
      "_view_count": null,
      "_view_module": "@jupyter-widgets/controls",
      "_view_module_version": "1.5.0",
      "_view_name": "HTMLView",
      "description": "",
      "description_tooltip": null,
      "layout": "IPY_MODEL_f6d5dafc1c20402183e1fc1174826f70",
      "placeholder": "​",
      "style": "IPY_MODEL_b05716f75bad443788dbc3c730826db3",
      "value": "100%"
     }
    },
    "648831708b154acaa8ffcd5b203544f2": {
     "model_module": "@jupyter-widgets/controls",
     "model_module_version": "1.5.0",
     "model_name": "FloatProgressModel",
     "state": {
      "_dom_classes": [],
      "_model_module": "@jupyter-widgets/controls",
      "_model_module_version": "1.5.0",
      "_model_name": "FloatProgressModel",
      "_view_count": null,
      "_view_module": "@jupyter-widgets/controls",
      "_view_module_version": "1.5.0",
      "_view_name": "ProgressView",
      "bar_style": "success",
      "description": "",
      "description_tooltip": null,
      "layout": "IPY_MODEL_e276011d3a054a2c83d8fe09642a8eda",
      "max": 1,
      "min": 0,
      "orientation": "horizontal",
      "style": "IPY_MODEL_f81f0c1a16074de8b1a48f6020eda158",
      "value": 1
     }
    },
    "65d6845c504146e2b55dd6a1aeb2c042": {
     "model_module": "@jupyter-widgets/base",
     "model_module_version": "1.2.0",
     "model_name": "LayoutModel",
     "state": {
      "_model_module": "@jupyter-widgets/base",
      "_model_module_version": "1.2.0",
      "_model_name": "LayoutModel",
      "_view_count": null,
      "_view_module": "@jupyter-widgets/base",
      "_view_module_version": "1.2.0",
      "_view_name": "LayoutView",
      "align_content": null,
      "align_items": null,
      "align_self": null,
      "border": null,
      "bottom": null,
      "display": null,
      "flex": null,
      "flex_flow": null,
      "grid_area": null,
      "grid_auto_columns": null,
      "grid_auto_flow": null,
      "grid_auto_rows": null,
      "grid_column": null,
      "grid_gap": null,
      "grid_row": null,
      "grid_template_areas": null,
      "grid_template_columns": null,
      "grid_template_rows": null,
      "height": null,
      "justify_content": null,
      "justify_items": null,
      "left": null,
      "margin": null,
      "max_height": null,
      "max_width": null,
      "min_height": null,
      "min_width": null,
      "object_fit": null,
      "object_position": null,
      "order": null,
      "overflow": null,
      "overflow_x": null,
      "overflow_y": null,
      "padding": null,
      "right": null,
      "top": null,
      "visibility": null,
      "width": null
     }
    },
    "67f4b2308b5a409cb910a083af9367df": {
     "model_module": "@jupyter-widgets/controls",
     "model_module_version": "1.5.0",
     "model_name": "HTMLModel",
     "state": {
      "_dom_classes": [],
      "_model_module": "@jupyter-widgets/controls",
      "_model_module_version": "1.5.0",
      "_model_name": "HTMLModel",
      "_view_count": null,
      "_view_module": "@jupyter-widgets/controls",
      "_view_module_version": "1.5.0",
      "_view_name": "HTMLView",
      "description": "",
      "description_tooltip": null,
      "layout": "IPY_MODEL_6a85a51dbdf34e41a9f79f5ce8ebafe9",
      "placeholder": "​",
      "style": "IPY_MODEL_b788237f5b19493982d6f55c0f582db1",
      "value": " 1/1 [00:00&lt;00:00,  1.79it/s]"
     }
    },
    "67f8d49b795848fa91e6b576810e3a55": {
     "model_module": "@jupyter-widgets/base",
     "model_module_version": "1.2.0",
     "model_name": "LayoutModel",
     "state": {
      "_model_module": "@jupyter-widgets/base",
      "_model_module_version": "1.2.0",
      "_model_name": "LayoutModel",
      "_view_count": null,
      "_view_module": "@jupyter-widgets/base",
      "_view_module_version": "1.2.0",
      "_view_name": "LayoutView",
      "align_content": null,
      "align_items": null,
      "align_self": null,
      "border": null,
      "bottom": null,
      "display": null,
      "flex": null,
      "flex_flow": null,
      "grid_area": null,
      "grid_auto_columns": null,
      "grid_auto_flow": null,
      "grid_auto_rows": null,
      "grid_column": null,
      "grid_gap": null,
      "grid_row": null,
      "grid_template_areas": null,
      "grid_template_columns": null,
      "grid_template_rows": null,
      "height": null,
      "justify_content": null,
      "justify_items": null,
      "left": null,
      "margin": null,
      "max_height": null,
      "max_width": null,
      "min_height": null,
      "min_width": null,
      "object_fit": null,
      "object_position": null,
      "order": null,
      "overflow": null,
      "overflow_x": null,
      "overflow_y": null,
      "padding": null,
      "right": null,
      "top": null,
      "visibility": null,
      "width": null
     }
    },
    "6a85a51dbdf34e41a9f79f5ce8ebafe9": {
     "model_module": "@jupyter-widgets/base",
     "model_module_version": "1.2.0",
     "model_name": "LayoutModel",
     "state": {
      "_model_module": "@jupyter-widgets/base",
      "_model_module_version": "1.2.0",
      "_model_name": "LayoutModel",
      "_view_count": null,
      "_view_module": "@jupyter-widgets/base",
      "_view_module_version": "1.2.0",
      "_view_name": "LayoutView",
      "align_content": null,
      "align_items": null,
      "align_self": null,
      "border": null,
      "bottom": null,
      "display": null,
      "flex": null,
      "flex_flow": null,
      "grid_area": null,
      "grid_auto_columns": null,
      "grid_auto_flow": null,
      "grid_auto_rows": null,
      "grid_column": null,
      "grid_gap": null,
      "grid_row": null,
      "grid_template_areas": null,
      "grid_template_columns": null,
      "grid_template_rows": null,
      "height": null,
      "justify_content": null,
      "justify_items": null,
      "left": null,
      "margin": null,
      "max_height": null,
      "max_width": null,
      "min_height": null,
      "min_width": null,
      "object_fit": null,
      "object_position": null,
      "order": null,
      "overflow": null,
      "overflow_x": null,
      "overflow_y": null,
      "padding": null,
      "right": null,
      "top": null,
      "visibility": null,
      "width": null
     }
    },
    "6dbbe013d0fc4eefa49617704d192a3e": {
     "model_module": "@jupyter-widgets/controls",
     "model_module_version": "1.5.0",
     "model_name": "HTMLModel",
     "state": {
      "_dom_classes": [],
      "_model_module": "@jupyter-widgets/controls",
      "_model_module_version": "1.5.0",
      "_model_name": "HTMLModel",
      "_view_count": null,
      "_view_module": "@jupyter-widgets/controls",
      "_view_module_version": "1.5.0",
      "_view_name": "HTMLView",
      "description": "",
      "description_tooltip": null,
      "layout": "IPY_MODEL_221977e202c94b1781165088500165dd",
      "placeholder": "​",
      "style": "IPY_MODEL_77191aa403384836bedf76105e469de8",
      "value": " 1/1 [00:00&lt;00:00,  2.82it/s]"
     }
    },
    "6fb6ee033ba44678b5e289545a11c9fa": {
     "model_module": "@jupyter-widgets/controls",
     "model_module_version": "1.5.0",
     "model_name": "FloatProgressModel",
     "state": {
      "_dom_classes": [],
      "_model_module": "@jupyter-widgets/controls",
      "_model_module_version": "1.5.0",
      "_model_name": "FloatProgressModel",
      "_view_count": null,
      "_view_module": "@jupyter-widgets/controls",
      "_view_module_version": "1.5.0",
      "_view_name": "ProgressView",
      "bar_style": "success",
      "description": "",
      "description_tooltip": null,
      "layout": "IPY_MODEL_15fd11e95d434e09845e830ba33373a5",
      "max": 1,
      "min": 0,
      "orientation": "horizontal",
      "style": "IPY_MODEL_b662f6c0cc004e4699c0882f092f2442",
      "value": 1
     }
    },
    "70c331d2e4924b89a81b1893b07125e8": {
     "model_module": "@jupyter-widgets/controls",
     "model_module_version": "1.5.0",
     "model_name": "DescriptionStyleModel",
     "state": {
      "_model_module": "@jupyter-widgets/controls",
      "_model_module_version": "1.5.0",
      "_model_name": "DescriptionStyleModel",
      "_view_count": null,
      "_view_module": "@jupyter-widgets/base",
      "_view_module_version": "1.2.0",
      "_view_name": "StyleView",
      "description_width": ""
     }
    },
    "7273e14956f340c58cde5f662e6a3eaa": {
     "model_module": "@jupyter-widgets/controls",
     "model_module_version": "1.5.0",
     "model_name": "HTMLModel",
     "state": {
      "_dom_classes": [],
      "_model_module": "@jupyter-widgets/controls",
      "_model_module_version": "1.5.0",
      "_model_name": "HTMLModel",
      "_view_count": null,
      "_view_module": "@jupyter-widgets/controls",
      "_view_module_version": "1.5.0",
      "_view_name": "HTMLView",
      "description": "",
      "description_tooltip": null,
      "layout": "IPY_MODEL_dc7a2a818e22467a89f285eee72ee6ae",
      "placeholder": "​",
      "style": "IPY_MODEL_0f805253d2d44d428cabcdc9a074d638",
      "value": "100%"
     }
    },
    "73eb97b7cdc64f73850dcfc82835418e": {
     "model_module": "@jupyter-widgets/base",
     "model_module_version": "1.2.0",
     "model_name": "LayoutModel",
     "state": {
      "_model_module": "@jupyter-widgets/base",
      "_model_module_version": "1.2.0",
      "_model_name": "LayoutModel",
      "_view_count": null,
      "_view_module": "@jupyter-widgets/base",
      "_view_module_version": "1.2.0",
      "_view_name": "LayoutView",
      "align_content": null,
      "align_items": null,
      "align_self": null,
      "border": null,
      "bottom": null,
      "display": null,
      "flex": null,
      "flex_flow": null,
      "grid_area": null,
      "grid_auto_columns": null,
      "grid_auto_flow": null,
      "grid_auto_rows": null,
      "grid_column": null,
      "grid_gap": null,
      "grid_row": null,
      "grid_template_areas": null,
      "grid_template_columns": null,
      "grid_template_rows": null,
      "height": null,
      "justify_content": null,
      "justify_items": null,
      "left": null,
      "margin": null,
      "max_height": null,
      "max_width": null,
      "min_height": null,
      "min_width": null,
      "object_fit": null,
      "object_position": null,
      "order": null,
      "overflow": null,
      "overflow_x": null,
      "overflow_y": null,
      "padding": null,
      "right": null,
      "top": null,
      "visibility": null,
      "width": null
     }
    },
    "753c12fb4703448e92fb448e694a06d6": {
     "model_module": "@jupyter-widgets/controls",
     "model_module_version": "1.5.0",
     "model_name": "HTMLModel",
     "state": {
      "_dom_classes": [],
      "_model_module": "@jupyter-widgets/controls",
      "_model_module_version": "1.5.0",
      "_model_name": "HTMLModel",
      "_view_count": null,
      "_view_module": "@jupyter-widgets/controls",
      "_view_module_version": "1.5.0",
      "_view_name": "HTMLView",
      "description": "",
      "description_tooltip": null,
      "layout": "IPY_MODEL_67f8d49b795848fa91e6b576810e3a55",
      "placeholder": "​",
      "style": "IPY_MODEL_c9e1dfcc3dd34560ac6c264100871017",
      "value": "100%"
     }
    },
    "77191aa403384836bedf76105e469de8": {
     "model_module": "@jupyter-widgets/controls",
     "model_module_version": "1.5.0",
     "model_name": "DescriptionStyleModel",
     "state": {
      "_model_module": "@jupyter-widgets/controls",
      "_model_module_version": "1.5.0",
      "_model_name": "DescriptionStyleModel",
      "_view_count": null,
      "_view_module": "@jupyter-widgets/base",
      "_view_module_version": "1.2.0",
      "_view_name": "StyleView",
      "description_width": ""
     }
    },
    "785065852c814b1c94d34e77251ea3e7": {
     "model_module": "@jupyter-widgets/controls",
     "model_module_version": "1.5.0",
     "model_name": "FloatProgressModel",
     "state": {
      "_dom_classes": [],
      "_model_module": "@jupyter-widgets/controls",
      "_model_module_version": "1.5.0",
      "_model_name": "FloatProgressModel",
      "_view_count": null,
      "_view_module": "@jupyter-widgets/controls",
      "_view_module_version": "1.5.0",
      "_view_name": "ProgressView",
      "bar_style": "success",
      "description": "",
      "description_tooltip": null,
      "layout": "IPY_MODEL_5f61fe73b7554c3392100841e5fbf382",
      "max": 1,
      "min": 0,
      "orientation": "horizontal",
      "style": "IPY_MODEL_7bfb9f7cbbcf426286ea8b466143863e",
      "value": 1
     }
    },
    "7a931288af0b441da601ad03bd3cd0c3": {
     "model_module": "@jupyter-widgets/base",
     "model_module_version": "1.2.0",
     "model_name": "LayoutModel",
     "state": {
      "_model_module": "@jupyter-widgets/base",
      "_model_module_version": "1.2.0",
      "_model_name": "LayoutModel",
      "_view_count": null,
      "_view_module": "@jupyter-widgets/base",
      "_view_module_version": "1.2.0",
      "_view_name": "LayoutView",
      "align_content": null,
      "align_items": null,
      "align_self": null,
      "border": null,
      "bottom": null,
      "display": null,
      "flex": null,
      "flex_flow": null,
      "grid_area": null,
      "grid_auto_columns": null,
      "grid_auto_flow": null,
      "grid_auto_rows": null,
      "grid_column": null,
      "grid_gap": null,
      "grid_row": null,
      "grid_template_areas": null,
      "grid_template_columns": null,
      "grid_template_rows": null,
      "height": null,
      "justify_content": null,
      "justify_items": null,
      "left": null,
      "margin": null,
      "max_height": null,
      "max_width": null,
      "min_height": null,
      "min_width": null,
      "object_fit": null,
      "object_position": null,
      "order": null,
      "overflow": null,
      "overflow_x": null,
      "overflow_y": null,
      "padding": null,
      "right": null,
      "top": null,
      "visibility": null,
      "width": null
     }
    },
    "7b03fa75a6124578bbc22fb8ab5b406a": {
     "model_module": "@jupyter-widgets/controls",
     "model_module_version": "1.5.0",
     "model_name": "HTMLModel",
     "state": {
      "_dom_classes": [],
      "_model_module": "@jupyter-widgets/controls",
      "_model_module_version": "1.5.0",
      "_model_name": "HTMLModel",
      "_view_count": null,
      "_view_module": "@jupyter-widgets/controls",
      "_view_module_version": "1.5.0",
      "_view_name": "HTMLView",
      "description": "",
      "description_tooltip": null,
      "layout": "IPY_MODEL_322da07ef65445eb848b48d313ec469c",
      "placeholder": "​",
      "style": "IPY_MODEL_e6ef729fa45e4b7aa84e60a2fa166db5",
      "value": "100%"
     }
    },
    "7b086003b46e4536aabc82032882a947": {
     "model_module": "@jupyter-widgets/controls",
     "model_module_version": "1.5.0",
     "model_name": "FloatProgressModel",
     "state": {
      "_dom_classes": [],
      "_model_module": "@jupyter-widgets/controls",
      "_model_module_version": "1.5.0",
      "_model_name": "FloatProgressModel",
      "_view_count": null,
      "_view_module": "@jupyter-widgets/controls",
      "_view_module_version": "1.5.0",
      "_view_name": "ProgressView",
      "bar_style": "success",
      "description": "",
      "description_tooltip": null,
      "layout": "IPY_MODEL_b1ffafa1cb00497da2df561688c2725c",
      "max": 1,
      "min": 0,
      "orientation": "horizontal",
      "style": "IPY_MODEL_33d2d6d3c9e44c5d8e671cef11b23bb2",
      "value": 1
     }
    },
    "7bfb9f7cbbcf426286ea8b466143863e": {
     "model_module": "@jupyter-widgets/controls",
     "model_module_version": "1.5.0",
     "model_name": "ProgressStyleModel",
     "state": {
      "_model_module": "@jupyter-widgets/controls",
      "_model_module_version": "1.5.0",
      "_model_name": "ProgressStyleModel",
      "_view_count": null,
      "_view_module": "@jupyter-widgets/base",
      "_view_module_version": "1.2.0",
      "_view_name": "StyleView",
      "bar_color": null,
      "description_width": ""
     }
    },
    "84c73fe7ef8840a0972b5130debc7f7a": {
     "model_module": "@jupyter-widgets/controls",
     "model_module_version": "1.5.0",
     "model_name": "DescriptionStyleModel",
     "state": {
      "_model_module": "@jupyter-widgets/controls",
      "_model_module_version": "1.5.0",
      "_model_name": "DescriptionStyleModel",
      "_view_count": null,
      "_view_module": "@jupyter-widgets/base",
      "_view_module_version": "1.2.0",
      "_view_name": "StyleView",
      "description_width": ""
     }
    },
    "87bb2df68d1f42139e00cd6dc2ed4dca": {
     "model_module": "@jupyter-widgets/controls",
     "model_module_version": "1.5.0",
     "model_name": "HTMLModel",
     "state": {
      "_dom_classes": [],
      "_model_module": "@jupyter-widgets/controls",
      "_model_module_version": "1.5.0",
      "_model_name": "HTMLModel",
      "_view_count": null,
      "_view_module": "@jupyter-widgets/controls",
      "_view_module_version": "1.5.0",
      "_view_name": "HTMLView",
      "description": "",
      "description_tooltip": null,
      "layout": "IPY_MODEL_9f991b19c5814c729d53fc7a3959d5ef",
      "placeholder": "​",
      "style": "IPY_MODEL_18073f4390b5428b83525d82674de23d",
      "value": " 1/1 [00:00&lt;00:00,  2.75it/s]"
     }
    },
    "88060151dc68490aa97ca78ddf3a226e": {
     "model_module": "@jupyter-widgets/controls",
     "model_module_version": "1.5.0",
     "model_name": "DescriptionStyleModel",
     "state": {
      "_model_module": "@jupyter-widgets/controls",
      "_model_module_version": "1.5.0",
      "_model_name": "DescriptionStyleModel",
      "_view_count": null,
      "_view_module": "@jupyter-widgets/base",
      "_view_module_version": "1.2.0",
      "_view_name": "StyleView",
      "description_width": ""
     }
    },
    "8abe616e13fd478d99e630e45dca1a84": {
     "model_module": "@jupyter-widgets/controls",
     "model_module_version": "1.5.0",
     "model_name": "FloatProgressModel",
     "state": {
      "_dom_classes": [],
      "_model_module": "@jupyter-widgets/controls",
      "_model_module_version": "1.5.0",
      "_model_name": "FloatProgressModel",
      "_view_count": null,
      "_view_module": "@jupyter-widgets/controls",
      "_view_module_version": "1.5.0",
      "_view_name": "ProgressView",
      "bar_style": "success",
      "description": "",
      "description_tooltip": null,
      "layout": "IPY_MODEL_d1e93fc7a20a4d0fabdc9b277913f5c5",
      "max": 1,
      "min": 0,
      "orientation": "horizontal",
      "style": "IPY_MODEL_0f91995839404a9691068e505293d160",
      "value": 1
     }
    },
    "8af50305ed194e53bc608e53320c66eb": {
     "model_module": "@jupyter-widgets/controls",
     "model_module_version": "1.5.0",
     "model_name": "ProgressStyleModel",
     "state": {
      "_model_module": "@jupyter-widgets/controls",
      "_model_module_version": "1.5.0",
      "_model_name": "ProgressStyleModel",
      "_view_count": null,
      "_view_module": "@jupyter-widgets/base",
      "_view_module_version": "1.2.0",
      "_view_name": "StyleView",
      "bar_color": null,
      "description_width": ""
     }
    },
    "9074a60384e447289016af89d81786e9": {
     "model_module": "@jupyter-widgets/base",
     "model_module_version": "1.2.0",
     "model_name": "LayoutModel",
     "state": {
      "_model_module": "@jupyter-widgets/base",
      "_model_module_version": "1.2.0",
      "_model_name": "LayoutModel",
      "_view_count": null,
      "_view_module": "@jupyter-widgets/base",
      "_view_module_version": "1.2.0",
      "_view_name": "LayoutView",
      "align_content": null,
      "align_items": null,
      "align_self": null,
      "border": null,
      "bottom": null,
      "display": null,
      "flex": null,
      "flex_flow": null,
      "grid_area": null,
      "grid_auto_columns": null,
      "grid_auto_flow": null,
      "grid_auto_rows": null,
      "grid_column": null,
      "grid_gap": null,
      "grid_row": null,
      "grid_template_areas": null,
      "grid_template_columns": null,
      "grid_template_rows": null,
      "height": null,
      "justify_content": null,
      "justify_items": null,
      "left": null,
      "margin": null,
      "max_height": null,
      "max_width": null,
      "min_height": null,
      "min_width": null,
      "object_fit": null,
      "object_position": null,
      "order": null,
      "overflow": null,
      "overflow_x": null,
      "overflow_y": null,
      "padding": null,
      "right": null,
      "top": null,
      "visibility": null,
      "width": null
     }
    },
    "90e1c95de5754ac19fd52268132d929c": {
     "model_module": "@jupyter-widgets/base",
     "model_module_version": "1.2.0",
     "model_name": "LayoutModel",
     "state": {
      "_model_module": "@jupyter-widgets/base",
      "_model_module_version": "1.2.0",
      "_model_name": "LayoutModel",
      "_view_count": null,
      "_view_module": "@jupyter-widgets/base",
      "_view_module_version": "1.2.0",
      "_view_name": "LayoutView",
      "align_content": null,
      "align_items": null,
      "align_self": null,
      "border": null,
      "bottom": null,
      "display": null,
      "flex": null,
      "flex_flow": null,
      "grid_area": null,
      "grid_auto_columns": null,
      "grid_auto_flow": null,
      "grid_auto_rows": null,
      "grid_column": null,
      "grid_gap": null,
      "grid_row": null,
      "grid_template_areas": null,
      "grid_template_columns": null,
      "grid_template_rows": null,
      "height": null,
      "justify_content": null,
      "justify_items": null,
      "left": null,
      "margin": null,
      "max_height": null,
      "max_width": null,
      "min_height": null,
      "min_width": null,
      "object_fit": null,
      "object_position": null,
      "order": null,
      "overflow": null,
      "overflow_x": null,
      "overflow_y": null,
      "padding": null,
      "right": null,
      "top": null,
      "visibility": null,
      "width": null
     }
    },
    "952dfb6fa6f04641a8e0a3bed65ee3c5": {
     "model_module": "@jupyter-widgets/controls",
     "model_module_version": "1.5.0",
     "model_name": "DescriptionStyleModel",
     "state": {
      "_model_module": "@jupyter-widgets/controls",
      "_model_module_version": "1.5.0",
      "_model_name": "DescriptionStyleModel",
      "_view_count": null,
      "_view_module": "@jupyter-widgets/base",
      "_view_module_version": "1.2.0",
      "_view_name": "StyleView",
      "description_width": ""
     }
    },
    "97f6252ba4614c3da7032a2845bb4f2c": {
     "model_module": "@jupyter-widgets/base",
     "model_module_version": "1.2.0",
     "model_name": "LayoutModel",
     "state": {
      "_model_module": "@jupyter-widgets/base",
      "_model_module_version": "1.2.0",
      "_model_name": "LayoutModel",
      "_view_count": null,
      "_view_module": "@jupyter-widgets/base",
      "_view_module_version": "1.2.0",
      "_view_name": "LayoutView",
      "align_content": null,
      "align_items": null,
      "align_self": null,
      "border": null,
      "bottom": null,
      "display": null,
      "flex": null,
      "flex_flow": null,
      "grid_area": null,
      "grid_auto_columns": null,
      "grid_auto_flow": null,
      "grid_auto_rows": null,
      "grid_column": null,
      "grid_gap": null,
      "grid_row": null,
      "grid_template_areas": null,
      "grid_template_columns": null,
      "grid_template_rows": null,
      "height": null,
      "justify_content": null,
      "justify_items": null,
      "left": null,
      "margin": null,
      "max_height": null,
      "max_width": null,
      "min_height": null,
      "min_width": null,
      "object_fit": null,
      "object_position": null,
      "order": null,
      "overflow": null,
      "overflow_x": null,
      "overflow_y": null,
      "padding": null,
      "right": null,
      "top": null,
      "visibility": null,
      "width": null
     }
    },
    "988de274468b466ebe5a4791f97b0f19": {
     "model_module": "@jupyter-widgets/controls",
     "model_module_version": "1.5.0",
     "model_name": "HTMLModel",
     "state": {
      "_dom_classes": [],
      "_model_module": "@jupyter-widgets/controls",
      "_model_module_version": "1.5.0",
      "_model_name": "HTMLModel",
      "_view_count": null,
      "_view_module": "@jupyter-widgets/controls",
      "_view_module_version": "1.5.0",
      "_view_name": "HTMLView",
      "description": "",
      "description_tooltip": null,
      "layout": "IPY_MODEL_310e117ee6ae44569e510513860afb2a",
      "placeholder": "​",
      "style": "IPY_MODEL_88060151dc68490aa97ca78ddf3a226e",
      "value": " 1/1 [00:00&lt;00:00,  1.73it/s]"
     }
    },
    "9ae490272b5d4522ad39fd258274cd79": {
     "model_module": "@jupyter-widgets/controls",
     "model_module_version": "1.5.0",
     "model_name": "HTMLModel",
     "state": {
      "_dom_classes": [],
      "_model_module": "@jupyter-widgets/controls",
      "_model_module_version": "1.5.0",
      "_model_name": "HTMLModel",
      "_view_count": null,
      "_view_module": "@jupyter-widgets/controls",
      "_view_module_version": "1.5.0",
      "_view_name": "HTMLView",
      "description": "",
      "description_tooltip": null,
      "layout": "IPY_MODEL_44fb89bb455f437a8d3e15b94f5446ed",
      "placeholder": "​",
      "style": "IPY_MODEL_59018a447c534faea588e54fdb57e011",
      "value": " 1/1 [00:00&lt;00:00,  2.79it/s]"
     }
    },
    "9eff1c6d76b649fd9f5e2af36033b8b4": {
     "model_module": "@jupyter-widgets/controls",
     "model_module_version": "1.5.0",
     "model_name": "HBoxModel",
     "state": {
      "_dom_classes": [],
      "_model_module": "@jupyter-widgets/controls",
      "_model_module_version": "1.5.0",
      "_model_name": "HBoxModel",
      "_view_count": null,
      "_view_module": "@jupyter-widgets/controls",
      "_view_module_version": "1.5.0",
      "_view_name": "HBoxView",
      "box_style": "",
      "children": [
       "IPY_MODEL_7273e14956f340c58cde5f662e6a3eaa",
       "IPY_MODEL_b16f237bbdbf4f6887ab33755a178917",
       "IPY_MODEL_67f4b2308b5a409cb910a083af9367df"
      ],
      "layout": "IPY_MODEL_fcb7c826b7214abcaff934ec1b207124"
     }
    },
    "9f991b19c5814c729d53fc7a3959d5ef": {
     "model_module": "@jupyter-widgets/base",
     "model_module_version": "1.2.0",
     "model_name": "LayoutModel",
     "state": {
      "_model_module": "@jupyter-widgets/base",
      "_model_module_version": "1.2.0",
      "_model_name": "LayoutModel",
      "_view_count": null,
      "_view_module": "@jupyter-widgets/base",
      "_view_module_version": "1.2.0",
      "_view_name": "LayoutView",
      "align_content": null,
      "align_items": null,
      "align_self": null,
      "border": null,
      "bottom": null,
      "display": null,
      "flex": null,
      "flex_flow": null,
      "grid_area": null,
      "grid_auto_columns": null,
      "grid_auto_flow": null,
      "grid_auto_rows": null,
      "grid_column": null,
      "grid_gap": null,
      "grid_row": null,
      "grid_template_areas": null,
      "grid_template_columns": null,
      "grid_template_rows": null,
      "height": null,
      "justify_content": null,
      "justify_items": null,
      "left": null,
      "margin": null,
      "max_height": null,
      "max_width": null,
      "min_height": null,
      "min_width": null,
      "object_fit": null,
      "object_position": null,
      "order": null,
      "overflow": null,
      "overflow_x": null,
      "overflow_y": null,
      "padding": null,
      "right": null,
      "top": null,
      "visibility": null,
      "width": null
     }
    },
    "a3ea3e9ff0b649aeb55067555f2e6d7a": {
     "model_module": "@jupyter-widgets/controls",
     "model_module_version": "1.5.0",
     "model_name": "HTMLModel",
     "state": {
      "_dom_classes": [],
      "_model_module": "@jupyter-widgets/controls",
      "_model_module_version": "1.5.0",
      "_model_name": "HTMLModel",
      "_view_count": null,
      "_view_module": "@jupyter-widgets/controls",
      "_view_module_version": "1.5.0",
      "_view_name": "HTMLView",
      "description": "",
      "description_tooltip": null,
      "layout": "IPY_MODEL_90e1c95de5754ac19fd52268132d929c",
      "placeholder": "​",
      "style": "IPY_MODEL_a8833faf746440d3b9d031bc8f0de5f5",
      "value": "100%"
     }
    },
    "a500a7de73894013a31860f8b691205c": {
     "model_module": "@jupyter-widgets/base",
     "model_module_version": "1.2.0",
     "model_name": "LayoutModel",
     "state": {
      "_model_module": "@jupyter-widgets/base",
      "_model_module_version": "1.2.0",
      "_model_name": "LayoutModel",
      "_view_count": null,
      "_view_module": "@jupyter-widgets/base",
      "_view_module_version": "1.2.0",
      "_view_name": "LayoutView",
      "align_content": null,
      "align_items": null,
      "align_self": null,
      "border": null,
      "bottom": null,
      "display": null,
      "flex": null,
      "flex_flow": null,
      "grid_area": null,
      "grid_auto_columns": null,
      "grid_auto_flow": null,
      "grid_auto_rows": null,
      "grid_column": null,
      "grid_gap": null,
      "grid_row": null,
      "grid_template_areas": null,
      "grid_template_columns": null,
      "grid_template_rows": null,
      "height": null,
      "justify_content": null,
      "justify_items": null,
      "left": null,
      "margin": null,
      "max_height": null,
      "max_width": null,
      "min_height": null,
      "min_width": null,
      "object_fit": null,
      "object_position": null,
      "order": null,
      "overflow": null,
      "overflow_x": null,
      "overflow_y": null,
      "padding": null,
      "right": null,
      "top": null,
      "visibility": null,
      "width": null
     }
    },
    "a777f14e907a4aad971f5b0ed3b4b6cc": {
     "model_module": "@jupyter-widgets/base",
     "model_module_version": "1.2.0",
     "model_name": "LayoutModel",
     "state": {
      "_model_module": "@jupyter-widgets/base",
      "_model_module_version": "1.2.0",
      "_model_name": "LayoutModel",
      "_view_count": null,
      "_view_module": "@jupyter-widgets/base",
      "_view_module_version": "1.2.0",
      "_view_name": "LayoutView",
      "align_content": null,
      "align_items": null,
      "align_self": null,
      "border": null,
      "bottom": null,
      "display": null,
      "flex": null,
      "flex_flow": null,
      "grid_area": null,
      "grid_auto_columns": null,
      "grid_auto_flow": null,
      "grid_auto_rows": null,
      "grid_column": null,
      "grid_gap": null,
      "grid_row": null,
      "grid_template_areas": null,
      "grid_template_columns": null,
      "grid_template_rows": null,
      "height": null,
      "justify_content": null,
      "justify_items": null,
      "left": null,
      "margin": null,
      "max_height": null,
      "max_width": null,
      "min_height": null,
      "min_width": null,
      "object_fit": null,
      "object_position": null,
      "order": null,
      "overflow": null,
      "overflow_x": null,
      "overflow_y": null,
      "padding": null,
      "right": null,
      "top": null,
      "visibility": null,
      "width": null
     }
    },
    "a8833faf746440d3b9d031bc8f0de5f5": {
     "model_module": "@jupyter-widgets/controls",
     "model_module_version": "1.5.0",
     "model_name": "DescriptionStyleModel",
     "state": {
      "_model_module": "@jupyter-widgets/controls",
      "_model_module_version": "1.5.0",
      "_model_name": "DescriptionStyleModel",
      "_view_count": null,
      "_view_module": "@jupyter-widgets/base",
      "_view_module_version": "1.2.0",
      "_view_name": "StyleView",
      "description_width": ""
     }
    },
    "ac6996b8e39542be9af6ab798bc242fa": {
     "model_module": "@jupyter-widgets/base",
     "model_module_version": "1.2.0",
     "model_name": "LayoutModel",
     "state": {
      "_model_module": "@jupyter-widgets/base",
      "_model_module_version": "1.2.0",
      "_model_name": "LayoutModel",
      "_view_count": null,
      "_view_module": "@jupyter-widgets/base",
      "_view_module_version": "1.2.0",
      "_view_name": "LayoutView",
      "align_content": null,
      "align_items": null,
      "align_self": null,
      "border": null,
      "bottom": null,
      "display": null,
      "flex": null,
      "flex_flow": null,
      "grid_area": null,
      "grid_auto_columns": null,
      "grid_auto_flow": null,
      "grid_auto_rows": null,
      "grid_column": null,
      "grid_gap": null,
      "grid_row": null,
      "grid_template_areas": null,
      "grid_template_columns": null,
      "grid_template_rows": null,
      "height": null,
      "justify_content": null,
      "justify_items": null,
      "left": null,
      "margin": null,
      "max_height": null,
      "max_width": null,
      "min_height": null,
      "min_width": null,
      "object_fit": null,
      "object_position": null,
      "order": null,
      "overflow": null,
      "overflow_x": null,
      "overflow_y": null,
      "padding": null,
      "right": null,
      "top": null,
      "visibility": null,
      "width": null
     }
    },
    "af1bcaacfe644cdab9ab436e6014ec68": {
     "model_module": "@jupyter-widgets/controls",
     "model_module_version": "1.5.0",
     "model_name": "HBoxModel",
     "state": {
      "_dom_classes": [],
      "_model_module": "@jupyter-widgets/controls",
      "_model_module_version": "1.5.0",
      "_model_name": "HBoxModel",
      "_view_count": null,
      "_view_module": "@jupyter-widgets/controls",
      "_view_module_version": "1.5.0",
      "_view_name": "HBoxView",
      "box_style": "",
      "children": [
       "IPY_MODEL_ffbd947bb87442c3815c90fab84260fb",
       "IPY_MODEL_17aecd346ec6456faf4b58acaa06691e",
       "IPY_MODEL_6dbbe013d0fc4eefa49617704d192a3e"
      ],
      "layout": "IPY_MODEL_492a8acb87ff4431aa0aa0666b3b5968"
     }
    },
    "b05716f75bad443788dbc3c730826db3": {
     "model_module": "@jupyter-widgets/controls",
     "model_module_version": "1.5.0",
     "model_name": "DescriptionStyleModel",
     "state": {
      "_model_module": "@jupyter-widgets/controls",
      "_model_module_version": "1.5.0",
      "_model_name": "DescriptionStyleModel",
      "_view_count": null,
      "_view_module": "@jupyter-widgets/base",
      "_view_module_version": "1.2.0",
      "_view_name": "StyleView",
      "description_width": ""
     }
    },
    "b14068916386432f926ed5852c77b269": {
     "model_module": "@jupyter-widgets/controls",
     "model_module_version": "1.5.0",
     "model_name": "HBoxModel",
     "state": {
      "_dom_classes": [],
      "_model_module": "@jupyter-widgets/controls",
      "_model_module_version": "1.5.0",
      "_model_name": "HBoxModel",
      "_view_count": null,
      "_view_module": "@jupyter-widgets/controls",
      "_view_module_version": "1.5.0",
      "_view_name": "HBoxView",
      "box_style": "",
      "children": [
       "IPY_MODEL_034c0d2e1c284087ab41ddc7474a7e7e",
       "IPY_MODEL_4630aadcb1fb4476b0f3c8abf6344940",
       "IPY_MODEL_87bb2df68d1f42139e00cd6dc2ed4dca"
      ],
      "layout": "IPY_MODEL_49ce96169ec04106ad5eca8c91b54565"
     }
    },
    "b14dce167ee84c278d9b1b3fce444662": {
     "model_module": "@jupyter-widgets/controls",
     "model_module_version": "1.5.0",
     "model_name": "ProgressStyleModel",
     "state": {
      "_model_module": "@jupyter-widgets/controls",
      "_model_module_version": "1.5.0",
      "_model_name": "ProgressStyleModel",
      "_view_count": null,
      "_view_module": "@jupyter-widgets/base",
      "_view_module_version": "1.2.0",
      "_view_name": "StyleView",
      "bar_color": null,
      "description_width": ""
     }
    },
    "b16f237bbdbf4f6887ab33755a178917": {
     "model_module": "@jupyter-widgets/controls",
     "model_module_version": "1.5.0",
     "model_name": "FloatProgressModel",
     "state": {
      "_dom_classes": [],
      "_model_module": "@jupyter-widgets/controls",
      "_model_module_version": "1.5.0",
      "_model_name": "FloatProgressModel",
      "_view_count": null,
      "_view_module": "@jupyter-widgets/controls",
      "_view_module_version": "1.5.0",
      "_view_name": "ProgressView",
      "bar_style": "success",
      "description": "",
      "description_tooltip": null,
      "layout": "IPY_MODEL_a777f14e907a4aad971f5b0ed3b4b6cc",
      "max": 1,
      "min": 0,
      "orientation": "horizontal",
      "style": "IPY_MODEL_b34a88fbb14e461889b8cb4c3603fae6",
      "value": 1
     }
    },
    "b1ffafa1cb00497da2df561688c2725c": {
     "model_module": "@jupyter-widgets/base",
     "model_module_version": "1.2.0",
     "model_name": "LayoutModel",
     "state": {
      "_model_module": "@jupyter-widgets/base",
      "_model_module_version": "1.2.0",
      "_model_name": "LayoutModel",
      "_view_count": null,
      "_view_module": "@jupyter-widgets/base",
      "_view_module_version": "1.2.0",
      "_view_name": "LayoutView",
      "align_content": null,
      "align_items": null,
      "align_self": null,
      "border": null,
      "bottom": null,
      "display": null,
      "flex": null,
      "flex_flow": null,
      "grid_area": null,
      "grid_auto_columns": null,
      "grid_auto_flow": null,
      "grid_auto_rows": null,
      "grid_column": null,
      "grid_gap": null,
      "grid_row": null,
      "grid_template_areas": null,
      "grid_template_columns": null,
      "grid_template_rows": null,
      "height": null,
      "justify_content": null,
      "justify_items": null,
      "left": null,
      "margin": null,
      "max_height": null,
      "max_width": null,
      "min_height": null,
      "min_width": null,
      "object_fit": null,
      "object_position": null,
      "order": null,
      "overflow": null,
      "overflow_x": null,
      "overflow_y": null,
      "padding": null,
      "right": null,
      "top": null,
      "visibility": null,
      "width": null
     }
    },
    "b227ab874e644c5a854f712c91e3a8fc": {
     "model_module": "@jupyter-widgets/base",
     "model_module_version": "1.2.0",
     "model_name": "LayoutModel",
     "state": {
      "_model_module": "@jupyter-widgets/base",
      "_model_module_version": "1.2.0",
      "_model_name": "LayoutModel",
      "_view_count": null,
      "_view_module": "@jupyter-widgets/base",
      "_view_module_version": "1.2.0",
      "_view_name": "LayoutView",
      "align_content": null,
      "align_items": null,
      "align_self": null,
      "border": null,
      "bottom": null,
      "display": null,
      "flex": null,
      "flex_flow": null,
      "grid_area": null,
      "grid_auto_columns": null,
      "grid_auto_flow": null,
      "grid_auto_rows": null,
      "grid_column": null,
      "grid_gap": null,
      "grid_row": null,
      "grid_template_areas": null,
      "grid_template_columns": null,
      "grid_template_rows": null,
      "height": null,
      "justify_content": null,
      "justify_items": null,
      "left": null,
      "margin": null,
      "max_height": null,
      "max_width": null,
      "min_height": null,
      "min_width": null,
      "object_fit": null,
      "object_position": null,
      "order": null,
      "overflow": null,
      "overflow_x": null,
      "overflow_y": null,
      "padding": null,
      "right": null,
      "top": null,
      "visibility": null,
      "width": null
     }
    },
    "b34a88fbb14e461889b8cb4c3603fae6": {
     "model_module": "@jupyter-widgets/controls",
     "model_module_version": "1.5.0",
     "model_name": "ProgressStyleModel",
     "state": {
      "_model_module": "@jupyter-widgets/controls",
      "_model_module_version": "1.5.0",
      "_model_name": "ProgressStyleModel",
      "_view_count": null,
      "_view_module": "@jupyter-widgets/base",
      "_view_module_version": "1.2.0",
      "_view_name": "StyleView",
      "bar_color": null,
      "description_width": ""
     }
    },
    "b4dc67b4d76b43388574d70bdc4ff262": {
     "model_module": "@jupyter-widgets/base",
     "model_module_version": "1.2.0",
     "model_name": "LayoutModel",
     "state": {
      "_model_module": "@jupyter-widgets/base",
      "_model_module_version": "1.2.0",
      "_model_name": "LayoutModel",
      "_view_count": null,
      "_view_module": "@jupyter-widgets/base",
      "_view_module_version": "1.2.0",
      "_view_name": "LayoutView",
      "align_content": null,
      "align_items": null,
      "align_self": null,
      "border": null,
      "bottom": null,
      "display": null,
      "flex": null,
      "flex_flow": null,
      "grid_area": null,
      "grid_auto_columns": null,
      "grid_auto_flow": null,
      "grid_auto_rows": null,
      "grid_column": null,
      "grid_gap": null,
      "grid_row": null,
      "grid_template_areas": null,
      "grid_template_columns": null,
      "grid_template_rows": null,
      "height": null,
      "justify_content": null,
      "justify_items": null,
      "left": null,
      "margin": null,
      "max_height": null,
      "max_width": null,
      "min_height": null,
      "min_width": null,
      "object_fit": null,
      "object_position": null,
      "order": null,
      "overflow": null,
      "overflow_x": null,
      "overflow_y": null,
      "padding": null,
      "right": null,
      "top": null,
      "visibility": null,
      "width": null
     }
    },
    "b64885f45edf4526b6c6a666c575c78a": {
     "model_module": "@jupyter-widgets/base",
     "model_module_version": "1.2.0",
     "model_name": "LayoutModel",
     "state": {
      "_model_module": "@jupyter-widgets/base",
      "_model_module_version": "1.2.0",
      "_model_name": "LayoutModel",
      "_view_count": null,
      "_view_module": "@jupyter-widgets/base",
      "_view_module_version": "1.2.0",
      "_view_name": "LayoutView",
      "align_content": null,
      "align_items": null,
      "align_self": null,
      "border": null,
      "bottom": null,
      "display": null,
      "flex": null,
      "flex_flow": null,
      "grid_area": null,
      "grid_auto_columns": null,
      "grid_auto_flow": null,
      "grid_auto_rows": null,
      "grid_column": null,
      "grid_gap": null,
      "grid_row": null,
      "grid_template_areas": null,
      "grid_template_columns": null,
      "grid_template_rows": null,
      "height": null,
      "justify_content": null,
      "justify_items": null,
      "left": null,
      "margin": null,
      "max_height": null,
      "max_width": null,
      "min_height": null,
      "min_width": null,
      "object_fit": null,
      "object_position": null,
      "order": null,
      "overflow": null,
      "overflow_x": null,
      "overflow_y": null,
      "padding": null,
      "right": null,
      "top": null,
      "visibility": null,
      "width": null
     }
    },
    "b662f6c0cc004e4699c0882f092f2442": {
     "model_module": "@jupyter-widgets/controls",
     "model_module_version": "1.5.0",
     "model_name": "ProgressStyleModel",
     "state": {
      "_model_module": "@jupyter-widgets/controls",
      "_model_module_version": "1.5.0",
      "_model_name": "ProgressStyleModel",
      "_view_count": null,
      "_view_module": "@jupyter-widgets/base",
      "_view_module_version": "1.2.0",
      "_view_name": "StyleView",
      "bar_color": null,
      "description_width": ""
     }
    },
    "b788237f5b19493982d6f55c0f582db1": {
     "model_module": "@jupyter-widgets/controls",
     "model_module_version": "1.5.0",
     "model_name": "DescriptionStyleModel",
     "state": {
      "_model_module": "@jupyter-widgets/controls",
      "_model_module_version": "1.5.0",
      "_model_name": "DescriptionStyleModel",
      "_view_count": null,
      "_view_module": "@jupyter-widgets/base",
      "_view_module_version": "1.2.0",
      "_view_name": "StyleView",
      "description_width": ""
     }
    },
    "b827168367984755926ade0933d30efc": {
     "model_module": "@jupyter-widgets/controls",
     "model_module_version": "1.5.0",
     "model_name": "HBoxModel",
     "state": {
      "_dom_classes": [],
      "_model_module": "@jupyter-widgets/controls",
      "_model_module_version": "1.5.0",
      "_model_name": "HBoxModel",
      "_view_count": null,
      "_view_module": "@jupyter-widgets/controls",
      "_view_module_version": "1.5.0",
      "_view_name": "HBoxView",
      "box_style": "",
      "children": [
       "IPY_MODEL_d8838c6ca4ca43119ed03677d931356d",
       "IPY_MODEL_6fb6ee033ba44678b5e289545a11c9fa",
       "IPY_MODEL_1e15f4ab297141e1ad4391cc616711e2"
      ],
      "layout": "IPY_MODEL_7a931288af0b441da601ad03bd3cd0c3"
     }
    },
    "b87381b9000145ed806e1ddbfb515b8e": {
     "model_module": "@jupyter-widgets/base",
     "model_module_version": "1.2.0",
     "model_name": "LayoutModel",
     "state": {
      "_model_module": "@jupyter-widgets/base",
      "_model_module_version": "1.2.0",
      "_model_name": "LayoutModel",
      "_view_count": null,
      "_view_module": "@jupyter-widgets/base",
      "_view_module_version": "1.2.0",
      "_view_name": "LayoutView",
      "align_content": null,
      "align_items": null,
      "align_self": null,
      "border": null,
      "bottom": null,
      "display": null,
      "flex": null,
      "flex_flow": null,
      "grid_area": null,
      "grid_auto_columns": null,
      "grid_auto_flow": null,
      "grid_auto_rows": null,
      "grid_column": null,
      "grid_gap": null,
      "grid_row": null,
      "grid_template_areas": null,
      "grid_template_columns": null,
      "grid_template_rows": null,
      "height": null,
      "justify_content": null,
      "justify_items": null,
      "left": null,
      "margin": null,
      "max_height": null,
      "max_width": null,
      "min_height": null,
      "min_width": null,
      "object_fit": null,
      "object_position": null,
      "order": null,
      "overflow": null,
      "overflow_x": null,
      "overflow_y": null,
      "padding": null,
      "right": null,
      "top": null,
      "visibility": null,
      "width": null
     }
    },
    "b8932210e88c4e14827bf492487c8f86": {
     "model_module": "@jupyter-widgets/base",
     "model_module_version": "1.2.0",
     "model_name": "LayoutModel",
     "state": {
      "_model_module": "@jupyter-widgets/base",
      "_model_module_version": "1.2.0",
      "_model_name": "LayoutModel",
      "_view_count": null,
      "_view_module": "@jupyter-widgets/base",
      "_view_module_version": "1.2.0",
      "_view_name": "LayoutView",
      "align_content": null,
      "align_items": null,
      "align_self": null,
      "border": null,
      "bottom": null,
      "display": null,
      "flex": null,
      "flex_flow": null,
      "grid_area": null,
      "grid_auto_columns": null,
      "grid_auto_flow": null,
      "grid_auto_rows": null,
      "grid_column": null,
      "grid_gap": null,
      "grid_row": null,
      "grid_template_areas": null,
      "grid_template_columns": null,
      "grid_template_rows": null,
      "height": null,
      "justify_content": null,
      "justify_items": null,
      "left": null,
      "margin": null,
      "max_height": null,
      "max_width": null,
      "min_height": null,
      "min_width": null,
      "object_fit": null,
      "object_position": null,
      "order": null,
      "overflow": null,
      "overflow_x": null,
      "overflow_y": null,
      "padding": null,
      "right": null,
      "top": null,
      "visibility": null,
      "width": null
     }
    },
    "bb18583e8a184d07b70ab80355e59c62": {
     "model_module": "@jupyter-widgets/base",
     "model_module_version": "1.2.0",
     "model_name": "LayoutModel",
     "state": {
      "_model_module": "@jupyter-widgets/base",
      "_model_module_version": "1.2.0",
      "_model_name": "LayoutModel",
      "_view_count": null,
      "_view_module": "@jupyter-widgets/base",
      "_view_module_version": "1.2.0",
      "_view_name": "LayoutView",
      "align_content": null,
      "align_items": null,
      "align_self": null,
      "border": null,
      "bottom": null,
      "display": null,
      "flex": null,
      "flex_flow": null,
      "grid_area": null,
      "grid_auto_columns": null,
      "grid_auto_flow": null,
      "grid_auto_rows": null,
      "grid_column": null,
      "grid_gap": null,
      "grid_row": null,
      "grid_template_areas": null,
      "grid_template_columns": null,
      "grid_template_rows": null,
      "height": null,
      "justify_content": null,
      "justify_items": null,
      "left": null,
      "margin": null,
      "max_height": null,
      "max_width": null,
      "min_height": null,
      "min_width": null,
      "object_fit": null,
      "object_position": null,
      "order": null,
      "overflow": null,
      "overflow_x": null,
      "overflow_y": null,
      "padding": null,
      "right": null,
      "top": null,
      "visibility": null,
      "width": null
     }
    },
    "bb19a0e6212a437996a964750be49f1e": {
     "model_module": "@jupyter-widgets/controls",
     "model_module_version": "1.5.0",
     "model_name": "ProgressStyleModel",
     "state": {
      "_model_module": "@jupyter-widgets/controls",
      "_model_module_version": "1.5.0",
      "_model_name": "ProgressStyleModel",
      "_view_count": null,
      "_view_module": "@jupyter-widgets/base",
      "_view_module_version": "1.2.0",
      "_view_name": "StyleView",
      "bar_color": null,
      "description_width": ""
     }
    },
    "bc88c29677e74d7aacf11d764fdae491": {
     "model_module": "@jupyter-widgets/controls",
     "model_module_version": "1.5.0",
     "model_name": "HBoxModel",
     "state": {
      "_dom_classes": [],
      "_model_module": "@jupyter-widgets/controls",
      "_model_module_version": "1.5.0",
      "_model_name": "HBoxModel",
      "_view_count": null,
      "_view_module": "@jupyter-widgets/controls",
      "_view_module_version": "1.5.0",
      "_view_name": "HBoxView",
      "box_style": "",
      "children": [
       "IPY_MODEL_e608eee4ccec441fb6f5e68d9eb4e254",
       "IPY_MODEL_648831708b154acaa8ffcd5b203544f2",
       "IPY_MODEL_ea980ec6d7c04c2ab410c75aca1c2aa5"
      ],
      "layout": "IPY_MODEL_beb2f0290cfb479b9ee96465892f6d8c"
     }
    },
    "beb2f0290cfb479b9ee96465892f6d8c": {
     "model_module": "@jupyter-widgets/base",
     "model_module_version": "1.2.0",
     "model_name": "LayoutModel",
     "state": {
      "_model_module": "@jupyter-widgets/base",
      "_model_module_version": "1.2.0",
      "_model_name": "LayoutModel",
      "_view_count": null,
      "_view_module": "@jupyter-widgets/base",
      "_view_module_version": "1.2.0",
      "_view_name": "LayoutView",
      "align_content": null,
      "align_items": null,
      "align_self": null,
      "border": null,
      "bottom": null,
      "display": null,
      "flex": null,
      "flex_flow": null,
      "grid_area": null,
      "grid_auto_columns": null,
      "grid_auto_flow": null,
      "grid_auto_rows": null,
      "grid_column": null,
      "grid_gap": null,
      "grid_row": null,
      "grid_template_areas": null,
      "grid_template_columns": null,
      "grid_template_rows": null,
      "height": null,
      "justify_content": null,
      "justify_items": null,
      "left": null,
      "margin": null,
      "max_height": null,
      "max_width": null,
      "min_height": null,
      "min_width": null,
      "object_fit": null,
      "object_position": null,
      "order": null,
      "overflow": null,
      "overflow_x": null,
      "overflow_y": null,
      "padding": null,
      "right": null,
      "top": null,
      "visibility": null,
      "width": null
     }
    },
    "c153373240f34f62abbaae1f8e5ff3ad": {
     "model_module": "@jupyter-widgets/controls",
     "model_module_version": "1.5.0",
     "model_name": "FloatProgressModel",
     "state": {
      "_dom_classes": [],
      "_model_module": "@jupyter-widgets/controls",
      "_model_module_version": "1.5.0",
      "_model_name": "FloatProgressModel",
      "_view_count": null,
      "_view_module": "@jupyter-widgets/controls",
      "_view_module_version": "1.5.0",
      "_view_name": "ProgressView",
      "bar_style": "success",
      "description": "",
      "description_tooltip": null,
      "layout": "IPY_MODEL_b227ab874e644c5a854f712c91e3a8fc",
      "max": 1,
      "min": 0,
      "orientation": "horizontal",
      "style": "IPY_MODEL_0ed3957e6be0445e81bc490efb181c97",
      "value": 1
     }
    },
    "c43924a4be674468bdcaa2b04985bb0f": {
     "model_module": "@jupyter-widgets/controls",
     "model_module_version": "1.5.0",
     "model_name": "DescriptionStyleModel",
     "state": {
      "_model_module": "@jupyter-widgets/controls",
      "_model_module_version": "1.5.0",
      "_model_name": "DescriptionStyleModel",
      "_view_count": null,
      "_view_module": "@jupyter-widgets/base",
      "_view_module_version": "1.2.0",
      "_view_name": "StyleView",
      "description_width": ""
     }
    },
    "c689e98e10b44e9ea1d706990ba366c4": {
     "model_module": "@jupyter-widgets/controls",
     "model_module_version": "1.5.0",
     "model_name": "HTMLModel",
     "state": {
      "_dom_classes": [],
      "_model_module": "@jupyter-widgets/controls",
      "_model_module_version": "1.5.0",
      "_model_name": "HTMLModel",
      "_view_count": null,
      "_view_module": "@jupyter-widgets/controls",
      "_view_module_version": "1.5.0",
      "_view_name": "HTMLView",
      "description": "",
      "description_tooltip": null,
      "layout": "IPY_MODEL_73eb97b7cdc64f73850dcfc82835418e",
      "placeholder": "​",
      "style": "IPY_MODEL_952dfb6fa6f04641a8e0a3bed65ee3c5",
      "value": " 1/1 [00:00&lt;00:00,  2.74it/s]"
     }
    },
    "c9e1dfcc3dd34560ac6c264100871017": {
     "model_module": "@jupyter-widgets/controls",
     "model_module_version": "1.5.0",
     "model_name": "DescriptionStyleModel",
     "state": {
      "_model_module": "@jupyter-widgets/controls",
      "_model_module_version": "1.5.0",
      "_model_name": "DescriptionStyleModel",
      "_view_count": null,
      "_view_module": "@jupyter-widgets/base",
      "_view_module_version": "1.2.0",
      "_view_name": "StyleView",
      "description_width": ""
     }
    },
    "d1e93fc7a20a4d0fabdc9b277913f5c5": {
     "model_module": "@jupyter-widgets/base",
     "model_module_version": "1.2.0",
     "model_name": "LayoutModel",
     "state": {
      "_model_module": "@jupyter-widgets/base",
      "_model_module_version": "1.2.0",
      "_model_name": "LayoutModel",
      "_view_count": null,
      "_view_module": "@jupyter-widgets/base",
      "_view_module_version": "1.2.0",
      "_view_name": "LayoutView",
      "align_content": null,
      "align_items": null,
      "align_self": null,
      "border": null,
      "bottom": null,
      "display": null,
      "flex": null,
      "flex_flow": null,
      "grid_area": null,
      "grid_auto_columns": null,
      "grid_auto_flow": null,
      "grid_auto_rows": null,
      "grid_column": null,
      "grid_gap": null,
      "grid_row": null,
      "grid_template_areas": null,
      "grid_template_columns": null,
      "grid_template_rows": null,
      "height": null,
      "justify_content": null,
      "justify_items": null,
      "left": null,
      "margin": null,
      "max_height": null,
      "max_width": null,
      "min_height": null,
      "min_width": null,
      "object_fit": null,
      "object_position": null,
      "order": null,
      "overflow": null,
      "overflow_x": null,
      "overflow_y": null,
      "padding": null,
      "right": null,
      "top": null,
      "visibility": null,
      "width": null
     }
    },
    "d7f199923d9441f9b65969cd9db5a47e": {
     "model_module": "@jupyter-widgets/controls",
     "model_module_version": "1.5.0",
     "model_name": "HTMLModel",
     "state": {
      "_dom_classes": [],
      "_model_module": "@jupyter-widgets/controls",
      "_model_module_version": "1.5.0",
      "_model_name": "HTMLModel",
      "_view_count": null,
      "_view_module": "@jupyter-widgets/controls",
      "_view_module_version": "1.5.0",
      "_view_name": "HTMLView",
      "description": "",
      "description_tooltip": null,
      "layout": "IPY_MODEL_602b138e5f3343d1a6e938b88a94de02",
      "placeholder": "​",
      "style": "IPY_MODEL_4fa7dd16ea6047c391e831e93514588f",
      "value": " 1/1 [00:00&lt;00:00,  1.74it/s]"
     }
    },
    "d8838c6ca4ca43119ed03677d931356d": {
     "model_module": "@jupyter-widgets/controls",
     "model_module_version": "1.5.0",
     "model_name": "HTMLModel",
     "state": {
      "_dom_classes": [],
      "_model_module": "@jupyter-widgets/controls",
      "_model_module_version": "1.5.0",
      "_model_name": "HTMLModel",
      "_view_count": null,
      "_view_module": "@jupyter-widgets/controls",
      "_view_module_version": "1.5.0",
      "_view_name": "HTMLView",
      "description": "",
      "description_tooltip": null,
      "layout": "IPY_MODEL_b8932210e88c4e14827bf492487c8f86",
      "placeholder": "​",
      "style": "IPY_MODEL_84c73fe7ef8840a0972b5130debc7f7a",
      "value": "100%"
     }
    },
    "dc7a2a818e22467a89f285eee72ee6ae": {
     "model_module": "@jupyter-widgets/base",
     "model_module_version": "1.2.0",
     "model_name": "LayoutModel",
     "state": {
      "_model_module": "@jupyter-widgets/base",
      "_model_module_version": "1.2.0",
      "_model_name": "LayoutModel",
      "_view_count": null,
      "_view_module": "@jupyter-widgets/base",
      "_view_module_version": "1.2.0",
      "_view_name": "LayoutView",
      "align_content": null,
      "align_items": null,
      "align_self": null,
      "border": null,
      "bottom": null,
      "display": null,
      "flex": null,
      "flex_flow": null,
      "grid_area": null,
      "grid_auto_columns": null,
      "grid_auto_flow": null,
      "grid_auto_rows": null,
      "grid_column": null,
      "grid_gap": null,
      "grid_row": null,
      "grid_template_areas": null,
      "grid_template_columns": null,
      "grid_template_rows": null,
      "height": null,
      "justify_content": null,
      "justify_items": null,
      "left": null,
      "margin": null,
      "max_height": null,
      "max_width": null,
      "min_height": null,
      "min_width": null,
      "object_fit": null,
      "object_position": null,
      "order": null,
      "overflow": null,
      "overflow_x": null,
      "overflow_y": null,
      "padding": null,
      "right": null,
      "top": null,
      "visibility": null,
      "width": null
     }
    },
    "dcfa1cb9db7941a3b74be43d1376472d": {
     "model_module": "@jupyter-widgets/controls",
     "model_module_version": "1.5.0",
     "model_name": "DescriptionStyleModel",
     "state": {
      "_model_module": "@jupyter-widgets/controls",
      "_model_module_version": "1.5.0",
      "_model_name": "DescriptionStyleModel",
      "_view_count": null,
      "_view_module": "@jupyter-widgets/base",
      "_view_module_version": "1.2.0",
      "_view_name": "StyleView",
      "description_width": ""
     }
    },
    "e276011d3a054a2c83d8fe09642a8eda": {
     "model_module": "@jupyter-widgets/base",
     "model_module_version": "1.2.0",
     "model_name": "LayoutModel",
     "state": {
      "_model_module": "@jupyter-widgets/base",
      "_model_module_version": "1.2.0",
      "_model_name": "LayoutModel",
      "_view_count": null,
      "_view_module": "@jupyter-widgets/base",
      "_view_module_version": "1.2.0",
      "_view_name": "LayoutView",
      "align_content": null,
      "align_items": null,
      "align_self": null,
      "border": null,
      "bottom": null,
      "display": null,
      "flex": null,
      "flex_flow": null,
      "grid_area": null,
      "grid_auto_columns": null,
      "grid_auto_flow": null,
      "grid_auto_rows": null,
      "grid_column": null,
      "grid_gap": null,
      "grid_row": null,
      "grid_template_areas": null,
      "grid_template_columns": null,
      "grid_template_rows": null,
      "height": null,
      "justify_content": null,
      "justify_items": null,
      "left": null,
      "margin": null,
      "max_height": null,
      "max_width": null,
      "min_height": null,
      "min_width": null,
      "object_fit": null,
      "object_position": null,
      "order": null,
      "overflow": null,
      "overflow_x": null,
      "overflow_y": null,
      "padding": null,
      "right": null,
      "top": null,
      "visibility": null,
      "width": null
     }
    },
    "e608eee4ccec441fb6f5e68d9eb4e254": {
     "model_module": "@jupyter-widgets/controls",
     "model_module_version": "1.5.0",
     "model_name": "HTMLModel",
     "state": {
      "_dom_classes": [],
      "_model_module": "@jupyter-widgets/controls",
      "_model_module_version": "1.5.0",
      "_model_name": "HTMLModel",
      "_view_count": null,
      "_view_module": "@jupyter-widgets/controls",
      "_view_module_version": "1.5.0",
      "_view_name": "HTMLView",
      "description": "",
      "description_tooltip": null,
      "layout": "IPY_MODEL_97f6252ba4614c3da7032a2845bb4f2c",
      "placeholder": "​",
      "style": "IPY_MODEL_368c96e8f9f84e2eaa90d6a4c483d0f9",
      "value": "100%"
     }
    },
    "e6ef729fa45e4b7aa84e60a2fa166db5": {
     "model_module": "@jupyter-widgets/controls",
     "model_module_version": "1.5.0",
     "model_name": "DescriptionStyleModel",
     "state": {
      "_model_module": "@jupyter-widgets/controls",
      "_model_module_version": "1.5.0",
      "_model_name": "DescriptionStyleModel",
      "_view_count": null,
      "_view_module": "@jupyter-widgets/base",
      "_view_module_version": "1.2.0",
      "_view_name": "StyleView",
      "description_width": ""
     }
    },
    "ea980ec6d7c04c2ab410c75aca1c2aa5": {
     "model_module": "@jupyter-widgets/controls",
     "model_module_version": "1.5.0",
     "model_name": "HTMLModel",
     "state": {
      "_dom_classes": [],
      "_model_module": "@jupyter-widgets/controls",
      "_model_module_version": "1.5.0",
      "_model_name": "HTMLModel",
      "_view_count": null,
      "_view_module": "@jupyter-widgets/controls",
      "_view_module_version": "1.5.0",
      "_view_name": "HTMLView",
      "description": "",
      "description_tooltip": null,
      "layout": "IPY_MODEL_f50250a1efc641fb817be7f715ea3b22",
      "placeholder": "​",
      "style": "IPY_MODEL_dcfa1cb9db7941a3b74be43d1376472d",
      "value": " 1/1 [00:00&lt;00:00,  1.72it/s]"
     }
    },
    "ee95016b8e894e8c9a64df35fbcd9811": {
     "model_module": "@jupyter-widgets/controls",
     "model_module_version": "1.5.0",
     "model_name": "DescriptionStyleModel",
     "state": {
      "_model_module": "@jupyter-widgets/controls",
      "_model_module_version": "1.5.0",
      "_model_name": "DescriptionStyleModel",
      "_view_count": null,
      "_view_module": "@jupyter-widgets/base",
      "_view_module_version": "1.2.0",
      "_view_name": "StyleView",
      "description_width": ""
     }
    },
    "eec310268a7f4d1d91f54a3e6cfb4f4b": {
     "model_module": "@jupyter-widgets/base",
     "model_module_version": "1.2.0",
     "model_name": "LayoutModel",
     "state": {
      "_model_module": "@jupyter-widgets/base",
      "_model_module_version": "1.2.0",
      "_model_name": "LayoutModel",
      "_view_count": null,
      "_view_module": "@jupyter-widgets/base",
      "_view_module_version": "1.2.0",
      "_view_name": "LayoutView",
      "align_content": null,
      "align_items": null,
      "align_self": null,
      "border": null,
      "bottom": null,
      "display": null,
      "flex": null,
      "flex_flow": null,
      "grid_area": null,
      "grid_auto_columns": null,
      "grid_auto_flow": null,
      "grid_auto_rows": null,
      "grid_column": null,
      "grid_gap": null,
      "grid_row": null,
      "grid_template_areas": null,
      "grid_template_columns": null,
      "grid_template_rows": null,
      "height": null,
      "justify_content": null,
      "justify_items": null,
      "left": null,
      "margin": null,
      "max_height": null,
      "max_width": null,
      "min_height": null,
      "min_width": null,
      "object_fit": null,
      "object_position": null,
      "order": null,
      "overflow": null,
      "overflow_x": null,
      "overflow_y": null,
      "padding": null,
      "right": null,
      "top": null,
      "visibility": null,
      "width": null
     }
    },
    "f38fc1f9394c47a792ada9ca13fc27c0": {
     "model_module": "@jupyter-widgets/controls",
     "model_module_version": "1.5.0",
     "model_name": "DescriptionStyleModel",
     "state": {
      "_model_module": "@jupyter-widgets/controls",
      "_model_module_version": "1.5.0",
      "_model_name": "DescriptionStyleModel",
      "_view_count": null,
      "_view_module": "@jupyter-widgets/base",
      "_view_module_version": "1.2.0",
      "_view_name": "StyleView",
      "description_width": ""
     }
    },
    "f50250a1efc641fb817be7f715ea3b22": {
     "model_module": "@jupyter-widgets/base",
     "model_module_version": "1.2.0",
     "model_name": "LayoutModel",
     "state": {
      "_model_module": "@jupyter-widgets/base",
      "_model_module_version": "1.2.0",
      "_model_name": "LayoutModel",
      "_view_count": null,
      "_view_module": "@jupyter-widgets/base",
      "_view_module_version": "1.2.0",
      "_view_name": "LayoutView",
      "align_content": null,
      "align_items": null,
      "align_self": null,
      "border": null,
      "bottom": null,
      "display": null,
      "flex": null,
      "flex_flow": null,
      "grid_area": null,
      "grid_auto_columns": null,
      "grid_auto_flow": null,
      "grid_auto_rows": null,
      "grid_column": null,
      "grid_gap": null,
      "grid_row": null,
      "grid_template_areas": null,
      "grid_template_columns": null,
      "grid_template_rows": null,
      "height": null,
      "justify_content": null,
      "justify_items": null,
      "left": null,
      "margin": null,
      "max_height": null,
      "max_width": null,
      "min_height": null,
      "min_width": null,
      "object_fit": null,
      "object_position": null,
      "order": null,
      "overflow": null,
      "overflow_x": null,
      "overflow_y": null,
      "padding": null,
      "right": null,
      "top": null,
      "visibility": null,
      "width": null
     }
    },
    "f50accf64c584ff68faecce15e9dc3b2": {
     "model_module": "@jupyter-widgets/controls",
     "model_module_version": "1.5.0",
     "model_name": "HTMLModel",
     "state": {
      "_dom_classes": [],
      "_model_module": "@jupyter-widgets/controls",
      "_model_module_version": "1.5.0",
      "_model_name": "HTMLModel",
      "_view_count": null,
      "_view_module": "@jupyter-widgets/controls",
      "_view_module_version": "1.5.0",
      "_view_name": "HTMLView",
      "description": "",
      "description_tooltip": null,
      "layout": "IPY_MODEL_1dec3742380847dba5314d6f035fcd9b",
      "placeholder": "​",
      "style": "IPY_MODEL_70c331d2e4924b89a81b1893b07125e8",
      "value": " 1/1 [00:00&lt;00:00,  1.77it/s]"
     }
    },
    "f6d5dafc1c20402183e1fc1174826f70": {
     "model_module": "@jupyter-widgets/base",
     "model_module_version": "1.2.0",
     "model_name": "LayoutModel",
     "state": {
      "_model_module": "@jupyter-widgets/base",
      "_model_module_version": "1.2.0",
      "_model_name": "LayoutModel",
      "_view_count": null,
      "_view_module": "@jupyter-widgets/base",
      "_view_module_version": "1.2.0",
      "_view_name": "LayoutView",
      "align_content": null,
      "align_items": null,
      "align_self": null,
      "border": null,
      "bottom": null,
      "display": null,
      "flex": null,
      "flex_flow": null,
      "grid_area": null,
      "grid_auto_columns": null,
      "grid_auto_flow": null,
      "grid_auto_rows": null,
      "grid_column": null,
      "grid_gap": null,
      "grid_row": null,
      "grid_template_areas": null,
      "grid_template_columns": null,
      "grid_template_rows": null,
      "height": null,
      "justify_content": null,
      "justify_items": null,
      "left": null,
      "margin": null,
      "max_height": null,
      "max_width": null,
      "min_height": null,
      "min_width": null,
      "object_fit": null,
      "object_position": null,
      "order": null,
      "overflow": null,
      "overflow_x": null,
      "overflow_y": null,
      "padding": null,
      "right": null,
      "top": null,
      "visibility": null,
      "width": null
     }
    },
    "f792f0e168974a98b46a2b508b571521": {
     "model_module": "@jupyter-widgets/controls",
     "model_module_version": "1.5.0",
     "model_name": "HBoxModel",
     "state": {
      "_dom_classes": [],
      "_model_module": "@jupyter-widgets/controls",
      "_model_module_version": "1.5.0",
      "_model_name": "HBoxModel",
      "_view_count": null,
      "_view_module": "@jupyter-widgets/controls",
      "_view_module_version": "1.5.0",
      "_view_name": "HBoxView",
      "box_style": "",
      "children": [
       "IPY_MODEL_7b03fa75a6124578bbc22fb8ab5b406a",
       "IPY_MODEL_7b086003b46e4536aabc82032882a947",
       "IPY_MODEL_ffced1375fcf4beea980bb4314fbb8f8"
      ],
      "layout": "IPY_MODEL_bb18583e8a184d07b70ab80355e59c62"
     }
    },
    "f81f0c1a16074de8b1a48f6020eda158": {
     "model_module": "@jupyter-widgets/controls",
     "model_module_version": "1.5.0",
     "model_name": "ProgressStyleModel",
     "state": {
      "_model_module": "@jupyter-widgets/controls",
      "_model_module_version": "1.5.0",
      "_model_name": "ProgressStyleModel",
      "_view_count": null,
      "_view_module": "@jupyter-widgets/base",
      "_view_module_version": "1.2.0",
      "_view_name": "StyleView",
      "bar_color": null,
      "description_width": ""
     }
    },
    "f94616abd2c2458982636ee87c7c4eaf": {
     "model_module": "@jupyter-widgets/controls",
     "model_module_version": "1.5.0",
     "model_name": "HTMLModel",
     "state": {
      "_dom_classes": [],
      "_model_module": "@jupyter-widgets/controls",
      "_model_module_version": "1.5.0",
      "_model_name": "HTMLModel",
      "_view_count": null,
      "_view_module": "@jupyter-widgets/controls",
      "_view_module_version": "1.5.0",
      "_view_name": "HTMLView",
      "description": "",
      "description_tooltip": null,
      "layout": "IPY_MODEL_5a6eb57e0ac2462397c1afa1cdb6ea71",
      "placeholder": "​",
      "style": "IPY_MODEL_5716cd54b2154d4aaf9e11b6c45fff6d",
      "value": " 1/1 [00:00&lt;00:00,  2.73it/s]"
     }
    },
    "fcb7c826b7214abcaff934ec1b207124": {
     "model_module": "@jupyter-widgets/base",
     "model_module_version": "1.2.0",
     "model_name": "LayoutModel",
     "state": {
      "_model_module": "@jupyter-widgets/base",
      "_model_module_version": "1.2.0",
      "_model_name": "LayoutModel",
      "_view_count": null,
      "_view_module": "@jupyter-widgets/base",
      "_view_module_version": "1.2.0",
      "_view_name": "LayoutView",
      "align_content": null,
      "align_items": null,
      "align_self": null,
      "border": null,
      "bottom": null,
      "display": null,
      "flex": null,
      "flex_flow": null,
      "grid_area": null,
      "grid_auto_columns": null,
      "grid_auto_flow": null,
      "grid_auto_rows": null,
      "grid_column": null,
      "grid_gap": null,
      "grid_row": null,
      "grid_template_areas": null,
      "grid_template_columns": null,
      "grid_template_rows": null,
      "height": null,
      "justify_content": null,
      "justify_items": null,
      "left": null,
      "margin": null,
      "max_height": null,
      "max_width": null,
      "min_height": null,
      "min_width": null,
      "object_fit": null,
      "object_position": null,
      "order": null,
      "overflow": null,
      "overflow_x": null,
      "overflow_y": null,
      "padding": null,
      "right": null,
      "top": null,
      "visibility": null,
      "width": null
     }
    },
    "ffbd947bb87442c3815c90fab84260fb": {
     "model_module": "@jupyter-widgets/controls",
     "model_module_version": "1.5.0",
     "model_name": "HTMLModel",
     "state": {
      "_dom_classes": [],
      "_model_module": "@jupyter-widgets/controls",
      "_model_module_version": "1.5.0",
      "_model_name": "HTMLModel",
      "_view_count": null,
      "_view_module": "@jupyter-widgets/controls",
      "_view_module_version": "1.5.0",
      "_view_name": "HTMLView",
      "description": "",
      "description_tooltip": null,
      "layout": "IPY_MODEL_ac6996b8e39542be9af6ab798bc242fa",
      "placeholder": "​",
      "style": "IPY_MODEL_52e2fd39a5fb4401a09735f4029e8b4c",
      "value": "100%"
     }
    },
    "ffced1375fcf4beea980bb4314fbb8f8": {
     "model_module": "@jupyter-widgets/controls",
     "model_module_version": "1.5.0",
     "model_name": "HTMLModel",
     "state": {
      "_dom_classes": [],
      "_model_module": "@jupyter-widgets/controls",
      "_model_module_version": "1.5.0",
      "_model_name": "HTMLModel",
      "_view_count": null,
      "_view_module": "@jupyter-widgets/controls",
      "_view_module_version": "1.5.0",
      "_view_name": "HTMLView",
      "description": "",
      "description_tooltip": null,
      "layout": "IPY_MODEL_b4dc67b4d76b43388574d70bdc4ff262",
      "placeholder": "​",
      "style": "IPY_MODEL_c43924a4be674468bdcaa2b04985bb0f",
      "value": " 1/1 [00:00&lt;00:00,  1.76it/s]"
     }
    }
   }
  }
 },
 "nbformat": 4,
 "nbformat_minor": 4
}
