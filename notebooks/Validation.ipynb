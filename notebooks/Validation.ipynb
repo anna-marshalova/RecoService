{
 "cells": [
  {
   "cell_type": "code",
   "execution_count": 1,
   "id": "ee5d4f15-b89d-4718-bea6-46b11d0d45b5",
   "metadata": {},
   "outputs": [],
   "source": [
    "!pip -q install rectools"
   ]
  },
  {
   "cell_type": "code",
   "execution_count": 2,
   "id": "b35b8075-3d92-4347-9f16-8fc0b0333684",
   "metadata": {},
   "outputs": [],
   "source": [
    "import time\n",
    "import numpy as np\n",
    "import pandas as pd\n",
    "from copy import deepcopy, copy\n",
    "from tqdm.auto import tqdm\n",
    "from IPython.display import display, HTML\n",
    "from typing import Dict, List, Tuple, Union, Callable, Any"
   ]
  },
  {
   "cell_type": "code",
   "execution_count": 3,
   "id": "48f110e6-5dfb-4c7d-a4fd-6dd2de2921de",
   "metadata": {},
   "outputs": [],
   "source": [
    "import rectools\n",
    "from rectools.dataset import Interactions, Dataset, DenseFeatures\n",
    "from rectools.model_selection import Splitter, TimeRangeSplitter\n",
    "from rectools.models.base import ModelBase\n",
    "from rectools.models import RandomModel, PopularModel\n",
    "from rectools.metrics.base import MetricAtK\n",
    "from rectools.metrics import (\n",
    "    Precision,\n",
    "    Recall,\n",
    "    MAP,\n",
    "    NDCG,\n",
    "    Serendipity,\n",
    "    MeanInvUserFreq,\n",
    "    IntraListDiversity,\n",
    "    PairwiseHammingDistanceCalculator,\n",
    "    calc_metrics,\n",
    ")"
   ]
  },
  {
   "cell_type": "markdown",
   "id": "3fb403ce-2e75-480f-a43b-18bb5c6b92f5",
   "metadata": {},
   "source": [
    "# Validation"
   ]
  },
  {
   "cell_type": "code",
   "execution_count": 4,
   "id": "f5aafbbb-54bd-4bbc-8342-28267361ed99",
   "metadata": {},
   "outputs": [],
   "source": [
    "def add_thresholds(metrics: Dict[str, Union[Callable, Tuple[Callable, Dict[str, Any]]]], K: List[int]):\n",
    "    metrics_with_thresholds = {}\n",
    "    for name, metric in metrics.items():\n",
    "        kwargs = {}\n",
    "        if isinstance(metric, tuple):\n",
    "            kwargs.update(**metric[1])\n",
    "            metric = metric[0]\n",
    "        for k in K:\n",
    "            metrics_with_thresholds.update({f\"{name}@{k}\": metric(k=k, **kwargs)})\n",
    "    return metrics_with_thresholds"
   ]
  },
  {
   "cell_type": "code",
   "execution_count": 5,
   "id": "07ada008-8782-4fcb-aed9-50b6608b2ba7",
   "metadata": {},
   "outputs": [],
   "source": [
    "def calc_coverage(reco):\n",
    "    return reco.item_id.nunique() / len(reco)"
   ]
  },
  {
   "cell_type": "code",
   "execution_count": 6,
   "id": "d2630ebc-17cd-4349-b961-b97eaf286cab",
   "metadata": {},
   "outputs": [],
   "source": [
    "def cross_val(\n",
    "    dataset: pd.DataFrame,\n",
    "    models: Dict[str, ModelBase],\n",
    "    metrics: Dict[str, Union[MetricAtK, Callable]],\n",
    "    splitter: Splitter,\n",
    "    k: int,\n",
    "    num_splits: int = 0,\n",
    "):\n",
    "    rectool_metrics = {k: v for k, v in metrics.items() if isinstance(v, MetricAtK)}\n",
    "    custom_metrics = {k: v for k, v in metrics.items() if k not in rectool_metrics}\n",
    "    metric_values = []\n",
    "    interactions = Interactions(dataset)\n",
    "    pbar = tqdm(total=len(models) * num_splits)\n",
    "    pbar.set_description(f\"splitting\")\n",
    "    splits = splitter.split(interactions)\n",
    "    for train_ids, test_ids, i in splits:\n",
    "        num_fold = i[\"i_split\"]\n",
    "        train = Dataset.construct(dataset.iloc[train_ids])\n",
    "        test = Dataset.construct(dataset.iloc[test_ids])\n",
    "        prev_interactions = train.interactions.df\n",
    "        for model_name, orig_model in models.items():\n",
    "            pbar_prefix = f\"fold {num_fold}, {model_name}\"\n",
    "            pbar.set_description(f\"{pbar_prefix} training\")\n",
    "            model = deepcopy(orig_model)\n",
    "            start = time.time()\n",
    "            model.fit(train)\n",
    "            end = time.time()\n",
    "            pbar.set_description(f\"{pbar_prefix} predicting\")\n",
    "            reco = model.recommend(test.user_id_map.external_ids, train, k, True)\n",
    "            del model\n",
    "            pbar.set_description(f\"{pbar_prefix} evaluating\")\n",
    "            cur_metrics = {\n",
    "                \"model\": model_name,\n",
    "                \"time\": end - start,\n",
    "                **calc_metrics(\n",
    "                    rectool_metrics,\n",
    "                    reco=reco,\n",
    "                    interactions=test.interactions.df,\n",
    "                    prev_interactions=train.interactions.df,\n",
    "                ),\n",
    "            }\n",
    "            for name, metric in custom_metrics.items():\n",
    "                cur_metrics.update({name: metric(reco)})\n",
    "            metric_values.append(cur_metrics)\n",
    "            pbar.update(1)\n",
    "    pbar.close()\n",
    "    return pd.DataFrame(metric_values).groupby(\"model\").mean()"
   ]
  },
  {
   "cell_type": "code",
   "execution_count": 7,
   "id": "b6987d86-17ab-4d7e-9a21-f8ff0d639d82",
   "metadata": {},
   "outputs": [],
   "source": [
    "interactions_df = pd.read_csv(\"../kion_train/interactions.csv\", parse_dates=[\"last_watch_dt\"])\n",
    "interactions_df.rename(\n",
    "    columns={\"last_watch_dt\": rectools.Columns.Datetime, \"total_dur\": rectools.Columns.Weight}, inplace=True\n",
    ")\n",
    "interactions = Interactions(interactions_df)"
   ]
  },
  {
   "cell_type": "code",
   "execution_count": 8,
   "id": "38d2a9d0-e114-467d-b47b-fc92a58b9dca",
   "metadata": {},
   "outputs": [
    {
     "data": {
      "text/plain": [
       "{'precision@1': Precision(k=1),\n",
       " 'precision@5': Precision(k=5),\n",
       " 'precision@10': Precision(k=10),\n",
       " 'recall@1': Recall(k=1),\n",
       " 'recall@5': Recall(k=5),\n",
       " 'recall@10': Recall(k=10),\n",
       " 'MAP@1': MAP(k=1, divide_by_k=False),\n",
       " 'MAP@5': MAP(k=5, divide_by_k=False),\n",
       " 'MAP@10': MAP(k=10, divide_by_k=False),\n",
       " 'NDCG@1': NDCG(k=1, log_base=2),\n",
       " 'NDCG@5': NDCG(k=5, log_base=2),\n",
       " 'NDCG@10': NDCG(k=10, log_base=2),\n",
       " 'novelty@1': MeanInvUserFreq(k=1),\n",
       " 'novelty@5': MeanInvUserFreq(k=5),\n",
       " 'novelty@10': MeanInvUserFreq(k=10),\n",
       " 'coverage': <function __main__.calc_coverage(reco)>}"
      ]
     },
     "execution_count": 8,
     "metadata": {},
     "output_type": "execute_result"
    }
   ],
   "source": [
    "metrics = add_thresholds(\n",
    "    {\n",
    "        \"precision\": Precision,\n",
    "        \"recall\": Recall,\n",
    "        \"MAP\": MAP,\n",
    "        \"NDCG\": NDCG,\n",
    "        \"novelty\": MeanInvUserFreq,\n",
    "    },\n",
    "    [1, 5, 10],\n",
    ")\n",
    "metrics.update({\"coverage\": calc_coverage})\n",
    "metrics"
   ]
  },
  {
   "cell_type": "code",
   "execution_count": 9,
   "id": "abbbef67-45fd-43c5-8a61-86a8ab02b7c8",
   "metadata": {
    "scrolled": true
   },
   "outputs": [
    {
     "data": {
      "application/vnd.jupyter.widget-view+json": {
       "model_id": "7e4fd6a6492f47b9a72d50e6cc388841",
       "version_major": 2,
       "version_minor": 0
      },
      "text/plain": [
       "  0%|          | 0/6 [00:00<?, ?it/s]"
      ]
     },
     "metadata": {},
     "output_type": "display_data"
    }
   ],
   "source": [
    "NUM_RECOS = 10\n",
    "NUM_SPLITS = 3\n",
    "SEED = 32\n",
    "splitter = rectools.model_selection.time_split.TimeRangeSplitter(\"1D\", NUM_SPLITS)\n",
    "models = {\"random\": RandomModel(random_state=SEED), \"popular\": PopularModel()}\n",
    "\n",
    "results = cross_val(interactions_df, models, metrics, splitter, NUM_RECOS, num_splits=NUM_SPLITS)"
   ]
  },
  {
   "cell_type": "code",
   "execution_count": 10,
   "id": "14c32397-39c4-45ec-89e8-7bb285f3b0e5",
   "metadata": {},
   "outputs": [
    {
     "data": {
      "text/html": [
       "<div>\n",
       "<style scoped>\n",
       "    .dataframe tbody tr th:only-of-type {\n",
       "        vertical-align: middle;\n",
       "    }\n",
       "\n",
       "    .dataframe tbody tr th {\n",
       "        vertical-align: top;\n",
       "    }\n",
       "\n",
       "    .dataframe thead th {\n",
       "        text-align: right;\n",
       "    }\n",
       "</style>\n",
       "<table border=\"1\" class=\"dataframe\">\n",
       "  <thead>\n",
       "    <tr style=\"text-align: right;\">\n",
       "      <th></th>\n",
       "      <th>time</th>\n",
       "      <th>precision@1</th>\n",
       "      <th>recall@1</th>\n",
       "      <th>precision@5</th>\n",
       "      <th>recall@5</th>\n",
       "      <th>precision@10</th>\n",
       "      <th>recall@10</th>\n",
       "      <th>NDCG@1</th>\n",
       "      <th>NDCG@5</th>\n",
       "      <th>NDCG@10</th>\n",
       "      <th>MAP@1</th>\n",
       "      <th>MAP@5</th>\n",
       "      <th>MAP@10</th>\n",
       "      <th>novelty@1</th>\n",
       "      <th>novelty@5</th>\n",
       "      <th>novelty@10</th>\n",
       "      <th>coverage</th>\n",
       "    </tr>\n",
       "    <tr>\n",
       "      <th>model</th>\n",
       "      <th></th>\n",
       "      <th></th>\n",
       "      <th></th>\n",
       "      <th></th>\n",
       "      <th></th>\n",
       "      <th></th>\n",
       "      <th></th>\n",
       "      <th></th>\n",
       "      <th></th>\n",
       "      <th></th>\n",
       "      <th></th>\n",
       "      <th></th>\n",
       "      <th></th>\n",
       "      <th></th>\n",
       "      <th></th>\n",
       "      <th></th>\n",
       "      <th></th>\n",
       "    </tr>\n",
       "  </thead>\n",
       "  <tbody>\n",
       "    <tr>\n",
       "      <th>popular</th>\n",
       "      <td>2.485084</td>\n",
       "      <td>0.0</td>\n",
       "      <td>0.0</td>\n",
       "      <td>0.0</td>\n",
       "      <td>0.0</td>\n",
       "      <td>0.000001</td>\n",
       "      <td>0.000003</td>\n",
       "      <td>0.0</td>\n",
       "      <td>0.0</td>\n",
       "      <td>7.181475e-07</td>\n",
       "      <td>0.0</td>\n",
       "      <td>0.0</td>\n",
       "      <td>4.309706e-07</td>\n",
       "      <td>16.810539</td>\n",
       "      <td>16.168155</td>\n",
       "      <td>15.207510</td>\n",
       "      <td>0.000110</td>\n",
       "    </tr>\n",
       "    <tr>\n",
       "      <th>random</th>\n",
       "      <td>0.000087</td>\n",
       "      <td>0.0</td>\n",
       "      <td>0.0</td>\n",
       "      <td>0.0</td>\n",
       "      <td>0.0</td>\n",
       "      <td>0.000002</td>\n",
       "      <td>0.000011</td>\n",
       "      <td>0.0</td>\n",
       "      <td>0.0</td>\n",
       "      <td>1.505503e-06</td>\n",
       "      <td>0.0</td>\n",
       "      <td>0.0</td>\n",
       "      <td>1.401207e-06</td>\n",
       "      <td>15.861961</td>\n",
       "      <td>15.860099</td>\n",
       "      <td>15.860982</td>\n",
       "      <td>0.049638</td>\n",
       "    </tr>\n",
       "  </tbody>\n",
       "</table>\n",
       "</div>"
      ],
      "text/plain": [
       "             time  precision@1  recall@1  precision@5  recall@5  precision@10  \\\n",
       "model                                                                           \n",
       "popular  2.485084          0.0       0.0          0.0       0.0      0.000001   \n",
       "random   0.000087          0.0       0.0          0.0       0.0      0.000002   \n",
       "\n",
       "         recall@10  NDCG@1  NDCG@5       NDCG@10  MAP@1  MAP@5        MAP@10  \\\n",
       "model                                                                          \n",
       "popular   0.000003     0.0     0.0  7.181475e-07    0.0    0.0  4.309706e-07   \n",
       "random    0.000011     0.0     0.0  1.505503e-06    0.0    0.0  1.401207e-06   \n",
       "\n",
       "         novelty@1  novelty@5  novelty@10  coverage  \n",
       "model                                                \n",
       "popular  16.810539  16.168155   15.207510  0.000110  \n",
       "random   15.861961  15.860099   15.860982  0.049638  "
      ]
     },
     "execution_count": 10,
     "metadata": {},
     "output_type": "execute_result"
    }
   ],
   "source": [
    "results"
   ]
  },
  {
   "cell_type": "markdown",
   "id": "58508752-8c7b-4c4c-a56f-5f25516220cf",
   "metadata": {},
   "source": [
    "# Visualization"
   ]
  },
  {
   "cell_type": "code",
   "execution_count": 11,
   "id": "eaae50b6-bdb2-468a-aa1b-4069516745e9",
   "metadata": {},
   "outputs": [],
   "source": [
    "class Visualizer:\n",
    "    def __init__(\n",
    "        self,\n",
    "        model: ModelBase,\n",
    "        dataset: Dataset,\n",
    "        item_data: List[str] = [\"title\"],\n",
    "        items: Union[pd.DataFrame, None] = None,\n",
    "        items_df_path: str = \"../kion_train/items.csv\",\n",
    "    ):\n",
    "        self.model = model\n",
    "        self.dataset = dataset\n",
    "        if items is None:\n",
    "            self.items = pd.read_csv(items_df_path)\n",
    "        else:\n",
    "            self.items = items\n",
    "        for d in item_data:\n",
    "            assert (\n",
    "                d in self.items.columns\n",
    "            ), f'Unknown column \"{d}\". Can only visualize information about {\", \".join(self.items.columns)}.'\n",
    "        self.item_data = item_data\n",
    "\n",
    "    def display_item_data(self, interactions):\n",
    "        return pd.merge(interactions, self.items)[[\"user_id\"] + self.item_data]\n",
    "\n",
    "    def pretty_print(self, df):\n",
    "        display(HTML(df.to_html()))\n",
    "\n",
    "    def get_reco(self, user_ids: List[int], k: int = 10):\n",
    "        reco = self.model.recommend(np.array(user_ids), self.dataset, k, True)\n",
    "        return self.display_item_data(reco)\n",
    "\n",
    "    def get_history(self, user_ids: List[int]):\n",
    "        df = self.dataset.interactions.df\n",
    "        history = df[df.user_id.isin(user_ids)]\n",
    "        return self.display_item_data(history)\n",
    "\n",
    "    def analyse_recos(self, user_ids: List[int]):\n",
    "        for user_id in user_ids:\n",
    "            print(f\"User {user_id} watched these film:\")\n",
    "            self.pretty_print(self.get_history([user_id]))\n",
    "            print(f\"And got these films as recomendations\")\n",
    "            self.pretty_print(self.get_reco([user_id]))\n",
    "            print(\"\\n\")"
   ]
  },
  {
   "cell_type": "code",
   "execution_count": 12,
   "id": "8e8fc832-d730-49cd-bd4f-7763b944c70e",
   "metadata": {},
   "outputs": [],
   "source": [
    "items = pd.read_csv(\"../kion_train/items.csv\")"
   ]
  },
  {
   "cell_type": "code",
   "execution_count": 13,
   "id": "e1ad8e2d-9941-4c9f-b657-9a562f9de1bf",
   "metadata": {},
   "outputs": [],
   "source": [
    "model = RandomModel(random_state=32)\n",
    "dataset = Dataset.construct(interactions_df)\n",
    "model.fit(dataset)\n",
    "USER_IDS = [666262, 672861, 955527]"
   ]
  },
  {
   "cell_type": "code",
   "execution_count": 14,
   "id": "88053131-6d71-44c2-b77b-63ceaa77a685",
   "metadata": {},
   "outputs": [
    {
     "name": "stdout",
     "output_type": "stream",
     "text": [
      "User 666262 watched these film:\n"
     ]
    },
    {
     "data": {
      "text/html": [
       "<table border=\"1\" class=\"dataframe\">\n",
       "  <thead>\n",
       "    <tr style=\"text-align: right;\">\n",
       "      <th></th>\n",
       "      <th>user_id</th>\n",
       "      <th>title</th>\n",
       "      <th>genres</th>\n",
       "    </tr>\n",
       "  </thead>\n",
       "  <tbody>\n",
       "    <tr>\n",
       "      <th>0</th>\n",
       "      <td>666262</td>\n",
       "      <td>Дом ночных призраков</td>\n",
       "      <td>зарубежные, криминал, детективы, ужасы</td>\n",
       "    </tr>\n",
       "  </tbody>\n",
       "</table>"
      ],
      "text/plain": [
       "<IPython.core.display.HTML object>"
      ]
     },
     "metadata": {},
     "output_type": "display_data"
    },
    {
     "name": "stdout",
     "output_type": "stream",
     "text": [
      "And got these films as recomendations\n"
     ]
    },
    {
     "data": {
      "text/html": [
       "<table border=\"1\" class=\"dataframe\">\n",
       "  <thead>\n",
       "    <tr style=\"text-align: right;\">\n",
       "      <th></th>\n",
       "      <th>user_id</th>\n",
       "      <th>title</th>\n",
       "      <th>genres</th>\n",
       "    </tr>\n",
       "  </thead>\n",
       "  <tbody>\n",
       "    <tr>\n",
       "      <th>0</th>\n",
       "      <td>666262</td>\n",
       "      <td>Возвращение Будулая</td>\n",
       "      <td>мелодрамы</td>\n",
       "    </tr>\n",
       "    <tr>\n",
       "      <th>1</th>\n",
       "      <td>666262</td>\n",
       "      <td>Новые приключения Аладдина (жестовым языком)</td>\n",
       "      <td>зарубежные, комедии</td>\n",
       "    </tr>\n",
       "    <tr>\n",
       "      <th>2</th>\n",
       "      <td>666262</td>\n",
       "      <td>Пропавшая грамота</td>\n",
       "      <td>фэнтези, комедии</td>\n",
       "    </tr>\n",
       "    <tr>\n",
       "      <th>3</th>\n",
       "      <td>666262</td>\n",
       "      <td>Братья вне игры</td>\n",
       "      <td>драмы, спорт</td>\n",
       "    </tr>\n",
       "    <tr>\n",
       "      <th>4</th>\n",
       "      <td>666262</td>\n",
       "      <td>Фрилансеры</td>\n",
       "      <td>криминал, детективы, драмы, зарубежные, боевики</td>\n",
       "    </tr>\n",
       "    <tr>\n",
       "      <th>5</th>\n",
       "      <td>666262</td>\n",
       "      <td>Алые паруса: Новая история</td>\n",
       "      <td>комедии, мелодрамы</td>\n",
       "    </tr>\n",
       "    <tr>\n",
       "      <th>6</th>\n",
       "      <td>666262</td>\n",
       "      <td>Женщина в беде 3</td>\n",
       "      <td>детективы, мелодрамы</td>\n",
       "    </tr>\n",
       "    <tr>\n",
       "      <th>7</th>\n",
       "      <td>666262</td>\n",
       "      <td>Гордость и предубеждение</td>\n",
       "      <td>драмы, мелодрамы</td>\n",
       "    </tr>\n",
       "    <tr>\n",
       "      <th>8</th>\n",
       "      <td>666262</td>\n",
       "      <td>Болванчики</td>\n",
       "      <td>мультфильм, приключения, комедии</td>\n",
       "    </tr>\n",
       "    <tr>\n",
       "      <th>9</th>\n",
       "      <td>666262</td>\n",
       "      <td>Избави нас от лукавого</td>\n",
       "      <td>ужасы, триллеры, детективы</td>\n",
       "    </tr>\n",
       "  </tbody>\n",
       "</table>"
      ],
      "text/plain": [
       "<IPython.core.display.HTML object>"
      ]
     },
     "metadata": {},
     "output_type": "display_data"
    },
    {
     "name": "stdout",
     "output_type": "stream",
     "text": [
      "\n",
      "\n",
      "User 672861 watched these film:\n"
     ]
    },
    {
     "data": {
      "text/html": [
       "<table border=\"1\" class=\"dataframe\">\n",
       "  <thead>\n",
       "    <tr style=\"text-align: right;\">\n",
       "      <th></th>\n",
       "      <th>user_id</th>\n",
       "      <th>title</th>\n",
       "      <th>genres</th>\n",
       "    </tr>\n",
       "  </thead>\n",
       "  <tbody>\n",
       "    <tr>\n",
       "      <th>0</th>\n",
       "      <td>672861</td>\n",
       "      <td>Медвежонок Винни и его друзья</td>\n",
       "      <td>мюзиклы, мультфильм, приключения, комедии</td>\n",
       "    </tr>\n",
       "    <tr>\n",
       "      <th>1</th>\n",
       "      <td>672861</td>\n",
       "      <td>В ритме сердца</td>\n",
       "      <td>драмы, мюзиклы, мелодрамы</td>\n",
       "    </tr>\n",
       "  </tbody>\n",
       "</table>"
      ],
      "text/plain": [
       "<IPython.core.display.HTML object>"
      ]
     },
     "metadata": {},
     "output_type": "display_data"
    },
    {
     "name": "stdout",
     "output_type": "stream",
     "text": [
      "And got these films as recomendations\n"
     ]
    },
    {
     "data": {
      "text/html": [
       "<table border=\"1\" class=\"dataframe\">\n",
       "  <thead>\n",
       "    <tr style=\"text-align: right;\">\n",
       "      <th></th>\n",
       "      <th>user_id</th>\n",
       "      <th>title</th>\n",
       "      <th>genres</th>\n",
       "    </tr>\n",
       "  </thead>\n",
       "  <tbody>\n",
       "    <tr>\n",
       "      <th>0</th>\n",
       "      <td>672861</td>\n",
       "      <td>Возвращение Будулая</td>\n",
       "      <td>мелодрамы</td>\n",
       "    </tr>\n",
       "    <tr>\n",
       "      <th>1</th>\n",
       "      <td>672861</td>\n",
       "      <td>Новые приключения Аладдина (жестовым языком)</td>\n",
       "      <td>зарубежные, комедии</td>\n",
       "    </tr>\n",
       "    <tr>\n",
       "      <th>2</th>\n",
       "      <td>672861</td>\n",
       "      <td>Пропавшая грамота</td>\n",
       "      <td>фэнтези, комедии</td>\n",
       "    </tr>\n",
       "    <tr>\n",
       "      <th>3</th>\n",
       "      <td>672861</td>\n",
       "      <td>Братья вне игры</td>\n",
       "      <td>драмы, спорт</td>\n",
       "    </tr>\n",
       "    <tr>\n",
       "      <th>4</th>\n",
       "      <td>672861</td>\n",
       "      <td>Фрилансеры</td>\n",
       "      <td>криминал, детективы, драмы, зарубежные, боевики</td>\n",
       "    </tr>\n",
       "    <tr>\n",
       "      <th>5</th>\n",
       "      <td>672861</td>\n",
       "      <td>Алые паруса: Новая история</td>\n",
       "      <td>комедии, мелодрамы</td>\n",
       "    </tr>\n",
       "    <tr>\n",
       "      <th>6</th>\n",
       "      <td>672861</td>\n",
       "      <td>Женщина в беде 3</td>\n",
       "      <td>детективы, мелодрамы</td>\n",
       "    </tr>\n",
       "    <tr>\n",
       "      <th>7</th>\n",
       "      <td>672861</td>\n",
       "      <td>Гордость и предубеждение</td>\n",
       "      <td>драмы, мелодрамы</td>\n",
       "    </tr>\n",
       "    <tr>\n",
       "      <th>8</th>\n",
       "      <td>672861</td>\n",
       "      <td>Болванчики</td>\n",
       "      <td>мультфильм, приключения, комедии</td>\n",
       "    </tr>\n",
       "    <tr>\n",
       "      <th>9</th>\n",
       "      <td>672861</td>\n",
       "      <td>Избави нас от лукавого</td>\n",
       "      <td>ужасы, триллеры, детективы</td>\n",
       "    </tr>\n",
       "  </tbody>\n",
       "</table>"
      ],
      "text/plain": [
       "<IPython.core.display.HTML object>"
      ]
     },
     "metadata": {},
     "output_type": "display_data"
    },
    {
     "name": "stdout",
     "output_type": "stream",
     "text": [
      "\n",
      "\n",
      "User 955527 watched these film:\n"
     ]
    },
    {
     "data": {
      "text/html": [
       "<table border=\"1\" class=\"dataframe\">\n",
       "  <thead>\n",
       "    <tr style=\"text-align: right;\">\n",
       "      <th></th>\n",
       "      <th>user_id</th>\n",
       "      <th>title</th>\n",
       "      <th>genres</th>\n",
       "    </tr>\n",
       "  </thead>\n",
       "  <tbody>\n",
       "    <tr>\n",
       "      <th>0</th>\n",
       "      <td>955527</td>\n",
       "      <td>Признание 5</td>\n",
       "      <td>для взрослых</td>\n",
       "    </tr>\n",
       "  </tbody>\n",
       "</table>"
      ],
      "text/plain": [
       "<IPython.core.display.HTML object>"
      ]
     },
     "metadata": {},
     "output_type": "display_data"
    },
    {
     "name": "stdout",
     "output_type": "stream",
     "text": [
      "And got these films as recomendations\n"
     ]
    },
    {
     "data": {
      "text/html": [
       "<table border=\"1\" class=\"dataframe\">\n",
       "  <thead>\n",
       "    <tr style=\"text-align: right;\">\n",
       "      <th></th>\n",
       "      <th>user_id</th>\n",
       "      <th>title</th>\n",
       "      <th>genres</th>\n",
       "    </tr>\n",
       "  </thead>\n",
       "  <tbody>\n",
       "    <tr>\n",
       "      <th>0</th>\n",
       "      <td>955527</td>\n",
       "      <td>Возвращение Будулая</td>\n",
       "      <td>мелодрамы</td>\n",
       "    </tr>\n",
       "    <tr>\n",
       "      <th>1</th>\n",
       "      <td>955527</td>\n",
       "      <td>Новые приключения Аладдина (жестовым языком)</td>\n",
       "      <td>зарубежные, комедии</td>\n",
       "    </tr>\n",
       "    <tr>\n",
       "      <th>2</th>\n",
       "      <td>955527</td>\n",
       "      <td>Пропавшая грамота</td>\n",
       "      <td>фэнтези, комедии</td>\n",
       "    </tr>\n",
       "    <tr>\n",
       "      <th>3</th>\n",
       "      <td>955527</td>\n",
       "      <td>Братья вне игры</td>\n",
       "      <td>драмы, спорт</td>\n",
       "    </tr>\n",
       "    <tr>\n",
       "      <th>4</th>\n",
       "      <td>955527</td>\n",
       "      <td>Фрилансеры</td>\n",
       "      <td>криминал, детективы, драмы, зарубежные, боевики</td>\n",
       "    </tr>\n",
       "    <tr>\n",
       "      <th>5</th>\n",
       "      <td>955527</td>\n",
       "      <td>Алые паруса: Новая история</td>\n",
       "      <td>комедии, мелодрамы</td>\n",
       "    </tr>\n",
       "    <tr>\n",
       "      <th>6</th>\n",
       "      <td>955527</td>\n",
       "      <td>Женщина в беде 3</td>\n",
       "      <td>детективы, мелодрамы</td>\n",
       "    </tr>\n",
       "    <tr>\n",
       "      <th>7</th>\n",
       "      <td>955527</td>\n",
       "      <td>Гордость и предубеждение</td>\n",
       "      <td>драмы, мелодрамы</td>\n",
       "    </tr>\n",
       "    <tr>\n",
       "      <th>8</th>\n",
       "      <td>955527</td>\n",
       "      <td>Болванчики</td>\n",
       "      <td>мультфильм, приключения, комедии</td>\n",
       "    </tr>\n",
       "    <tr>\n",
       "      <th>9</th>\n",
       "      <td>955527</td>\n",
       "      <td>Избави нас от лукавого</td>\n",
       "      <td>ужасы, триллеры, детективы</td>\n",
       "    </tr>\n",
       "  </tbody>\n",
       "</table>"
      ],
      "text/plain": [
       "<IPython.core.display.HTML object>"
      ]
     },
     "metadata": {},
     "output_type": "display_data"
    },
    {
     "name": "stdout",
     "output_type": "stream",
     "text": [
      "\n",
      "\n"
     ]
    }
   ],
   "source": [
    "viz = Visualizer(model, dataset, item_data=[\"title\", \"genres\"], items=items)\n",
    "viz.analyse_recos(USER_IDS)"
   ]
  },
  {
   "cell_type": "code",
   "execution_count": null,
   "id": "c1a72d48-3316-41f9-bb74-8325d7f4d203",
   "metadata": {},
   "outputs": [],
   "source": []
  }
 ],
 "metadata": {
  "kernelspec": {
   "display_name": "Python 3 (ipykernel)",
   "language": "python",
   "name": "python3"
  },
  "language_info": {
   "codemirror_mode": {
    "name": "ipython",
    "version": 3
   },
   "file_extension": ".py",
   "mimetype": "text/x-python",
   "name": "python",
   "nbconvert_exporter": "python",
   "pygments_lexer": "ipython3",
   "version": "3.10.12"
  }
 },
 "nbformat": 4,
 "nbformat_minor": 5
}
